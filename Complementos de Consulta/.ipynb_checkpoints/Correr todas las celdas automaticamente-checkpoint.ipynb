{
 "cells": [
  {
   "cell_type": "code",
   "execution_count": null,
   "metadata": {},
   "outputs": [],
   "source": [
    "%%html\n",
    "<script>\n",
    "// AUTORUN ALL CELLS ON NOTEBOOK-LOAD!\n",
    "require(\n",
    "['base/js/namespace', 'jquery'],\n",
    "function(jupyter, $) {\n",
    "$(jupyter.events).on(\"kernel_ready.Kernel\", function () {\n",
    "console.log(\"Auto-running all cells-below...\");\n",
    "jupyter.actions.call('jupyter-notebook:run-all-cells-below');\n",
    "jupyter.actions.call('jupyter-notebook:save-notebook');\n",
    "});\n",
    "}\n",
    ");\n",
    "</script>"
   ]
  }
 ],
 "metadata": {
  "kernelspec": {
   "display_name": "Python 3",
   "language": "python",
   "name": "python3"
  }
 },
 "nbformat": 4,
 "nbformat_minor": 4
}
