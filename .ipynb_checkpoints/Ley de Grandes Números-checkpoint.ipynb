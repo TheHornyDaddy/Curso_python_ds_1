{
 "cells": [
  {
   "cell_type": "code",
   "execution_count": 14,
   "metadata": {},
   "outputs": [
    {
     "name": "stdout",
     "output_type": "stream",
     "text": [
      "0.69\n"
     ]
    }
   ],
   "source": [
    "import numpy as np\n",
    "from numpy.random import randn\n",
    "N = 100                         # especifica el tamaño de la muestra\n",
    "contador = 0                    # reinicia el contador\n",
    "for i in randn(N):              # itera sobre valores aleatorios\n",
    "    if(i >= -1 and i <= 1):     # revisa dónde cae la variable de la iteración\n",
    "        contador = contador + 1 # incrementa el contador en una unidad si se cumple la ocndición\n",
    "respuesta = contador / N        # calcula el ratio de aciertos\n",
    "print(respuesta)                # imprime la respuesta"
   ]
  },
  {
   "cell_type": "markdown",
   "metadata": {},
   "source": [
    "---"
   ]
  },
  {
   "cell_type": "code",
   "execution_count": 22,
   "metadata": {},
   "outputs": [
    {
     "name": "stdout",
     "output_type": "stream",
     "text": [
      "0.67\n"
     ]
    }
   ],
   "source": [
    "import numpy as np\n",
    "from numpy.random import randn\n",
    "N = 1000                         \n",
    "contador = 0                    \n",
    "for i in range(N): \n",
    "    x=randn()     \n",
    "    if(x >= -1 and x <= 1):     \n",
    "        contador = contador + 1 \n",
    "respuesta = contador / N        \n",
    "print(respuesta)"
   ]
  },
  {
   "cell_type": "code",
   "execution_count": null,
   "metadata": {},
   "outputs": [],
   "source": []
  }
 ],
 "metadata": {
  "kernelspec": {
   "display_name": "Python 3",
   "language": "python",
   "name": "python3"
  },
  "language_info": {
   "codemirror_mode": {
    "name": "ipython",
    "version": 3
   },
   "file_extension": ".py",
   "mimetype": "text/x-python",
   "name": "python",
   "nbconvert_exporter": "python",
   "pygments_lexer": "ipython3",
   "version": "3.7.6"
  }
 },
 "nbformat": 4,
 "nbformat_minor": 4
}
