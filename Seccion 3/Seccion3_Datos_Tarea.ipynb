{
 "cells": [
  {
   "cell_type": "code",
   "execution_count": 1,
   "metadata": {},
   "outputs": [],
   "source": [
    "#Datos\n",
    "ingresos = [14574.49, 7606.46, 8611.41, 9175.41, 8058.65, 8105.44, 11496.28, 9766.09, 10305.32, 14379.96, 10713.97, 15433.50]\n",
    "gastos = [12051.82, 5695.07, 12319.20, 12089.72, 8658.57, 840.20, 3285.73, 5821.12, 6976.93, 16618.61, 10054.37, 3803.96]"
   ]
  },
  {
   "cell_type": "code",
   "execution_count": 6,
   "metadata": {},
   "outputs": [
    {
     "data": {
      "text/plain": [
       "[2522.67,\n",
       " 1911.3900000000003,\n",
       " -3707.790000000001,\n",
       " -2914.3099999999995,\n",
       " -599.9200000000001,\n",
       " 7265.24,\n",
       " 8210.550000000001,\n",
       " 3944.9700000000003,\n",
       " 3328.3899999999994,\n",
       " -2238.6500000000015,\n",
       " 659.5999999999985,\n",
       " 11629.54]"
      ]
     },
     "execution_count": 6,
     "metadata": {},
     "output_type": "execute_result"
    }
   ],
   "source": [
    "# Utilidad: Se define como los ingresos menos los gastos\n",
    "ucm = []\n",
    "\n",
    "for i in range(0,len(ingresos)):\n",
    "    ucm.append(ingresos[i] - gastos[i])\n",
    "ucm"
   ]
  },
  {
   "cell_type": "code",
   "execution_count": 7,
   "metadata": {},
   "outputs": [
    {
     "data": {
      "text/plain": [
       "[3279.471,\n",
       " 2484.8070000000007,\n",
       " -4820.127000000001,\n",
       " -3788.6029999999996,\n",
       " -779.8960000000001,\n",
       " 9444.812,\n",
       " 10673.715000000002,\n",
       " 5128.461,\n",
       " 4326.906999999999,\n",
       " -2910.245000000002,\n",
       " 857.4799999999981,\n",
       " 15118.402000000002]"
      ]
     },
     "execution_count": 7,
     "metadata": {},
     "output_type": "execute_result"
    }
   ],
   "source": [
    "# Utilidad después de impuestos (UDI) para cada mes: tasa de 30%\n",
    "\n",
    "udi_duplicada = [i * 1.30 for i in ucm]\n",
    "udi_duplicada"
   ]
  },
  {
   "cell_type": "code",
   "execution_count": 8,
   "metadata": {},
   "outputs": [
    {
     "data": {
      "text/plain": [
       "[0.22501446019723503,\n",
       " 0.3266706194471542,\n",
       " -0.5597372555713874,\n",
       " -0.41290830600485423,\n",
       " -0.09677749995346617,\n",
       " 1.165243589490515,\n",
       " 0.9284494636525904,\n",
       " 0.5251294018384021,\n",
       " 0.4198711927431656,\n",
       " -0.20238199549929223,\n",
       " 0.08003382499670973,\n",
       " 0.9795835034178898]"
      ]
     },
     "execution_count": 8,
     "metadata": {},
     "output_type": "execute_result"
    }
   ],
   "source": [
    "# Margen de utilidad para cada mes\n",
    "\n",
    "mum = []\n",
    "\n",
    "for i in range(0,len(ingresos)):\n",
    "    mum.append(udi_duplicada[i] / ingresos[i])\n",
    "mum"
   ]
  },
  {
   "cell_type": "code",
   "execution_count": 12,
   "metadata": {},
   "outputs": [
    {
     "data": {
      "text/plain": [
       "3251.2653333333333"
      ]
     },
     "execution_count": 12,
     "metadata": {},
     "output_type": "execute_result"
    }
   ],
   "source": [
    "# Buenos meses: donde la UDI para el mes fue mayor que el promedio del año\n",
    "\n",
    "import numpy as np\n",
    "udi = np.array(udi_duplicada)\n",
    "\n",
    "prom = udi.mean() # Promedio de la UDI del año\n",
    "prom"
   ]
  },
  {
   "cell_type": "code",
   "execution_count": 13,
   "metadata": {},
   "outputs": [
    {
     "name": "stdout",
     "output_type": "stream",
     "text": [
      "3279.471\n",
      "9444.812\n",
      "10673.715000000002\n",
      "5128.461\n",
      "4326.906999999999\n",
      "15118.402000000002\n"
     ]
    }
   ],
   "source": [
    "for i in range(0,len(ingresos)):\n",
    "    if udi_duplicada[i] > prom:\n",
    "        print(udi_duplicada[i])"
   ]
  },
  {
   "cell_type": "code",
   "execution_count": 14,
   "metadata": {},
   "outputs": [
    {
     "name": "stdout",
     "output_type": "stream",
     "text": [
      "2484.8070000000007\n",
      "-4820.127000000001\n",
      "-3788.6029999999996\n",
      "-779.8960000000001\n",
      "-2910.245000000002\n",
      "857.4799999999981\n"
     ]
    }
   ],
   "source": [
    "# Malos meses: donde la UDI para el mes fue menor que el promedio del año\n",
    "\n",
    "for i in range(0,len(ingresos)):\n",
    "    if udi_duplicada[i] < prom:\n",
    "        print(udi_duplicada[i])"
   ]
  },
  {
   "cell_type": "code",
   "execution_count": 16,
   "metadata": {},
   "outputs": [
    {
     "name": "stdout",
     "output_type": "stream",
     "text": [
      "15118.402000000002\n",
      "-4820.127000000001\n"
     ]
    }
   ],
   "source": [
    "# Mejor mes\n",
    "\n",
    "print(max(udi_duplicada))\n",
    "\n",
    "# Peor mes\n",
    "\n",
    "print(min(udi_duplicada))"
   ]
  }
 ],
 "metadata": {
  "kernelspec": {
   "display_name": "Python 3",
   "language": "python",
   "name": "python3"
  },
  "language_info": {
   "codemirror_mode": {
    "name": "ipython",
    "version": 3
   },
   "file_extension": ".py",
   "mimetype": "text/x-python",
   "name": "python",
   "nbconvert_exporter": "python",
   "pygments_lexer": "ipython3",
   "version": "3.7.6"
  }
 },
 "nbformat": 4,
 "nbformat_minor": 1
}
