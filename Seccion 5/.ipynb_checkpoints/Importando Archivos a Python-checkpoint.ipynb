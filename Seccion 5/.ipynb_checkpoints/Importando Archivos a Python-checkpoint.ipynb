{
 "cells": [
  {
   "cell_type": "markdown",
   "metadata": {},
   "source": [
    "###Sección 5"
   ]
  },
  {
   "cell_type": "markdown",
   "metadata": {},
   "source": [
    "---"
   ]
  },
  {
   "cell_type": "markdown",
   "metadata": {},
   "source": [
    "#Importando datasets"
   ]
  },
  {
   "cell_type": "code",
   "execution_count": 1,
   "metadata": {},
   "outputs": [],
   "source": [
    "import pandas as pd"
   ]
  },
  {
   "cell_type": "code",
   "execution_count": 4,
   "metadata": {},
   "outputs": [],
   "source": [
    "# Método 1: Especificar Ruta Completa al Archivo\n",
    "\n",
    "# Windows\n",
    "datos = pd.read_csv('C:\\\\Users\\\\Usuario\\\\Documents\\\\Curso Python Data Science\\\\Seccion 5\\\\P4-Demographic-Data.csv')\n",
    "\n",
    "# Mac\n",
    "# datos = pd.read_csv('/Users/Usuario/Documents/Curso Python Data Science/Secion 5/P4-Demographic-Data.csv')"
   ]
  },
  {
   "cell_type": "code",
   "execution_count": 3,
   "metadata": {},
   "outputs": [
    {
     "data": {
      "text/html": [
       "<div>\n",
       "<style scoped>\n",
       "    .dataframe tbody tr th:only-of-type {\n",
       "        vertical-align: middle;\n",
       "    }\n",
       "\n",
       "    .dataframe tbody tr th {\n",
       "        vertical-align: top;\n",
       "    }\n",
       "\n",
       "    .dataframe thead th {\n",
       "        text-align: right;\n",
       "    }\n",
       "</style>\n",
       "<table border=\"1\" class=\"dataframe\">\n",
       "  <thead>\n",
       "    <tr style=\"text-align: right;\">\n",
       "      <th></th>\n",
       "      <th>Country Name</th>\n",
       "      <th>Country Code</th>\n",
       "      <th>Birth rate</th>\n",
       "      <th>Internet users</th>\n",
       "      <th>Income Group</th>\n",
       "    </tr>\n",
       "  </thead>\n",
       "  <tbody>\n",
       "    <tr>\n",
       "      <th>0</th>\n",
       "      <td>Aruba</td>\n",
       "      <td>ABW</td>\n",
       "      <td>10.244</td>\n",
       "      <td>78.9</td>\n",
       "      <td>High income</td>\n",
       "    </tr>\n",
       "    <tr>\n",
       "      <th>1</th>\n",
       "      <td>Afghanistan</td>\n",
       "      <td>AFG</td>\n",
       "      <td>35.253</td>\n",
       "      <td>5.9</td>\n",
       "      <td>Low income</td>\n",
       "    </tr>\n",
       "    <tr>\n",
       "      <th>2</th>\n",
       "      <td>Angola</td>\n",
       "      <td>AGO</td>\n",
       "      <td>45.985</td>\n",
       "      <td>19.1</td>\n",
       "      <td>Upper middle income</td>\n",
       "    </tr>\n",
       "    <tr>\n",
       "      <th>3</th>\n",
       "      <td>Albania</td>\n",
       "      <td>ALB</td>\n",
       "      <td>12.877</td>\n",
       "      <td>57.2</td>\n",
       "      <td>Upper middle income</td>\n",
       "    </tr>\n",
       "    <tr>\n",
       "      <th>4</th>\n",
       "      <td>United Arab Emirates</td>\n",
       "      <td>ARE</td>\n",
       "      <td>11.044</td>\n",
       "      <td>88.0</td>\n",
       "      <td>High income</td>\n",
       "    </tr>\n",
       "    <tr>\n",
       "      <th>...</th>\n",
       "      <td>...</td>\n",
       "      <td>...</td>\n",
       "      <td>...</td>\n",
       "      <td>...</td>\n",
       "      <td>...</td>\n",
       "    </tr>\n",
       "    <tr>\n",
       "      <th>190</th>\n",
       "      <td>Yemen, Rep.</td>\n",
       "      <td>YEM</td>\n",
       "      <td>32.947</td>\n",
       "      <td>20.0</td>\n",
       "      <td>Lower middle income</td>\n",
       "    </tr>\n",
       "    <tr>\n",
       "      <th>191</th>\n",
       "      <td>South Africa</td>\n",
       "      <td>ZAF</td>\n",
       "      <td>20.850</td>\n",
       "      <td>46.5</td>\n",
       "      <td>Upper middle income</td>\n",
       "    </tr>\n",
       "    <tr>\n",
       "      <th>192</th>\n",
       "      <td>Congo, Dem. Rep.</td>\n",
       "      <td>COD</td>\n",
       "      <td>42.394</td>\n",
       "      <td>2.2</td>\n",
       "      <td>Low income</td>\n",
       "    </tr>\n",
       "    <tr>\n",
       "      <th>193</th>\n",
       "      <td>Zambia</td>\n",
       "      <td>ZMB</td>\n",
       "      <td>40.471</td>\n",
       "      <td>15.4</td>\n",
       "      <td>Lower middle income</td>\n",
       "    </tr>\n",
       "    <tr>\n",
       "      <th>194</th>\n",
       "      <td>Zimbabwe</td>\n",
       "      <td>ZWE</td>\n",
       "      <td>35.715</td>\n",
       "      <td>18.5</td>\n",
       "      <td>Low income</td>\n",
       "    </tr>\n",
       "  </tbody>\n",
       "</table>\n",
       "<p>195 rows × 5 columns</p>\n",
       "</div>"
      ],
      "text/plain": [
       "             Country Name Country Code  Birth rate  Internet users  \\\n",
       "0                   Aruba          ABW      10.244            78.9   \n",
       "1             Afghanistan          AFG      35.253             5.9   \n",
       "2                  Angola          AGO      45.985            19.1   \n",
       "3                 Albania          ALB      12.877            57.2   \n",
       "4    United Arab Emirates          ARE      11.044            88.0   \n",
       "..                    ...          ...         ...             ...   \n",
       "190           Yemen, Rep.          YEM      32.947            20.0   \n",
       "191          South Africa          ZAF      20.850            46.5   \n",
       "192      Congo, Dem. Rep.          COD      42.394             2.2   \n",
       "193                Zambia          ZMB      40.471            15.4   \n",
       "194              Zimbabwe          ZWE      35.715            18.5   \n",
       "\n",
       "            Income Group  \n",
       "0            High income  \n",
       "1             Low income  \n",
       "2    Upper middle income  \n",
       "3    Upper middle income  \n",
       "4            High income  \n",
       "..                   ...  \n",
       "190  Lower middle income  \n",
       "191  Upper middle income  \n",
       "192           Low income  \n",
       "193  Lower middle income  \n",
       "194           Low income  \n",
       "\n",
       "[195 rows x 5 columns]"
      ]
     },
     "execution_count": 3,
     "metadata": {},
     "output_type": "execute_result"
    }
   ],
   "source": [
    "datos"
   ]
  },
  {
   "cell_type": "markdown",
   "metadata": {},
   "source": [
    "#Método 2: Cambiando el Working Directory"
   ]
  },
  {
   "cell_type": "code",
   "execution_count": 5,
   "metadata": {},
   "outputs": [],
   "source": [
    "import os"
   ]
  },
  {
   "cell_type": "code",
   "execution_count": 14,
   "metadata": {},
   "outputs": [
    {
     "name": "stdout",
     "output_type": "stream",
     "text": [
      "C:\\Users\\Usuario\\Documents\\Curso Python Data Science\\Seccion 5\n"
     ]
    }
   ],
   "source": [
    "print(os.getcwd()) # Imprime el directorio donde Jupyter Notebook está \n",
    "# alojado y ahí se buscan los datasets por default sin especificar toda\n",
    "# la ruta"
   ]
  },
  {
   "cell_type": "code",
   "execution_count": 15,
   "metadata": {},
   "outputs": [],
   "source": [
    "# Cambiemos el directorio de trabajo donde está Jupyter Notebook por otro \n",
    "# y veamos qué pasa\n",
    "\n",
    "# Windows\n",
    "os.chdir('C:\\\\Users\\\\Usuario\\\\Desktop')\n",
    "\n",
    "# Mac\n",
    "# os.chdir('User/Usuario/Desktop')\n",
    "\n",
    "# Ya no se tiene que especificar toda la ruta del archivo a leer.\n",
    "# Basta escribir sólo su nombre sí se encuentra en la carpeta Desktop"
   ]
  },
  {
   "cell_type": "code",
   "execution_count": 16,
   "metadata": {},
   "outputs": [
    {
     "name": "stdout",
     "output_type": "stream",
     "text": [
      "C:\\Users\\Usuario\\Desktop\n"
     ]
    }
   ],
   "source": [
    "print(os.getcwd())"
   ]
  },
  {
   "cell_type": "code",
   "execution_count": 17,
   "metadata": {},
   "outputs": [
    {
     "ename": "AttributeError",
     "evalue": "module 'pandas' has no attribute 'read'",
     "output_type": "error",
     "traceback": [
      "\u001b[1;31m---------------------------------------------------------------------------\u001b[0m",
      "\u001b[1;31mAttributeError\u001b[0m                            Traceback (most recent call last)",
      "\u001b[1;32m<ipython-input-17-8987d5c2b6cf>\u001b[0m in \u001b[0;36m<module>\u001b[1;34m\u001b[0m\n\u001b[1;32m----> 1\u001b[1;33m \u001b[0mdatos2\u001b[0m \u001b[1;33m=\u001b[0m \u001b[0mpd\u001b[0m\u001b[1;33m.\u001b[0m\u001b[0mread\u001b[0m\u001b[1;33m(\u001b[0m\u001b[1;34m'P4-Demographic-Data.csv'\u001b[0m\u001b[1;33m)\u001b[0m\u001b[1;33m\u001b[0m\u001b[1;33m\u001b[0m\u001b[0m\n\u001b[0m",
      "\u001b[1;32mC:\\ProgramData\\Anaconda3\\lib\\site-packages\\pandas\\__init__.py\u001b[0m in \u001b[0;36m__getattr__\u001b[1;34m(name)\u001b[0m\n\u001b[0;32m    260\u001b[0m             \u001b[1;32mreturn\u001b[0m \u001b[0m_SparseArray\u001b[0m\u001b[1;33m\u001b[0m\u001b[1;33m\u001b[0m\u001b[0m\n\u001b[0;32m    261\u001b[0m \u001b[1;33m\u001b[0m\u001b[0m\n\u001b[1;32m--> 262\u001b[1;33m         \u001b[1;32mraise\u001b[0m \u001b[0mAttributeError\u001b[0m\u001b[1;33m(\u001b[0m\u001b[1;34mf\"module 'pandas' has no attribute '{name}'\"\u001b[0m\u001b[1;33m)\u001b[0m\u001b[1;33m\u001b[0m\u001b[1;33m\u001b[0m\u001b[0m\n\u001b[0m\u001b[0;32m    263\u001b[0m \u001b[1;33m\u001b[0m\u001b[0m\n\u001b[0;32m    264\u001b[0m \u001b[1;33m\u001b[0m\u001b[0m\n",
      "\u001b[1;31mAttributeError\u001b[0m: module 'pandas' has no attribute 'read'"
     ]
    }
   ],
   "source": [
    "datos2 = pd.read('P4-Demographic-Data.csv')"
   ]
  },
  {
   "cell_type": "code",
   "execution_count": 19,
   "metadata": {},
   "outputs": [],
   "source": [
    "# Esto ocurre porque en 'Desktop' no sae encuentra ese archivo y tenemos\n",
    "# que escribir toda la ruta del archivo."
   ]
  },
  {
   "cell_type": "code",
   "execution_count": 20,
   "metadata": {},
   "outputs": [],
   "source": [
    "# Windows: Así, le decimos que \n",
    "os.chdir('C:\\\\Users\\\\Usuario\\\\Documents\\\\Curso Python Data Science\\\\Seccion 5')"
   ]
  },
  {
   "cell_type": "code",
   "execution_count": 21,
   "metadata": {},
   "outputs": [
    {
     "name": "stdout",
     "output_type": "stream",
     "text": [
      "C:\\Users\\Usuario\\Documents\\Curso Python Data Science\\Seccion 5\n"
     ]
    }
   ],
   "source": [
    "print(os.getcwd())"
   ]
  },
  {
   "cell_type": "code",
   "execution_count": 23,
   "metadata": {},
   "outputs": [],
   "source": [
    "datos2 = pd.read_csv('P4-Demographic-Data.csv')"
   ]
  },
  {
   "cell_type": "code",
   "execution_count": 24,
   "metadata": {},
   "outputs": [
    {
     "data": {
      "text/html": [
       "<div>\n",
       "<style scoped>\n",
       "    .dataframe tbody tr th:only-of-type {\n",
       "        vertical-align: middle;\n",
       "    }\n",
       "\n",
       "    .dataframe tbody tr th {\n",
       "        vertical-align: top;\n",
       "    }\n",
       "\n",
       "    .dataframe thead th {\n",
       "        text-align: right;\n",
       "    }\n",
       "</style>\n",
       "<table border=\"1\" class=\"dataframe\">\n",
       "  <thead>\n",
       "    <tr style=\"text-align: right;\">\n",
       "      <th></th>\n",
       "      <th>Country Name</th>\n",
       "      <th>Country Code</th>\n",
       "      <th>Birth rate</th>\n",
       "      <th>Internet users</th>\n",
       "      <th>Income Group</th>\n",
       "    </tr>\n",
       "  </thead>\n",
       "  <tbody>\n",
       "    <tr>\n",
       "      <th>0</th>\n",
       "      <td>Aruba</td>\n",
       "      <td>ABW</td>\n",
       "      <td>10.244</td>\n",
       "      <td>78.9</td>\n",
       "      <td>High income</td>\n",
       "    </tr>\n",
       "    <tr>\n",
       "      <th>1</th>\n",
       "      <td>Afghanistan</td>\n",
       "      <td>AFG</td>\n",
       "      <td>35.253</td>\n",
       "      <td>5.9</td>\n",
       "      <td>Low income</td>\n",
       "    </tr>\n",
       "    <tr>\n",
       "      <th>2</th>\n",
       "      <td>Angola</td>\n",
       "      <td>AGO</td>\n",
       "      <td>45.985</td>\n",
       "      <td>19.1</td>\n",
       "      <td>Upper middle income</td>\n",
       "    </tr>\n",
       "    <tr>\n",
       "      <th>3</th>\n",
       "      <td>Albania</td>\n",
       "      <td>ALB</td>\n",
       "      <td>12.877</td>\n",
       "      <td>57.2</td>\n",
       "      <td>Upper middle income</td>\n",
       "    </tr>\n",
       "    <tr>\n",
       "      <th>4</th>\n",
       "      <td>United Arab Emirates</td>\n",
       "      <td>ARE</td>\n",
       "      <td>11.044</td>\n",
       "      <td>88.0</td>\n",
       "      <td>High income</td>\n",
       "    </tr>\n",
       "    <tr>\n",
       "      <th>...</th>\n",
       "      <td>...</td>\n",
       "      <td>...</td>\n",
       "      <td>...</td>\n",
       "      <td>...</td>\n",
       "      <td>...</td>\n",
       "    </tr>\n",
       "    <tr>\n",
       "      <th>190</th>\n",
       "      <td>Yemen, Rep.</td>\n",
       "      <td>YEM</td>\n",
       "      <td>32.947</td>\n",
       "      <td>20.0</td>\n",
       "      <td>Lower middle income</td>\n",
       "    </tr>\n",
       "    <tr>\n",
       "      <th>191</th>\n",
       "      <td>South Africa</td>\n",
       "      <td>ZAF</td>\n",
       "      <td>20.850</td>\n",
       "      <td>46.5</td>\n",
       "      <td>Upper middle income</td>\n",
       "    </tr>\n",
       "    <tr>\n",
       "      <th>192</th>\n",
       "      <td>Congo, Dem. Rep.</td>\n",
       "      <td>COD</td>\n",
       "      <td>42.394</td>\n",
       "      <td>2.2</td>\n",
       "      <td>Low income</td>\n",
       "    </tr>\n",
       "    <tr>\n",
       "      <th>193</th>\n",
       "      <td>Zambia</td>\n",
       "      <td>ZMB</td>\n",
       "      <td>40.471</td>\n",
       "      <td>15.4</td>\n",
       "      <td>Lower middle income</td>\n",
       "    </tr>\n",
       "    <tr>\n",
       "      <th>194</th>\n",
       "      <td>Zimbabwe</td>\n",
       "      <td>ZWE</td>\n",
       "      <td>35.715</td>\n",
       "      <td>18.5</td>\n",
       "      <td>Low income</td>\n",
       "    </tr>\n",
       "  </tbody>\n",
       "</table>\n",
       "<p>195 rows × 5 columns</p>\n",
       "</div>"
      ],
      "text/plain": [
       "             Country Name Country Code  Birth rate  Internet users  \\\n",
       "0                   Aruba          ABW      10.244            78.9   \n",
       "1             Afghanistan          AFG      35.253             5.9   \n",
       "2                  Angola          AGO      45.985            19.1   \n",
       "3                 Albania          ALB      12.877            57.2   \n",
       "4    United Arab Emirates          ARE      11.044            88.0   \n",
       "..                    ...          ...         ...             ...   \n",
       "190           Yemen, Rep.          YEM      32.947            20.0   \n",
       "191          South Africa          ZAF      20.850            46.5   \n",
       "192      Congo, Dem. Rep.          COD      42.394             2.2   \n",
       "193                Zambia          ZMB      40.471            15.4   \n",
       "194              Zimbabwe          ZWE      35.715            18.5   \n",
       "\n",
       "            Income Group  \n",
       "0            High income  \n",
       "1             Low income  \n",
       "2    Upper middle income  \n",
       "3    Upper middle income  \n",
       "4            High income  \n",
       "..                   ...  \n",
       "190  Lower middle income  \n",
       "191  Upper middle income  \n",
       "192           Low income  \n",
       "193  Lower middle income  \n",
       "194           Low income  \n",
       "\n",
       "[195 rows x 5 columns]"
      ]
     },
     "execution_count": 24,
     "metadata": {},
     "output_type": "execute_result"
    }
   ],
   "source": [
    "datos2"
   ]
  },
  {
   "cell_type": "markdown",
   "metadata": {},
   "source": [
    "---"
   ]
  },
  {
   "cell_type": "markdown",
   "metadata": {},
   "source": [
    "#Explorando Datos"
   ]
  },
  {
   "cell_type": "markdown",
   "metadata": {},
   "source": [
    "#Número 1: Importaar los datos"
   ]
  },
  {
   "cell_type": "code",
   "execution_count": 25,
   "metadata": {},
   "outputs": [
    {
     "data": {
      "text/html": [
       "<div>\n",
       "<style scoped>\n",
       "    .dataframe tbody tr th:only-of-type {\n",
       "        vertical-align: middle;\n",
       "    }\n",
       "\n",
       "    .dataframe tbody tr th {\n",
       "        vertical-align: top;\n",
       "    }\n",
       "\n",
       "    .dataframe thead th {\n",
       "        text-align: right;\n",
       "    }\n",
       "</style>\n",
       "<table border=\"1\" class=\"dataframe\">\n",
       "  <thead>\n",
       "    <tr style=\"text-align: right;\">\n",
       "      <th></th>\n",
       "      <th>Country Name</th>\n",
       "      <th>Country Code</th>\n",
       "      <th>Birth rate</th>\n",
       "      <th>Internet users</th>\n",
       "      <th>Income Group</th>\n",
       "    </tr>\n",
       "  </thead>\n",
       "  <tbody>\n",
       "    <tr>\n",
       "      <th>0</th>\n",
       "      <td>Aruba</td>\n",
       "      <td>ABW</td>\n",
       "      <td>10.244</td>\n",
       "      <td>78.9</td>\n",
       "      <td>High income</td>\n",
       "    </tr>\n",
       "    <tr>\n",
       "      <th>1</th>\n",
       "      <td>Afghanistan</td>\n",
       "      <td>AFG</td>\n",
       "      <td>35.253</td>\n",
       "      <td>5.9</td>\n",
       "      <td>Low income</td>\n",
       "    </tr>\n",
       "    <tr>\n",
       "      <th>2</th>\n",
       "      <td>Angola</td>\n",
       "      <td>AGO</td>\n",
       "      <td>45.985</td>\n",
       "      <td>19.1</td>\n",
       "      <td>Upper middle income</td>\n",
       "    </tr>\n",
       "    <tr>\n",
       "      <th>3</th>\n",
       "      <td>Albania</td>\n",
       "      <td>ALB</td>\n",
       "      <td>12.877</td>\n",
       "      <td>57.2</td>\n",
       "      <td>Upper middle income</td>\n",
       "    </tr>\n",
       "    <tr>\n",
       "      <th>4</th>\n",
       "      <td>United Arab Emirates</td>\n",
       "      <td>ARE</td>\n",
       "      <td>11.044</td>\n",
       "      <td>88.0</td>\n",
       "      <td>High income</td>\n",
       "    </tr>\n",
       "    <tr>\n",
       "      <th>...</th>\n",
       "      <td>...</td>\n",
       "      <td>...</td>\n",
       "      <td>...</td>\n",
       "      <td>...</td>\n",
       "      <td>...</td>\n",
       "    </tr>\n",
       "    <tr>\n",
       "      <th>190</th>\n",
       "      <td>Yemen, Rep.</td>\n",
       "      <td>YEM</td>\n",
       "      <td>32.947</td>\n",
       "      <td>20.0</td>\n",
       "      <td>Lower middle income</td>\n",
       "    </tr>\n",
       "    <tr>\n",
       "      <th>191</th>\n",
       "      <td>South Africa</td>\n",
       "      <td>ZAF</td>\n",
       "      <td>20.850</td>\n",
       "      <td>46.5</td>\n",
       "      <td>Upper middle income</td>\n",
       "    </tr>\n",
       "    <tr>\n",
       "      <th>192</th>\n",
       "      <td>Congo, Dem. Rep.</td>\n",
       "      <td>COD</td>\n",
       "      <td>42.394</td>\n",
       "      <td>2.2</td>\n",
       "      <td>Low income</td>\n",
       "    </tr>\n",
       "    <tr>\n",
       "      <th>193</th>\n",
       "      <td>Zambia</td>\n",
       "      <td>ZMB</td>\n",
       "      <td>40.471</td>\n",
       "      <td>15.4</td>\n",
       "      <td>Lower middle income</td>\n",
       "    </tr>\n",
       "    <tr>\n",
       "      <th>194</th>\n",
       "      <td>Zimbabwe</td>\n",
       "      <td>ZWE</td>\n",
       "      <td>35.715</td>\n",
       "      <td>18.5</td>\n",
       "      <td>Low income</td>\n",
       "    </tr>\n",
       "  </tbody>\n",
       "</table>\n",
       "<p>195 rows × 5 columns</p>\n",
       "</div>"
      ],
      "text/plain": [
       "             Country Name Country Code  Birth rate  Internet users  \\\n",
       "0                   Aruba          ABW      10.244            78.9   \n",
       "1             Afghanistan          AFG      35.253             5.9   \n",
       "2                  Angola          AGO      45.985            19.1   \n",
       "3                 Albania          ALB      12.877            57.2   \n",
       "4    United Arab Emirates          ARE      11.044            88.0   \n",
       "..                    ...          ...         ...             ...   \n",
       "190           Yemen, Rep.          YEM      32.947            20.0   \n",
       "191          South Africa          ZAF      20.850            46.5   \n",
       "192      Congo, Dem. Rep.          COD      42.394             2.2   \n",
       "193                Zambia          ZMB      40.471            15.4   \n",
       "194              Zimbabwe          ZWE      35.715            18.5   \n",
       "\n",
       "            Income Group  \n",
       "0            High income  \n",
       "1             Low income  \n",
       "2    Upper middle income  \n",
       "3    Upper middle income  \n",
       "4            High income  \n",
       "..                   ...  \n",
       "190  Lower middle income  \n",
       "191  Upper middle income  \n",
       "192           Low income  \n",
       "193  Lower middle income  \n",
       "194           Low income  \n",
       "\n",
       "[195 rows x 5 columns]"
      ]
     },
     "execution_count": 25,
     "metadata": {},
     "output_type": "execute_result"
    }
   ],
   "source": [
    "datos"
   ]
  },
  {
   "cell_type": "code",
   "execution_count": 26,
   "metadata": {},
   "outputs": [
    {
     "data": {
      "text/plain": [
       "195"
      ]
     },
     "execution_count": 26,
     "metadata": {},
     "output_type": "execute_result"
    }
   ],
   "source": [
    "#2: Número de filas:\n",
    "len(datos) # 195 filas. Es recomendable checar este datos por si cambio\n",
    "# el archivo"
   ]
  },
  {
   "cell_type": "code",
   "execution_count": 27,
   "metadata": {},
   "outputs": [
    {
     "data": {
      "text/plain": [
       "Index(['Country Name', 'Country Code', 'Birth rate', 'Internet users',\n",
       "       'Income Group'],\n",
       "      dtype='object')"
      ]
     },
     "execution_count": 27,
     "metadata": {},
     "output_type": "execute_result"
    }
   ],
   "source": [
    "#3: Ver las columnas:\n",
    "datos.columns"
   ]
  },
  {
   "cell_type": "code",
   "execution_count": 28,
   "metadata": {},
   "outputs": [
    {
     "data": {
      "text/plain": [
       "5"
      ]
     },
     "execution_count": 28,
     "metadata": {},
     "output_type": "execute_result"
    }
   ],
   "source": [
    "#$: Número de columnas\n",
    "len(datos.columns)"
   ]
  },
  {
   "cell_type": "code",
   "execution_count": 29,
   "metadata": {},
   "outputs": [
    {
     "data": {
      "text/html": [
       "<div>\n",
       "<style scoped>\n",
       "    .dataframe tbody tr th:only-of-type {\n",
       "        vertical-align: middle;\n",
       "    }\n",
       "\n",
       "    .dataframe tbody tr th {\n",
       "        vertical-align: top;\n",
       "    }\n",
       "\n",
       "    .dataframe thead th {\n",
       "        text-align: right;\n",
       "    }\n",
       "</style>\n",
       "<table border=\"1\" class=\"dataframe\">\n",
       "  <thead>\n",
       "    <tr style=\"text-align: right;\">\n",
       "      <th></th>\n",
       "      <th>Country Name</th>\n",
       "      <th>Country Code</th>\n",
       "      <th>Birth rate</th>\n",
       "      <th>Internet users</th>\n",
       "      <th>Income Group</th>\n",
       "    </tr>\n",
       "  </thead>\n",
       "  <tbody>\n",
       "    <tr>\n",
       "      <th>0</th>\n",
       "      <td>Aruba</td>\n",
       "      <td>ABW</td>\n",
       "      <td>10.244</td>\n",
       "      <td>78.9</td>\n",
       "      <td>High income</td>\n",
       "    </tr>\n",
       "    <tr>\n",
       "      <th>1</th>\n",
       "      <td>Afghanistan</td>\n",
       "      <td>AFG</td>\n",
       "      <td>35.253</td>\n",
       "      <td>5.9</td>\n",
       "      <td>Low income</td>\n",
       "    </tr>\n",
       "    <tr>\n",
       "      <th>2</th>\n",
       "      <td>Angola</td>\n",
       "      <td>AGO</td>\n",
       "      <td>45.985</td>\n",
       "      <td>19.1</td>\n",
       "      <td>Upper middle income</td>\n",
       "    </tr>\n",
       "    <tr>\n",
       "      <th>3</th>\n",
       "      <td>Albania</td>\n",
       "      <td>ALB</td>\n",
       "      <td>12.877</td>\n",
       "      <td>57.2</td>\n",
       "      <td>Upper middle income</td>\n",
       "    </tr>\n",
       "    <tr>\n",
       "      <th>4</th>\n",
       "      <td>United Arab Emirates</td>\n",
       "      <td>ARE</td>\n",
       "      <td>11.044</td>\n",
       "      <td>88.0</td>\n",
       "      <td>High income</td>\n",
       "    </tr>\n",
       "  </tbody>\n",
       "</table>\n",
       "</div>"
      ],
      "text/plain": [
       "           Country Name Country Code  Birth rate  Internet users  \\\n",
       "0                 Aruba          ABW      10.244            78.9   \n",
       "1           Afghanistan          AFG      35.253             5.9   \n",
       "2                Angola          AGO      45.985            19.1   \n",
       "3               Albania          ALB      12.877            57.2   \n",
       "4  United Arab Emirates          ARE      11.044            88.0   \n",
       "\n",
       "          Income Group  \n",
       "0          High income  \n",
       "1           Low income  \n",
       "2  Upper middle income  \n",
       "3  Upper middle income  \n",
       "4          High income  "
      ]
     },
     "execution_count": 29,
     "metadata": {},
     "output_type": "execute_result"
    }
   ],
   "source": [
    "#5: Filas superiores\n",
    "datos.head()"
   ]
  },
  {
   "cell_type": "code",
   "execution_count": 30,
   "metadata": {},
   "outputs": [
    {
     "data": {
      "text/html": [
       "<div>\n",
       "<style scoped>\n",
       "    .dataframe tbody tr th:only-of-type {\n",
       "        vertical-align: middle;\n",
       "    }\n",
       "\n",
       "    .dataframe tbody tr th {\n",
       "        vertical-align: top;\n",
       "    }\n",
       "\n",
       "    .dataframe thead th {\n",
       "        text-align: right;\n",
       "    }\n",
       "</style>\n",
       "<table border=\"1\" class=\"dataframe\">\n",
       "  <thead>\n",
       "    <tr style=\"text-align: right;\">\n",
       "      <th></th>\n",
       "      <th>Country Name</th>\n",
       "      <th>Country Code</th>\n",
       "      <th>Birth rate</th>\n",
       "      <th>Internet users</th>\n",
       "      <th>Income Group</th>\n",
       "    </tr>\n",
       "  </thead>\n",
       "  <tbody>\n",
       "    <tr>\n",
       "      <th>0</th>\n",
       "      <td>Aruba</td>\n",
       "      <td>ABW</td>\n",
       "      <td>10.244</td>\n",
       "      <td>78.9000</td>\n",
       "      <td>High income</td>\n",
       "    </tr>\n",
       "    <tr>\n",
       "      <th>1</th>\n",
       "      <td>Afghanistan</td>\n",
       "      <td>AFG</td>\n",
       "      <td>35.253</td>\n",
       "      <td>5.9000</td>\n",
       "      <td>Low income</td>\n",
       "    </tr>\n",
       "    <tr>\n",
       "      <th>2</th>\n",
       "      <td>Angola</td>\n",
       "      <td>AGO</td>\n",
       "      <td>45.985</td>\n",
       "      <td>19.1000</td>\n",
       "      <td>Upper middle income</td>\n",
       "    </tr>\n",
       "    <tr>\n",
       "      <th>3</th>\n",
       "      <td>Albania</td>\n",
       "      <td>ALB</td>\n",
       "      <td>12.877</td>\n",
       "      <td>57.2000</td>\n",
       "      <td>Upper middle income</td>\n",
       "    </tr>\n",
       "    <tr>\n",
       "      <th>4</th>\n",
       "      <td>United Arab Emirates</td>\n",
       "      <td>ARE</td>\n",
       "      <td>11.044</td>\n",
       "      <td>88.0000</td>\n",
       "      <td>High income</td>\n",
       "    </tr>\n",
       "    <tr>\n",
       "      <th>5</th>\n",
       "      <td>Argentina</td>\n",
       "      <td>ARG</td>\n",
       "      <td>17.716</td>\n",
       "      <td>59.9000</td>\n",
       "      <td>High income</td>\n",
       "    </tr>\n",
       "    <tr>\n",
       "      <th>6</th>\n",
       "      <td>Armenia</td>\n",
       "      <td>ARM</td>\n",
       "      <td>13.308</td>\n",
       "      <td>41.9000</td>\n",
       "      <td>Lower middle income</td>\n",
       "    </tr>\n",
       "    <tr>\n",
       "      <th>7</th>\n",
       "      <td>Antigua and Barbuda</td>\n",
       "      <td>ATG</td>\n",
       "      <td>16.447</td>\n",
       "      <td>63.4000</td>\n",
       "      <td>High income</td>\n",
       "    </tr>\n",
       "    <tr>\n",
       "      <th>8</th>\n",
       "      <td>Australia</td>\n",
       "      <td>AUS</td>\n",
       "      <td>13.200</td>\n",
       "      <td>83.0000</td>\n",
       "      <td>High income</td>\n",
       "    </tr>\n",
       "    <tr>\n",
       "      <th>9</th>\n",
       "      <td>Austria</td>\n",
       "      <td>AUT</td>\n",
       "      <td>9.400</td>\n",
       "      <td>80.6188</td>\n",
       "      <td>High income</td>\n",
       "    </tr>\n",
       "  </tbody>\n",
       "</table>\n",
       "</div>"
      ],
      "text/plain": [
       "           Country Name Country Code  Birth rate  Internet users  \\\n",
       "0                 Aruba          ABW      10.244         78.9000   \n",
       "1           Afghanistan          AFG      35.253          5.9000   \n",
       "2                Angola          AGO      45.985         19.1000   \n",
       "3               Albania          ALB      12.877         57.2000   \n",
       "4  United Arab Emirates          ARE      11.044         88.0000   \n",
       "5             Argentina          ARG      17.716         59.9000   \n",
       "6               Armenia          ARM      13.308         41.9000   \n",
       "7   Antigua and Barbuda          ATG      16.447         63.4000   \n",
       "8             Australia          AUS      13.200         83.0000   \n",
       "9               Austria          AUT       9.400         80.6188   \n",
       "\n",
       "          Income Group  \n",
       "0          High income  \n",
       "1           Low income  \n",
       "2  Upper middle income  \n",
       "3  Upper middle income  \n",
       "4          High income  \n",
       "5          High income  \n",
       "6  Lower middle income  \n",
       "7          High income  \n",
       "8          High income  \n",
       "9          High income  "
      ]
     },
     "execution_count": 30,
     "metadata": {},
     "output_type": "execute_result"
    }
   ],
   "source": [
    "datos.head(10)"
   ]
  },
  {
   "cell_type": "code",
   "execution_count": 33,
   "metadata": {},
   "outputs": [
    {
     "data": {
      "text/html": [
       "<div>\n",
       "<style scoped>\n",
       "    .dataframe tbody tr th:only-of-type {\n",
       "        vertical-align: middle;\n",
       "    }\n",
       "\n",
       "    .dataframe tbody tr th {\n",
       "        vertical-align: top;\n",
       "    }\n",
       "\n",
       "    .dataframe thead th {\n",
       "        text-align: right;\n",
       "    }\n",
       "</style>\n",
       "<table border=\"1\" class=\"dataframe\">\n",
       "  <thead>\n",
       "    <tr style=\"text-align: right;\">\n",
       "      <th></th>\n",
       "      <th>Country Name</th>\n",
       "      <th>Country Code</th>\n",
       "      <th>Birth rate</th>\n",
       "      <th>Internet users</th>\n",
       "      <th>Income Group</th>\n",
       "    </tr>\n",
       "  </thead>\n",
       "  <tbody>\n",
       "    <tr>\n",
       "      <th>190</th>\n",
       "      <td>Yemen, Rep.</td>\n",
       "      <td>YEM</td>\n",
       "      <td>32.947</td>\n",
       "      <td>20.0</td>\n",
       "      <td>Lower middle income</td>\n",
       "    </tr>\n",
       "    <tr>\n",
       "      <th>191</th>\n",
       "      <td>South Africa</td>\n",
       "      <td>ZAF</td>\n",
       "      <td>20.850</td>\n",
       "      <td>46.5</td>\n",
       "      <td>Upper middle income</td>\n",
       "    </tr>\n",
       "    <tr>\n",
       "      <th>192</th>\n",
       "      <td>Congo, Dem. Rep.</td>\n",
       "      <td>COD</td>\n",
       "      <td>42.394</td>\n",
       "      <td>2.2</td>\n",
       "      <td>Low income</td>\n",
       "    </tr>\n",
       "    <tr>\n",
       "      <th>193</th>\n",
       "      <td>Zambia</td>\n",
       "      <td>ZMB</td>\n",
       "      <td>40.471</td>\n",
       "      <td>15.4</td>\n",
       "      <td>Lower middle income</td>\n",
       "    </tr>\n",
       "    <tr>\n",
       "      <th>194</th>\n",
       "      <td>Zimbabwe</td>\n",
       "      <td>ZWE</td>\n",
       "      <td>35.715</td>\n",
       "      <td>18.5</td>\n",
       "      <td>Low income</td>\n",
       "    </tr>\n",
       "  </tbody>\n",
       "</table>\n",
       "</div>"
      ],
      "text/plain": [
       "         Country Name Country Code  Birth rate  Internet users  \\\n",
       "190       Yemen, Rep.          YEM      32.947            20.0   \n",
       "191      South Africa          ZAF      20.850            46.5   \n",
       "192  Congo, Dem. Rep.          COD      42.394             2.2   \n",
       "193            Zambia          ZMB      40.471            15.4   \n",
       "194          Zimbabwe          ZWE      35.715            18.5   \n",
       "\n",
       "            Income Group  \n",
       "190  Lower middle income  \n",
       "191  Upper middle income  \n",
       "192           Low income  \n",
       "193  Lower middle income  \n",
       "194           Low income  "
      ]
     },
     "execution_count": 33,
     "metadata": {},
     "output_type": "execute_result"
    }
   ],
   "source": [
    "# Filas inferiores\n",
    "datos.tail()"
   ]
  },
  {
   "cell_type": "code",
   "execution_count": 34,
   "metadata": {},
   "outputs": [
    {
     "data": {
      "text/html": [
       "<div>\n",
       "<style scoped>\n",
       "    .dataframe tbody tr th:only-of-type {\n",
       "        vertical-align: middle;\n",
       "    }\n",
       "\n",
       "    .dataframe tbody tr th {\n",
       "        vertical-align: top;\n",
       "    }\n",
       "\n",
       "    .dataframe thead th {\n",
       "        text-align: right;\n",
       "    }\n",
       "</style>\n",
       "<table border=\"1\" class=\"dataframe\">\n",
       "  <thead>\n",
       "    <tr style=\"text-align: right;\">\n",
       "      <th></th>\n",
       "      <th>Country Name</th>\n",
       "      <th>Country Code</th>\n",
       "      <th>Birth rate</th>\n",
       "      <th>Internet users</th>\n",
       "      <th>Income Group</th>\n",
       "    </tr>\n",
       "  </thead>\n",
       "  <tbody>\n",
       "    <tr>\n",
       "      <th>193</th>\n",
       "      <td>Zambia</td>\n",
       "      <td>ZMB</td>\n",
       "      <td>40.471</td>\n",
       "      <td>15.4</td>\n",
       "      <td>Lower middle income</td>\n",
       "    </tr>\n",
       "    <tr>\n",
       "      <th>194</th>\n",
       "      <td>Zimbabwe</td>\n",
       "      <td>ZWE</td>\n",
       "      <td>35.715</td>\n",
       "      <td>18.5</td>\n",
       "      <td>Low income</td>\n",
       "    </tr>\n",
       "  </tbody>\n",
       "</table>\n",
       "</div>"
      ],
      "text/plain": [
       "    Country Name Country Code  Birth rate  Internet users         Income Group\n",
       "193       Zambia          ZMB      40.471            15.4  Lower middle income\n",
       "194     Zimbabwe          ZWE      35.715            18.5           Low income"
      ]
     },
     "execution_count": 34,
     "metadata": {},
     "output_type": "execute_result"
    }
   ],
   "source": [
    "datos.tail(2)"
   ]
  },
  {
   "cell_type": "code",
   "execution_count": 36,
   "metadata": {},
   "outputs": [
    {
     "name": "stdout",
     "output_type": "stream",
     "text": [
      "<class 'pandas.core.frame.DataFrame'>\n",
      "RangeIndex: 195 entries, 0 to 194\n",
      "Data columns (total 5 columns):\n",
      " #   Column          Non-Null Count  Dtype  \n",
      "---  ------          --------------  -----  \n",
      " 0   Country Name    195 non-null    object \n",
      " 1   Country Code    195 non-null    object \n",
      " 2   Birth rate      195 non-null    float64\n",
      " 3   Internet users  195 non-null    float64\n",
      " 4   Income Group    195 non-null    object \n",
      "dtypes: float64(2), object(3)\n",
      "memory usage: 7.7+ KB\n"
     ]
    }
   ],
   "source": [
    "# 7: Información de las columnas\n",
    "datos.info()        # como la función str de R\n",
    "# object se interpreta como una cadena de caractéres"
   ]
  },
  {
   "cell_type": "code",
   "execution_count": 37,
   "metadata": {},
   "outputs": [
    {
     "data": {
      "text/html": [
       "<div>\n",
       "<style scoped>\n",
       "    .dataframe tbody tr th:only-of-type {\n",
       "        vertical-align: middle;\n",
       "    }\n",
       "\n",
       "    .dataframe tbody tr th {\n",
       "        vertical-align: top;\n",
       "    }\n",
       "\n",
       "    .dataframe thead th {\n",
       "        text-align: right;\n",
       "    }\n",
       "</style>\n",
       "<table border=\"1\" class=\"dataframe\">\n",
       "  <thead>\n",
       "    <tr style=\"text-align: right;\">\n",
       "      <th></th>\n",
       "      <th>Birth rate</th>\n",
       "      <th>Internet users</th>\n",
       "    </tr>\n",
       "  </thead>\n",
       "  <tbody>\n",
       "    <tr>\n",
       "      <th>count</th>\n",
       "      <td>195.000000</td>\n",
       "      <td>195.000000</td>\n",
       "    </tr>\n",
       "    <tr>\n",
       "      <th>mean</th>\n",
       "      <td>21.469928</td>\n",
       "      <td>42.076471</td>\n",
       "    </tr>\n",
       "    <tr>\n",
       "      <th>std</th>\n",
       "      <td>10.605467</td>\n",
       "      <td>29.030788</td>\n",
       "    </tr>\n",
       "    <tr>\n",
       "      <th>min</th>\n",
       "      <td>7.900000</td>\n",
       "      <td>0.900000</td>\n",
       "    </tr>\n",
       "    <tr>\n",
       "      <th>25%</th>\n",
       "      <td>12.120500</td>\n",
       "      <td>14.520000</td>\n",
       "    </tr>\n",
       "    <tr>\n",
       "      <th>50%</th>\n",
       "      <td>19.680000</td>\n",
       "      <td>41.000000</td>\n",
       "    </tr>\n",
       "    <tr>\n",
       "      <th>75%</th>\n",
       "      <td>29.759500</td>\n",
       "      <td>66.225000</td>\n",
       "    </tr>\n",
       "    <tr>\n",
       "      <th>max</th>\n",
       "      <td>49.661000</td>\n",
       "      <td>96.546800</td>\n",
       "    </tr>\n",
       "  </tbody>\n",
       "</table>\n",
       "</div>"
      ],
      "text/plain": [
       "       Birth rate  Internet users\n",
       "count  195.000000      195.000000\n",
       "mean    21.469928       42.076471\n",
       "std     10.605467       29.030788\n",
       "min      7.900000        0.900000\n",
       "25%     12.120500       14.520000\n",
       "50%     19.680000       41.000000\n",
       "75%     29.759500       66.225000\n",
       "max     49.661000       96.546800"
      ]
     },
     "execution_count": 37,
     "metadata": {},
     "output_type": "execute_result"
    }
   ],
   "source": [
    "# 8: Obtener estadísticas de lsa columnas\n",
    "datos.describe() # como sumary en R"
   ]
  },
  {
   "cell_type": "code",
   "execution_count": 38,
   "metadata": {},
   "outputs": [
    {
     "data": {
      "text/html": [
       "<div>\n",
       "<style scoped>\n",
       "    .dataframe tbody tr th:only-of-type {\n",
       "        vertical-align: middle;\n",
       "    }\n",
       "\n",
       "    .dataframe tbody tr th {\n",
       "        vertical-align: top;\n",
       "    }\n",
       "\n",
       "    .dataframe thead th {\n",
       "        text-align: right;\n",
       "    }\n",
       "</style>\n",
       "<table border=\"1\" class=\"dataframe\">\n",
       "  <thead>\n",
       "    <tr style=\"text-align: right;\">\n",
       "      <th></th>\n",
       "      <th>count</th>\n",
       "      <th>mean</th>\n",
       "      <th>std</th>\n",
       "      <th>min</th>\n",
       "      <th>25%</th>\n",
       "      <th>50%</th>\n",
       "      <th>75%</th>\n",
       "      <th>max</th>\n",
       "    </tr>\n",
       "  </thead>\n",
       "  <tbody>\n",
       "    <tr>\n",
       "      <th>Birth rate</th>\n",
       "      <td>195.0</td>\n",
       "      <td>21.469928</td>\n",
       "      <td>10.605467</td>\n",
       "      <td>7.9</td>\n",
       "      <td>12.1205</td>\n",
       "      <td>19.68</td>\n",
       "      <td>29.7595</td>\n",
       "      <td>49.6610</td>\n",
       "    </tr>\n",
       "    <tr>\n",
       "      <th>Internet users</th>\n",
       "      <td>195.0</td>\n",
       "      <td>42.076471</td>\n",
       "      <td>29.030788</td>\n",
       "      <td>0.9</td>\n",
       "      <td>14.5200</td>\n",
       "      <td>41.00</td>\n",
       "      <td>66.2250</td>\n",
       "      <td>96.5468</td>\n",
       "    </tr>\n",
       "  </tbody>\n",
       "</table>\n",
       "</div>"
      ],
      "text/plain": [
       "                count       mean        std  min      25%    50%      75%  \\\n",
       "Birth rate      195.0  21.469928  10.605467  7.9  12.1205  19.68  29.7595   \n",
       "Internet users  195.0  42.076471  29.030788  0.9  14.5200  41.00  66.2250   \n",
       "\n",
       "                    max  \n",
       "Birth rate      49.6610  \n",
       "Internet users  96.5468  "
      ]
     },
     "execution_count": 38,
     "metadata": {},
     "output_type": "execute_result"
    }
   ],
   "source": [
    "# Transponer datos\n",
    "datos.describe().transpose()"
   ]
  },
  {
   "cell_type": "markdown",
   "metadata": {},
   "source": [
    "---"
   ]
  },
  {
   "cell_type": "markdown",
   "metadata": {},
   "source": [
    "Cambiandole el nombre a columnas de un DataFrame"
   ]
  },
  {
   "cell_type": "code",
   "execution_count": 39,
   "metadata": {},
   "outputs": [
    {
     "data": {
      "text/html": [
       "<div>\n",
       "<style scoped>\n",
       "    .dataframe tbody tr th:only-of-type {\n",
       "        vertical-align: middle;\n",
       "    }\n",
       "\n",
       "    .dataframe tbody tr th {\n",
       "        vertical-align: top;\n",
       "    }\n",
       "\n",
       "    .dataframe thead th {\n",
       "        text-align: right;\n",
       "    }\n",
       "</style>\n",
       "<table border=\"1\" class=\"dataframe\">\n",
       "  <thead>\n",
       "    <tr style=\"text-align: right;\">\n",
       "      <th></th>\n",
       "      <th>Country Name</th>\n",
       "      <th>Country Code</th>\n",
       "      <th>Birth rate</th>\n",
       "      <th>Internet users</th>\n",
       "      <th>Income Group</th>\n",
       "    </tr>\n",
       "  </thead>\n",
       "  <tbody>\n",
       "    <tr>\n",
       "      <th>0</th>\n",
       "      <td>Aruba</td>\n",
       "      <td>ABW</td>\n",
       "      <td>10.244</td>\n",
       "      <td>78.9</td>\n",
       "      <td>High income</td>\n",
       "    </tr>\n",
       "    <tr>\n",
       "      <th>1</th>\n",
       "      <td>Afghanistan</td>\n",
       "      <td>AFG</td>\n",
       "      <td>35.253</td>\n",
       "      <td>5.9</td>\n",
       "      <td>Low income</td>\n",
       "    </tr>\n",
       "    <tr>\n",
       "      <th>2</th>\n",
       "      <td>Angola</td>\n",
       "      <td>AGO</td>\n",
       "      <td>45.985</td>\n",
       "      <td>19.1</td>\n",
       "      <td>Upper middle income</td>\n",
       "    </tr>\n",
       "    <tr>\n",
       "      <th>3</th>\n",
       "      <td>Albania</td>\n",
       "      <td>ALB</td>\n",
       "      <td>12.877</td>\n",
       "      <td>57.2</td>\n",
       "      <td>Upper middle income</td>\n",
       "    </tr>\n",
       "    <tr>\n",
       "      <th>4</th>\n",
       "      <td>United Arab Emirates</td>\n",
       "      <td>ARE</td>\n",
       "      <td>11.044</td>\n",
       "      <td>88.0</td>\n",
       "      <td>High income</td>\n",
       "    </tr>\n",
       "  </tbody>\n",
       "</table>\n",
       "</div>"
      ],
      "text/plain": [
       "           Country Name Country Code  Birth rate  Internet users  \\\n",
       "0                 Aruba          ABW      10.244            78.9   \n",
       "1           Afghanistan          AFG      35.253             5.9   \n",
       "2                Angola          AGO      45.985            19.1   \n",
       "3               Albania          ALB      12.877            57.2   \n",
       "4  United Arab Emirates          ARE      11.044            88.0   \n",
       "\n",
       "          Income Group  \n",
       "0          High income  \n",
       "1           Low income  \n",
       "2  Upper middle income  \n",
       "3  Upper middle income  \n",
       "4          High income  "
      ]
     },
     "execution_count": 39,
     "metadata": {},
     "output_type": "execute_result"
    }
   ],
   "source": [
    "datos.head()"
   ]
  },
  {
   "cell_type": "code",
   "execution_count": 40,
   "metadata": {},
   "outputs": [
    {
     "data": {
      "text/plain": [
       "Index(['Country Name', 'Country Code', 'Birth rate', 'Internet users',\n",
       "       'Income Group'],\n",
       "      dtype='object')"
      ]
     },
     "execution_count": 40,
     "metadata": {},
     "output_type": "execute_result"
    }
   ],
   "source": [
    "datos.columns"
   ]
  },
  {
   "cell_type": "code",
   "execution_count": 41,
   "metadata": {},
   "outputs": [],
   "source": [
    "datos.columns = ['a','b','c','d','e']"
   ]
  },
  {
   "cell_type": "code",
   "execution_count": 42,
   "metadata": {},
   "outputs": [
    {
     "data": {
      "text/html": [
       "<div>\n",
       "<style scoped>\n",
       "    .dataframe tbody tr th:only-of-type {\n",
       "        vertical-align: middle;\n",
       "    }\n",
       "\n",
       "    .dataframe tbody tr th {\n",
       "        vertical-align: top;\n",
       "    }\n",
       "\n",
       "    .dataframe thead th {\n",
       "        text-align: right;\n",
       "    }\n",
       "</style>\n",
       "<table border=\"1\" class=\"dataframe\">\n",
       "  <thead>\n",
       "    <tr style=\"text-align: right;\">\n",
       "      <th></th>\n",
       "      <th>a</th>\n",
       "      <th>b</th>\n",
       "      <th>c</th>\n",
       "      <th>d</th>\n",
       "      <th>e</th>\n",
       "    </tr>\n",
       "  </thead>\n",
       "  <tbody>\n",
       "    <tr>\n",
       "      <th>0</th>\n",
       "      <td>Aruba</td>\n",
       "      <td>ABW</td>\n",
       "      <td>10.244</td>\n",
       "      <td>78.9</td>\n",
       "      <td>High income</td>\n",
       "    </tr>\n",
       "    <tr>\n",
       "      <th>1</th>\n",
       "      <td>Afghanistan</td>\n",
       "      <td>AFG</td>\n",
       "      <td>35.253</td>\n",
       "      <td>5.9</td>\n",
       "      <td>Low income</td>\n",
       "    </tr>\n",
       "    <tr>\n",
       "      <th>2</th>\n",
       "      <td>Angola</td>\n",
       "      <td>AGO</td>\n",
       "      <td>45.985</td>\n",
       "      <td>19.1</td>\n",
       "      <td>Upper middle income</td>\n",
       "    </tr>\n",
       "    <tr>\n",
       "      <th>3</th>\n",
       "      <td>Albania</td>\n",
       "      <td>ALB</td>\n",
       "      <td>12.877</td>\n",
       "      <td>57.2</td>\n",
       "      <td>Upper middle income</td>\n",
       "    </tr>\n",
       "    <tr>\n",
       "      <th>4</th>\n",
       "      <td>United Arab Emirates</td>\n",
       "      <td>ARE</td>\n",
       "      <td>11.044</td>\n",
       "      <td>88.0</td>\n",
       "      <td>High income</td>\n",
       "    </tr>\n",
       "  </tbody>\n",
       "</table>\n",
       "</div>"
      ],
      "text/plain": [
       "                      a    b       c     d                    e\n",
       "0                 Aruba  ABW  10.244  78.9          High income\n",
       "1           Afghanistan  AFG  35.253   5.9           Low income\n",
       "2                Angola  AGO  45.985  19.1  Upper middle income\n",
       "3               Albania  ALB  12.877  57.2  Upper middle income\n",
       "4  United Arab Emirates  ARE  11.044  88.0          High income"
      ]
     },
     "execution_count": 42,
     "metadata": {},
     "output_type": "execute_result"
    }
   ],
   "source": [
    "datos.head()"
   ]
  },
  {
   "cell_type": "code",
   "execution_count": 43,
   "metadata": {},
   "outputs": [],
   "source": [
    "datos.columns = ['NombrePais','CodigoPais','TasaNatalidad',\n",
    "                 'UsuariosInternet','GrupoIngresos']"
   ]
  },
  {
   "cell_type": "code",
   "execution_count": 44,
   "metadata": {},
   "outputs": [
    {
     "data": {
      "text/html": [
       "<div>\n",
       "<style scoped>\n",
       "    .dataframe tbody tr th:only-of-type {\n",
       "        vertical-align: middle;\n",
       "    }\n",
       "\n",
       "    .dataframe tbody tr th {\n",
       "        vertical-align: top;\n",
       "    }\n",
       "\n",
       "    .dataframe thead th {\n",
       "        text-align: right;\n",
       "    }\n",
       "</style>\n",
       "<table border=\"1\" class=\"dataframe\">\n",
       "  <thead>\n",
       "    <tr style=\"text-align: right;\">\n",
       "      <th></th>\n",
       "      <th>NombrePais</th>\n",
       "      <th>CodigoPais</th>\n",
       "      <th>TasaNatalidad</th>\n",
       "      <th>UsuariosInternet</th>\n",
       "      <th>GrupoIngresos</th>\n",
       "    </tr>\n",
       "  </thead>\n",
       "  <tbody>\n",
       "    <tr>\n",
       "      <th>0</th>\n",
       "      <td>Aruba</td>\n",
       "      <td>ABW</td>\n",
       "      <td>10.244</td>\n",
       "      <td>78.9</td>\n",
       "      <td>High income</td>\n",
       "    </tr>\n",
       "    <tr>\n",
       "      <th>1</th>\n",
       "      <td>Afghanistan</td>\n",
       "      <td>AFG</td>\n",
       "      <td>35.253</td>\n",
       "      <td>5.9</td>\n",
       "      <td>Low income</td>\n",
       "    </tr>\n",
       "    <tr>\n",
       "      <th>2</th>\n",
       "      <td>Angola</td>\n",
       "      <td>AGO</td>\n",
       "      <td>45.985</td>\n",
       "      <td>19.1</td>\n",
       "      <td>Upper middle income</td>\n",
       "    </tr>\n",
       "    <tr>\n",
       "      <th>3</th>\n",
       "      <td>Albania</td>\n",
       "      <td>ALB</td>\n",
       "      <td>12.877</td>\n",
       "      <td>57.2</td>\n",
       "      <td>Upper middle income</td>\n",
       "    </tr>\n",
       "    <tr>\n",
       "      <th>4</th>\n",
       "      <td>United Arab Emirates</td>\n",
       "      <td>ARE</td>\n",
       "      <td>11.044</td>\n",
       "      <td>88.0</td>\n",
       "      <td>High income</td>\n",
       "    </tr>\n",
       "  </tbody>\n",
       "</table>\n",
       "</div>"
      ],
      "text/plain": [
       "             NombrePais CodigoPais  TasaNatalidad  UsuariosInternet  \\\n",
       "0                 Aruba        ABW         10.244              78.9   \n",
       "1           Afghanistan        AFG         35.253               5.9   \n",
       "2                Angola        AGO         45.985              19.1   \n",
       "3               Albania        ALB         12.877              57.2   \n",
       "4  United Arab Emirates        ARE         11.044              88.0   \n",
       "\n",
       "         GrupoIngresos  \n",
       "0          High income  \n",
       "1           Low income  \n",
       "2  Upper middle income  \n",
       "3  Upper middle income  \n",
       "4          High income  "
      ]
     },
     "execution_count": 44,
     "metadata": {},
     "output_type": "execute_result"
    }
   ],
   "source": [
    "datos.head()"
   ]
  },
  {
   "cell_type": "markdown",
   "metadata": {},
   "source": [
    "---"
   ]
  },
  {
   "cell_type": "markdown",
   "metadata": {},
   "source": [
    "Subconjuntos de DataFrames en Pandas"
   ]
  },
  {
   "cell_type": "code",
   "execution_count": 49,
   "metadata": {},
   "outputs": [
    {
     "data": {
      "text/html": [
       "<div>\n",
       "<style scoped>\n",
       "    .dataframe tbody tr th:only-of-type {\n",
       "        vertical-align: middle;\n",
       "    }\n",
       "\n",
       "    .dataframe tbody tr th {\n",
       "        vertical-align: top;\n",
       "    }\n",
       "\n",
       "    .dataframe thead th {\n",
       "        text-align: right;\n",
       "    }\n",
       "</style>\n",
       "<table border=\"1\" class=\"dataframe\">\n",
       "  <thead>\n",
       "    <tr style=\"text-align: right;\">\n",
       "      <th></th>\n",
       "      <th>NombrePais</th>\n",
       "      <th>CodigoPais</th>\n",
       "      <th>TasaNatalidad</th>\n",
       "      <th>UsuariosInternet</th>\n",
       "      <th>GrupoIngresos</th>\n",
       "    </tr>\n",
       "  </thead>\n",
       "  <tbody>\n",
       "    <tr>\n",
       "      <th>0</th>\n",
       "      <td>Aruba</td>\n",
       "      <td>ABW</td>\n",
       "      <td>10.244</td>\n",
       "      <td>78.9</td>\n",
       "      <td>High income</td>\n",
       "    </tr>\n",
       "    <tr>\n",
       "      <th>1</th>\n",
       "      <td>Afghanistan</td>\n",
       "      <td>AFG</td>\n",
       "      <td>35.253</td>\n",
       "      <td>5.9</td>\n",
       "      <td>Low income</td>\n",
       "    </tr>\n",
       "    <tr>\n",
       "      <th>2</th>\n",
       "      <td>Angola</td>\n",
       "      <td>AGO</td>\n",
       "      <td>45.985</td>\n",
       "      <td>19.1</td>\n",
       "      <td>Upper middle income</td>\n",
       "    </tr>\n",
       "    <tr>\n",
       "      <th>3</th>\n",
       "      <td>Albania</td>\n",
       "      <td>ALB</td>\n",
       "      <td>12.877</td>\n",
       "      <td>57.2</td>\n",
       "      <td>Upper middle income</td>\n",
       "    </tr>\n",
       "    <tr>\n",
       "      <th>4</th>\n",
       "      <td>United Arab Emirates</td>\n",
       "      <td>ARE</td>\n",
       "      <td>11.044</td>\n",
       "      <td>88.0</td>\n",
       "      <td>High income</td>\n",
       "    </tr>\n",
       "  </tbody>\n",
       "</table>\n",
       "</div>"
      ],
      "text/plain": [
       "             NombrePais CodigoPais  TasaNatalidad  UsuariosInternet  \\\n",
       "0                 Aruba        ABW         10.244              78.9   \n",
       "1           Afghanistan        AFG         35.253               5.9   \n",
       "2                Angola        AGO         45.985              19.1   \n",
       "3               Albania        ALB         12.877              57.2   \n",
       "4  United Arab Emirates        ARE         11.044              88.0   \n",
       "\n",
       "         GrupoIngresos  \n",
       "0          High income  \n",
       "1           Low income  \n",
       "2  Upper middle income  \n",
       "3  Upper middle income  \n",
       "4          High income  "
      ]
     },
     "execution_count": 49,
     "metadata": {},
     "output_type": "execute_result"
    }
   ],
   "source": [
    "datos.head()"
   ]
  },
  {
   "cell_type": "code",
   "execution_count": 50,
   "metadata": {},
   "outputs": [],
   "source": [
    "# Tres partes:\n",
    "# - Filas\n",
    "# - Columnas\n",
    "# - Combinaciones"
   ]
  },
  {
   "cell_type": "code",
   "execution_count": 51,
   "metadata": {},
   "outputs": [
    {
     "data": {
      "text/html": [
       "<div>\n",
       "<style scoped>\n",
       "    .dataframe tbody tr th:only-of-type {\n",
       "        vertical-align: middle;\n",
       "    }\n",
       "\n",
       "    .dataframe tbody tr th {\n",
       "        vertical-align: top;\n",
       "    }\n",
       "\n",
       "    .dataframe thead th {\n",
       "        text-align: right;\n",
       "    }\n",
       "</style>\n",
       "<table border=\"1\" class=\"dataframe\">\n",
       "  <thead>\n",
       "    <tr style=\"text-align: right;\">\n",
       "      <th></th>\n",
       "      <th>NombrePais</th>\n",
       "      <th>CodigoPais</th>\n",
       "      <th>TasaNatalidad</th>\n",
       "      <th>UsuariosInternet</th>\n",
       "      <th>GrupoIngresos</th>\n",
       "    </tr>\n",
       "  </thead>\n",
       "  <tbody>\n",
       "    <tr>\n",
       "      <th>21</th>\n",
       "      <td>Belize</td>\n",
       "      <td>BLZ</td>\n",
       "      <td>23.092</td>\n",
       "      <td>33.60</td>\n",
       "      <td>Upper middle income</td>\n",
       "    </tr>\n",
       "    <tr>\n",
       "      <th>22</th>\n",
       "      <td>Bermuda</td>\n",
       "      <td>BMU</td>\n",
       "      <td>10.400</td>\n",
       "      <td>95.30</td>\n",
       "      <td>High income</td>\n",
       "    </tr>\n",
       "    <tr>\n",
       "      <th>23</th>\n",
       "      <td>Bolivia</td>\n",
       "      <td>BOL</td>\n",
       "      <td>24.236</td>\n",
       "      <td>36.94</td>\n",
       "      <td>Lower middle income</td>\n",
       "    </tr>\n",
       "    <tr>\n",
       "      <th>24</th>\n",
       "      <td>Brazil</td>\n",
       "      <td>BRA</td>\n",
       "      <td>14.931</td>\n",
       "      <td>51.04</td>\n",
       "      <td>Upper middle income</td>\n",
       "    </tr>\n",
       "    <tr>\n",
       "      <th>25</th>\n",
       "      <td>Barbados</td>\n",
       "      <td>BRB</td>\n",
       "      <td>12.188</td>\n",
       "      <td>73.00</td>\n",
       "      <td>High income</td>\n",
       "    </tr>\n",
       "  </tbody>\n",
       "</table>\n",
       "</div>"
      ],
      "text/plain": [
       "   NombrePais CodigoPais  TasaNatalidad  UsuariosInternet        GrupoIngresos\n",
       "21     Belize        BLZ         23.092             33.60  Upper middle income\n",
       "22    Bermuda        BMU         10.400             95.30          High income\n",
       "23    Bolivia        BOL         24.236             36.94  Lower middle income\n",
       "24     Brazil        BRA         14.931             51.04  Upper middle income\n",
       "25   Barbados        BRB         12.188             73.00          High income"
      ]
     },
     "execution_count": 51,
     "metadata": {},
     "output_type": "execute_result"
    }
   ],
   "source": [
    "datos[21:26]"
   ]
  },
  {
   "cell_type": "code",
   "execution_count": 52,
   "metadata": {},
   "outputs": [
    {
     "data": {
      "text/html": [
       "<div>\n",
       "<style scoped>\n",
       "    .dataframe tbody tr th:only-of-type {\n",
       "        vertical-align: middle;\n",
       "    }\n",
       "\n",
       "    .dataframe tbody tr th {\n",
       "        vertical-align: top;\n",
       "    }\n",
       "\n",
       "    .dataframe thead th {\n",
       "        text-align: right;\n",
       "    }\n",
       "</style>\n",
       "<table border=\"1\" class=\"dataframe\">\n",
       "  <thead>\n",
       "    <tr style=\"text-align: right;\">\n",
       "      <th></th>\n",
       "      <th>NombrePais</th>\n",
       "      <th>CodigoPais</th>\n",
       "      <th>TasaNatalidad</th>\n",
       "      <th>UsuariosInternet</th>\n",
       "      <th>GrupoIngresos</th>\n",
       "    </tr>\n",
       "  </thead>\n",
       "  <tbody>\n",
       "    <tr>\n",
       "      <th>2</th>\n",
       "      <td>Angola</td>\n",
       "      <td>AGO</td>\n",
       "      <td>45.985</td>\n",
       "      <td>19.1</td>\n",
       "      <td>Upper middle income</td>\n",
       "    </tr>\n",
       "    <tr>\n",
       "      <th>3</th>\n",
       "      <td>Albania</td>\n",
       "      <td>ALB</td>\n",
       "      <td>12.877</td>\n",
       "      <td>57.2</td>\n",
       "      <td>Upper middle income</td>\n",
       "    </tr>\n",
       "  </tbody>\n",
       "</table>\n",
       "</div>"
      ],
      "text/plain": [
       "  NombrePais CodigoPais  TasaNatalidad  UsuariosInternet        GrupoIngresos\n",
       "2     Angola        AGO         45.985              19.1  Upper middle income\n",
       "3    Albania        ALB         12.877              57.2  Upper middle income"
      ]
     },
     "execution_count": 52,
     "metadata": {},
     "output_type": "execute_result"
    }
   ],
   "source": [
    "datos[2:4]"
   ]
  },
  {
   "cell_type": "code",
   "execution_count": 53,
   "metadata": {},
   "outputs": [
    {
     "data": {
      "text/html": [
       "<div>\n",
       "<style scoped>\n",
       "    .dataframe tbody tr th:only-of-type {\n",
       "        vertical-align: middle;\n",
       "    }\n",
       "\n",
       "    .dataframe tbody tr th {\n",
       "        vertical-align: top;\n",
       "    }\n",
       "\n",
       "    .dataframe thead th {\n",
       "        text-align: right;\n",
       "    }\n",
       "</style>\n",
       "<table border=\"1\" class=\"dataframe\">\n",
       "  <thead>\n",
       "    <tr style=\"text-align: right;\">\n",
       "      <th></th>\n",
       "      <th>NombrePais</th>\n",
       "      <th>CodigoPais</th>\n",
       "      <th>TasaNatalidad</th>\n",
       "      <th>UsuariosInternet</th>\n",
       "      <th>GrupoIngresos</th>\n",
       "    </tr>\n",
       "  </thead>\n",
       "  <tbody>\n",
       "    <tr>\n",
       "      <th>0</th>\n",
       "      <td>Aruba</td>\n",
       "      <td>ABW</td>\n",
       "      <td>10.244</td>\n",
       "      <td>78.9</td>\n",
       "      <td>High income</td>\n",
       "    </tr>\n",
       "    <tr>\n",
       "      <th>1</th>\n",
       "      <td>Afghanistan</td>\n",
       "      <td>AFG</td>\n",
       "      <td>35.253</td>\n",
       "      <td>5.9</td>\n",
       "      <td>Low income</td>\n",
       "    </tr>\n",
       "    <tr>\n",
       "      <th>2</th>\n",
       "      <td>Angola</td>\n",
       "      <td>AGO</td>\n",
       "      <td>45.985</td>\n",
       "      <td>19.1</td>\n",
       "      <td>Upper middle income</td>\n",
       "    </tr>\n",
       "    <tr>\n",
       "      <th>3</th>\n",
       "      <td>Albania</td>\n",
       "      <td>ALB</td>\n",
       "      <td>12.877</td>\n",
       "      <td>57.2</td>\n",
       "      <td>Upper middle income</td>\n",
       "    </tr>\n",
       "    <tr>\n",
       "      <th>4</th>\n",
       "      <td>United Arab Emirates</td>\n",
       "      <td>ARE</td>\n",
       "      <td>11.044</td>\n",
       "      <td>88.0</td>\n",
       "      <td>High income</td>\n",
       "    </tr>\n",
       "    <tr>\n",
       "      <th>...</th>\n",
       "      <td>...</td>\n",
       "      <td>...</td>\n",
       "      <td>...</td>\n",
       "      <td>...</td>\n",
       "      <td>...</td>\n",
       "    </tr>\n",
       "    <tr>\n",
       "      <th>190</th>\n",
       "      <td>Yemen, Rep.</td>\n",
       "      <td>YEM</td>\n",
       "      <td>32.947</td>\n",
       "      <td>20.0</td>\n",
       "      <td>Lower middle income</td>\n",
       "    </tr>\n",
       "    <tr>\n",
       "      <th>191</th>\n",
       "      <td>South Africa</td>\n",
       "      <td>ZAF</td>\n",
       "      <td>20.850</td>\n",
       "      <td>46.5</td>\n",
       "      <td>Upper middle income</td>\n",
       "    </tr>\n",
       "    <tr>\n",
       "      <th>192</th>\n",
       "      <td>Congo, Dem. Rep.</td>\n",
       "      <td>COD</td>\n",
       "      <td>42.394</td>\n",
       "      <td>2.2</td>\n",
       "      <td>Low income</td>\n",
       "    </tr>\n",
       "    <tr>\n",
       "      <th>193</th>\n",
       "      <td>Zambia</td>\n",
       "      <td>ZMB</td>\n",
       "      <td>40.471</td>\n",
       "      <td>15.4</td>\n",
       "      <td>Lower middle income</td>\n",
       "    </tr>\n",
       "    <tr>\n",
       "      <th>194</th>\n",
       "      <td>Zimbabwe</td>\n",
       "      <td>ZWE</td>\n",
       "      <td>35.715</td>\n",
       "      <td>18.5</td>\n",
       "      <td>Low income</td>\n",
       "    </tr>\n",
       "  </tbody>\n",
       "</table>\n",
       "<p>195 rows × 5 columns</p>\n",
       "</div>"
      ],
      "text/plain": [
       "               NombrePais CodigoPais  TasaNatalidad  UsuariosInternet  \\\n",
       "0                   Aruba        ABW         10.244              78.9   \n",
       "1             Afghanistan        AFG         35.253               5.9   \n",
       "2                  Angola        AGO         45.985              19.1   \n",
       "3                 Albania        ALB         12.877              57.2   \n",
       "4    United Arab Emirates        ARE         11.044              88.0   \n",
       "..                    ...        ...            ...               ...   \n",
       "190           Yemen, Rep.        YEM         32.947              20.0   \n",
       "191          South Africa        ZAF         20.850              46.5   \n",
       "192      Congo, Dem. Rep.        COD         42.394               2.2   \n",
       "193                Zambia        ZMB         40.471              15.4   \n",
       "194              Zimbabwe        ZWE         35.715              18.5   \n",
       "\n",
       "           GrupoIngresos  \n",
       "0            High income  \n",
       "1             Low income  \n",
       "2    Upper middle income  \n",
       "3    Upper middle income  \n",
       "4            High income  \n",
       "..                   ...  \n",
       "190  Lower middle income  \n",
       "191  Upper middle income  \n",
       "192           Low income  \n",
       "193  Lower middle income  \n",
       "194           Low income  \n",
       "\n",
       "[195 rows x 5 columns]"
      ]
     },
     "execution_count": 53,
     "metadata": {},
     "output_type": "execute_result"
    }
   ],
   "source": [
    "datos[:]"
   ]
  },
  {
   "cell_type": "code",
   "execution_count": 55,
   "metadata": {},
   "outputs": [
    {
     "data": {
      "text/html": [
       "<div>\n",
       "<style scoped>\n",
       "    .dataframe tbody tr th:only-of-type {\n",
       "        vertical-align: middle;\n",
       "    }\n",
       "\n",
       "    .dataframe tbody tr th {\n",
       "        vertical-align: top;\n",
       "    }\n",
       "\n",
       "    .dataframe thead th {\n",
       "        text-align: right;\n",
       "    }\n",
       "</style>\n",
       "<table border=\"1\" class=\"dataframe\">\n",
       "  <thead>\n",
       "    <tr style=\"text-align: right;\">\n",
       "      <th></th>\n",
       "      <th>NombrePais</th>\n",
       "      <th>CodigoPais</th>\n",
       "      <th>TasaNatalidad</th>\n",
       "      <th>UsuariosInternet</th>\n",
       "      <th>GrupoIngresos</th>\n",
       "    </tr>\n",
       "  </thead>\n",
       "  <tbody>\n",
       "    <tr>\n",
       "      <th>0</th>\n",
       "      <td>Aruba</td>\n",
       "      <td>ABW</td>\n",
       "      <td>10.244</td>\n",
       "      <td>78.9000</td>\n",
       "      <td>High income</td>\n",
       "    </tr>\n",
       "    <tr>\n",
       "      <th>1</th>\n",
       "      <td>Afghanistan</td>\n",
       "      <td>AFG</td>\n",
       "      <td>35.253</td>\n",
       "      <td>5.9000</td>\n",
       "      <td>Low income</td>\n",
       "    </tr>\n",
       "    <tr>\n",
       "      <th>2</th>\n",
       "      <td>Angola</td>\n",
       "      <td>AGO</td>\n",
       "      <td>45.985</td>\n",
       "      <td>19.1000</td>\n",
       "      <td>Upper middle income</td>\n",
       "    </tr>\n",
       "    <tr>\n",
       "      <th>3</th>\n",
       "      <td>Albania</td>\n",
       "      <td>ALB</td>\n",
       "      <td>12.877</td>\n",
       "      <td>57.2000</td>\n",
       "      <td>Upper middle income</td>\n",
       "    </tr>\n",
       "    <tr>\n",
       "      <th>4</th>\n",
       "      <td>United Arab Emirates</td>\n",
       "      <td>ARE</td>\n",
       "      <td>11.044</td>\n",
       "      <td>88.0000</td>\n",
       "      <td>High income</td>\n",
       "    </tr>\n",
       "    <tr>\n",
       "      <th>5</th>\n",
       "      <td>Argentina</td>\n",
       "      <td>ARG</td>\n",
       "      <td>17.716</td>\n",
       "      <td>59.9000</td>\n",
       "      <td>High income</td>\n",
       "    </tr>\n",
       "    <tr>\n",
       "      <th>6</th>\n",
       "      <td>Armenia</td>\n",
       "      <td>ARM</td>\n",
       "      <td>13.308</td>\n",
       "      <td>41.9000</td>\n",
       "      <td>Lower middle income</td>\n",
       "    </tr>\n",
       "    <tr>\n",
       "      <th>7</th>\n",
       "      <td>Antigua and Barbuda</td>\n",
       "      <td>ATG</td>\n",
       "      <td>16.447</td>\n",
       "      <td>63.4000</td>\n",
       "      <td>High income</td>\n",
       "    </tr>\n",
       "    <tr>\n",
       "      <th>8</th>\n",
       "      <td>Australia</td>\n",
       "      <td>AUS</td>\n",
       "      <td>13.200</td>\n",
       "      <td>83.0000</td>\n",
       "      <td>High income</td>\n",
       "    </tr>\n",
       "    <tr>\n",
       "      <th>9</th>\n",
       "      <td>Austria</td>\n",
       "      <td>AUT</td>\n",
       "      <td>9.400</td>\n",
       "      <td>80.6188</td>\n",
       "      <td>High income</td>\n",
       "    </tr>\n",
       "  </tbody>\n",
       "</table>\n",
       "</div>"
      ],
      "text/plain": [
       "             NombrePais CodigoPais  TasaNatalidad  UsuariosInternet  \\\n",
       "0                 Aruba        ABW         10.244           78.9000   \n",
       "1           Afghanistan        AFG         35.253            5.9000   \n",
       "2                Angola        AGO         45.985           19.1000   \n",
       "3               Albania        ALB         12.877           57.2000   \n",
       "4  United Arab Emirates        ARE         11.044           88.0000   \n",
       "5             Argentina        ARG         17.716           59.9000   \n",
       "6               Armenia        ARM         13.308           41.9000   \n",
       "7   Antigua and Barbuda        ATG         16.447           63.4000   \n",
       "8             Australia        AUS         13.200           83.0000   \n",
       "9               Austria        AUT          9.400           80.6188   \n",
       "\n",
       "         GrupoIngresos  \n",
       "0          High income  \n",
       "1           Low income  \n",
       "2  Upper middle income  \n",
       "3  Upper middle income  \n",
       "4          High income  \n",
       "5          High income  \n",
       "6  Lower middle income  \n",
       "7          High income  \n",
       "8          High income  \n",
       "9          High income  "
      ]
     },
     "execution_count": 55,
     "metadata": {},
     "output_type": "execute_result"
    }
   ],
   "source": [
    "datos[:10] # = datos.head(10)"
   ]
  },
  {
   "cell_type": "code",
   "execution_count": 56,
   "metadata": {},
   "outputs": [
    {
     "data": {
      "text/html": [
       "<div>\n",
       "<style scoped>\n",
       "    .dataframe tbody tr th:only-of-type {\n",
       "        vertical-align: middle;\n",
       "    }\n",
       "\n",
       "    .dataframe tbody tr th {\n",
       "        vertical-align: top;\n",
       "    }\n",
       "\n",
       "    .dataframe thead th {\n",
       "        text-align: right;\n",
       "    }\n",
       "</style>\n",
       "<table border=\"1\" class=\"dataframe\">\n",
       "  <thead>\n",
       "    <tr style=\"text-align: right;\">\n",
       "      <th></th>\n",
       "      <th>NombrePais</th>\n",
       "      <th>CodigoPais</th>\n",
       "      <th>TasaNatalidad</th>\n",
       "      <th>UsuariosInternet</th>\n",
       "      <th>GrupoIngresos</th>\n",
       "    </tr>\n",
       "  </thead>\n",
       "  <tbody>\n",
       "    <tr>\n",
       "      <th>50</th>\n",
       "      <td>Ecuador</td>\n",
       "      <td>ECU</td>\n",
       "      <td>21.070</td>\n",
       "      <td>40.353684</td>\n",
       "      <td>Upper middle income</td>\n",
       "    </tr>\n",
       "    <tr>\n",
       "      <th>52</th>\n",
       "      <td>Eritrea</td>\n",
       "      <td>ERI</td>\n",
       "      <td>34.800</td>\n",
       "      <td>0.900000</td>\n",
       "      <td>Low income</td>\n",
       "    </tr>\n",
       "    <tr>\n",
       "      <th>54</th>\n",
       "      <td>Estonia</td>\n",
       "      <td>EST</td>\n",
       "      <td>10.300</td>\n",
       "      <td>79.400000</td>\n",
       "      <td>High income</td>\n",
       "    </tr>\n",
       "    <tr>\n",
       "      <th>56</th>\n",
       "      <td>Finland</td>\n",
       "      <td>FIN</td>\n",
       "      <td>10.700</td>\n",
       "      <td>91.514400</td>\n",
       "      <td>High income</td>\n",
       "    </tr>\n",
       "    <tr>\n",
       "      <th>58</th>\n",
       "      <td>France</td>\n",
       "      <td>FRA</td>\n",
       "      <td>12.300</td>\n",
       "      <td>81.919800</td>\n",
       "      <td>High income</td>\n",
       "    </tr>\n",
       "    <tr>\n",
       "      <th>60</th>\n",
       "      <td>Gabon</td>\n",
       "      <td>GAB</td>\n",
       "      <td>30.555</td>\n",
       "      <td>9.200000</td>\n",
       "      <td>Upper middle income</td>\n",
       "    </tr>\n",
       "    <tr>\n",
       "      <th>62</th>\n",
       "      <td>Georgia</td>\n",
       "      <td>GEO</td>\n",
       "      <td>13.332</td>\n",
       "      <td>43.300000</td>\n",
       "      <td>Lower middle income</td>\n",
       "    </tr>\n",
       "    <tr>\n",
       "      <th>64</th>\n",
       "      <td>Guinea</td>\n",
       "      <td>GIN</td>\n",
       "      <td>37.337</td>\n",
       "      <td>1.600000</td>\n",
       "      <td>Low income</td>\n",
       "    </tr>\n",
       "    <tr>\n",
       "      <th>66</th>\n",
       "      <td>Guinea-Bissau</td>\n",
       "      <td>GNB</td>\n",
       "      <td>37.503</td>\n",
       "      <td>3.100000</td>\n",
       "      <td>Low income</td>\n",
       "    </tr>\n",
       "    <tr>\n",
       "      <th>68</th>\n",
       "      <td>Greece</td>\n",
       "      <td>GRC</td>\n",
       "      <td>8.500</td>\n",
       "      <td>59.866300</td>\n",
       "      <td>High income</td>\n",
       "    </tr>\n",
       "    <tr>\n",
       "      <th>70</th>\n",
       "      <td>Greenland</td>\n",
       "      <td>GRL</td>\n",
       "      <td>14.500</td>\n",
       "      <td>65.800000</td>\n",
       "      <td>High income</td>\n",
       "    </tr>\n",
       "  </tbody>\n",
       "</table>\n",
       "</div>"
      ],
      "text/plain": [
       "       NombrePais CodigoPais  TasaNatalidad  UsuariosInternet  \\\n",
       "50        Ecuador        ECU         21.070         40.353684   \n",
       "52        Eritrea        ERI         34.800          0.900000   \n",
       "54        Estonia        EST         10.300         79.400000   \n",
       "56        Finland        FIN         10.700         91.514400   \n",
       "58         France        FRA         12.300         81.919800   \n",
       "60          Gabon        GAB         30.555          9.200000   \n",
       "62        Georgia        GEO         13.332         43.300000   \n",
       "64         Guinea        GIN         37.337          1.600000   \n",
       "66  Guinea-Bissau        GNB         37.503          3.100000   \n",
       "68         Greece        GRC          8.500         59.866300   \n",
       "70      Greenland        GRL         14.500         65.800000   \n",
       "\n",
       "          GrupoIngresos  \n",
       "50  Upper middle income  \n",
       "52           Low income  \n",
       "54          High income  \n",
       "56          High income  \n",
       "58          High income  \n",
       "60  Upper middle income  \n",
       "62  Lower middle income  \n",
       "64           Low income  \n",
       "66           Low income  \n",
       "68          High income  \n",
       "70          High income  "
      ]
     },
     "execution_count": 56,
     "metadata": {},
     "output_type": "execute_result"
    }
   ],
   "source": [
    "datos[50:71:2]"
   ]
  },
  {
   "cell_type": "code",
   "execution_count": 57,
   "metadata": {},
   "outputs": [],
   "source": [
    "# Ejercicio rápido\n",
    "# Invertir el DataFrame"
   ]
  },
  {
   "cell_type": "code",
   "execution_count": 58,
   "metadata": {},
   "outputs": [
    {
     "data": {
      "text/html": [
       "<div>\n",
       "<style scoped>\n",
       "    .dataframe tbody tr th:only-of-type {\n",
       "        vertical-align: middle;\n",
       "    }\n",
       "\n",
       "    .dataframe tbody tr th {\n",
       "        vertical-align: top;\n",
       "    }\n",
       "\n",
       "    .dataframe thead th {\n",
       "        text-align: right;\n",
       "    }\n",
       "</style>\n",
       "<table border=\"1\" class=\"dataframe\">\n",
       "  <thead>\n",
       "    <tr style=\"text-align: right;\">\n",
       "      <th></th>\n",
       "      <th>NombrePais</th>\n",
       "      <th>CodigoPais</th>\n",
       "      <th>TasaNatalidad</th>\n",
       "      <th>UsuariosInternet</th>\n",
       "      <th>GrupoIngresos</th>\n",
       "    </tr>\n",
       "  </thead>\n",
       "  <tbody>\n",
       "    <tr>\n",
       "      <th>194</th>\n",
       "      <td>Zimbabwe</td>\n",
       "      <td>ZWE</td>\n",
       "      <td>35.715</td>\n",
       "      <td>18.5</td>\n",
       "      <td>Low income</td>\n",
       "    </tr>\n",
       "    <tr>\n",
       "      <th>193</th>\n",
       "      <td>Zambia</td>\n",
       "      <td>ZMB</td>\n",
       "      <td>40.471</td>\n",
       "      <td>15.4</td>\n",
       "      <td>Lower middle income</td>\n",
       "    </tr>\n",
       "    <tr>\n",
       "      <th>192</th>\n",
       "      <td>Congo, Dem. Rep.</td>\n",
       "      <td>COD</td>\n",
       "      <td>42.394</td>\n",
       "      <td>2.2</td>\n",
       "      <td>Low income</td>\n",
       "    </tr>\n",
       "    <tr>\n",
       "      <th>191</th>\n",
       "      <td>South Africa</td>\n",
       "      <td>ZAF</td>\n",
       "      <td>20.850</td>\n",
       "      <td>46.5</td>\n",
       "      <td>Upper middle income</td>\n",
       "    </tr>\n",
       "    <tr>\n",
       "      <th>190</th>\n",
       "      <td>Yemen, Rep.</td>\n",
       "      <td>YEM</td>\n",
       "      <td>32.947</td>\n",
       "      <td>20.0</td>\n",
       "      <td>Lower middle income</td>\n",
       "    </tr>\n",
       "    <tr>\n",
       "      <th>...</th>\n",
       "      <td>...</td>\n",
       "      <td>...</td>\n",
       "      <td>...</td>\n",
       "      <td>...</td>\n",
       "      <td>...</td>\n",
       "    </tr>\n",
       "    <tr>\n",
       "      <th>4</th>\n",
       "      <td>United Arab Emirates</td>\n",
       "      <td>ARE</td>\n",
       "      <td>11.044</td>\n",
       "      <td>88.0</td>\n",
       "      <td>High income</td>\n",
       "    </tr>\n",
       "    <tr>\n",
       "      <th>3</th>\n",
       "      <td>Albania</td>\n",
       "      <td>ALB</td>\n",
       "      <td>12.877</td>\n",
       "      <td>57.2</td>\n",
       "      <td>Upper middle income</td>\n",
       "    </tr>\n",
       "    <tr>\n",
       "      <th>2</th>\n",
       "      <td>Angola</td>\n",
       "      <td>AGO</td>\n",
       "      <td>45.985</td>\n",
       "      <td>19.1</td>\n",
       "      <td>Upper middle income</td>\n",
       "    </tr>\n",
       "    <tr>\n",
       "      <th>1</th>\n",
       "      <td>Afghanistan</td>\n",
       "      <td>AFG</td>\n",
       "      <td>35.253</td>\n",
       "      <td>5.9</td>\n",
       "      <td>Low income</td>\n",
       "    </tr>\n",
       "    <tr>\n",
       "      <th>0</th>\n",
       "      <td>Aruba</td>\n",
       "      <td>ABW</td>\n",
       "      <td>10.244</td>\n",
       "      <td>78.9</td>\n",
       "      <td>High income</td>\n",
       "    </tr>\n",
       "  </tbody>\n",
       "</table>\n",
       "<p>195 rows × 5 columns</p>\n",
       "</div>"
      ],
      "text/plain": [
       "               NombrePais CodigoPais  TasaNatalidad  UsuariosInternet  \\\n",
       "194              Zimbabwe        ZWE         35.715              18.5   \n",
       "193                Zambia        ZMB         40.471              15.4   \n",
       "192      Congo, Dem. Rep.        COD         42.394               2.2   \n",
       "191          South Africa        ZAF         20.850              46.5   \n",
       "190           Yemen, Rep.        YEM         32.947              20.0   \n",
       "..                    ...        ...            ...               ...   \n",
       "4    United Arab Emirates        ARE         11.044              88.0   \n",
       "3                 Albania        ALB         12.877              57.2   \n",
       "2                  Angola        AGO         45.985              19.1   \n",
       "1             Afghanistan        AFG         35.253               5.9   \n",
       "0                   Aruba        ABW         10.244              78.9   \n",
       "\n",
       "           GrupoIngresos  \n",
       "194           Low income  \n",
       "193  Lower middle income  \n",
       "192           Low income  \n",
       "191  Upper middle income  \n",
       "190  Lower middle income  \n",
       "..                   ...  \n",
       "4            High income  \n",
       "3    Upper middle income  \n",
       "2    Upper middle income  \n",
       "1             Low income  \n",
       "0            High income  \n",
       "\n",
       "[195 rows x 5 columns]"
      ]
     },
     "execution_count": 58,
     "metadata": {},
     "output_type": "execute_result"
    }
   ],
   "source": [
    "datos[::-1]"
   ]
  },
  {
   "cell_type": "code",
   "execution_count": 61,
   "metadata": {},
   "outputs": [
    {
     "data": {
      "text/html": [
       "<div>\n",
       "<style scoped>\n",
       "    .dataframe tbody tr th:only-of-type {\n",
       "        vertical-align: middle;\n",
       "    }\n",
       "\n",
       "    .dataframe tbody tr th {\n",
       "        vertical-align: top;\n",
       "    }\n",
       "\n",
       "    .dataframe thead th {\n",
       "        text-align: right;\n",
       "    }\n",
       "</style>\n",
       "<table border=\"1\" class=\"dataframe\">\n",
       "  <thead>\n",
       "    <tr style=\"text-align: right;\">\n",
       "      <th></th>\n",
       "      <th>NombrePais</th>\n",
       "      <th>CodigoPais</th>\n",
       "      <th>TasaNatalidad</th>\n",
       "      <th>UsuariosInternet</th>\n",
       "      <th>GrupoIngresos</th>\n",
       "    </tr>\n",
       "  </thead>\n",
       "  <tbody>\n",
       "    <tr>\n",
       "      <th>0</th>\n",
       "      <td>Aruba</td>\n",
       "      <td>ABW</td>\n",
       "      <td>10.244</td>\n",
       "      <td>78.9</td>\n",
       "      <td>High income</td>\n",
       "    </tr>\n",
       "    <tr>\n",
       "      <th>1</th>\n",
       "      <td>Afghanistan</td>\n",
       "      <td>AFG</td>\n",
       "      <td>35.253</td>\n",
       "      <td>5.9</td>\n",
       "      <td>Low income</td>\n",
       "    </tr>\n",
       "    <tr>\n",
       "      <th>2</th>\n",
       "      <td>Angola</td>\n",
       "      <td>AGO</td>\n",
       "      <td>45.985</td>\n",
       "      <td>19.1</td>\n",
       "      <td>Upper middle income</td>\n",
       "    </tr>\n",
       "    <tr>\n",
       "      <th>3</th>\n",
       "      <td>Albania</td>\n",
       "      <td>ALB</td>\n",
       "      <td>12.877</td>\n",
       "      <td>57.2</td>\n",
       "      <td>Upper middle income</td>\n",
       "    </tr>\n",
       "    <tr>\n",
       "      <th>4</th>\n",
       "      <td>United Arab Emirates</td>\n",
       "      <td>ARE</td>\n",
       "      <td>11.044</td>\n",
       "      <td>88.0</td>\n",
       "      <td>High income</td>\n",
       "    </tr>\n",
       "    <tr>\n",
       "      <th>...</th>\n",
       "      <td>...</td>\n",
       "      <td>...</td>\n",
       "      <td>...</td>\n",
       "      <td>...</td>\n",
       "      <td>...</td>\n",
       "    </tr>\n",
       "    <tr>\n",
       "      <th>190</th>\n",
       "      <td>Yemen, Rep.</td>\n",
       "      <td>YEM</td>\n",
       "      <td>32.947</td>\n",
       "      <td>20.0</td>\n",
       "      <td>Lower middle income</td>\n",
       "    </tr>\n",
       "    <tr>\n",
       "      <th>191</th>\n",
       "      <td>South Africa</td>\n",
       "      <td>ZAF</td>\n",
       "      <td>20.850</td>\n",
       "      <td>46.5</td>\n",
       "      <td>Upper middle income</td>\n",
       "    </tr>\n",
       "    <tr>\n",
       "      <th>192</th>\n",
       "      <td>Congo, Dem. Rep.</td>\n",
       "      <td>COD</td>\n",
       "      <td>42.394</td>\n",
       "      <td>2.2</td>\n",
       "      <td>Low income</td>\n",
       "    </tr>\n",
       "    <tr>\n",
       "      <th>193</th>\n",
       "      <td>Zambia</td>\n",
       "      <td>ZMB</td>\n",
       "      <td>40.471</td>\n",
       "      <td>15.4</td>\n",
       "      <td>Lower middle income</td>\n",
       "    </tr>\n",
       "    <tr>\n",
       "      <th>194</th>\n",
       "      <td>Zimbabwe</td>\n",
       "      <td>ZWE</td>\n",
       "      <td>35.715</td>\n",
       "      <td>18.5</td>\n",
       "      <td>Low income</td>\n",
       "    </tr>\n",
       "  </tbody>\n",
       "</table>\n",
       "<p>195 rows × 5 columns</p>\n",
       "</div>"
      ],
      "text/plain": [
       "               NombrePais CodigoPais  TasaNatalidad  UsuariosInternet  \\\n",
       "0                   Aruba        ABW         10.244              78.9   \n",
       "1             Afghanistan        AFG         35.253               5.9   \n",
       "2                  Angola        AGO         45.985              19.1   \n",
       "3                 Albania        ALB         12.877              57.2   \n",
       "4    United Arab Emirates        ARE         11.044              88.0   \n",
       "..                    ...        ...            ...               ...   \n",
       "190           Yemen, Rep.        YEM         32.947              20.0   \n",
       "191          South Africa        ZAF         20.850              46.5   \n",
       "192      Congo, Dem. Rep.        COD         42.394               2.2   \n",
       "193                Zambia        ZMB         40.471              15.4   \n",
       "194              Zimbabwe        ZWE         35.715              18.5   \n",
       "\n",
       "           GrupoIngresos  \n",
       "0            High income  \n",
       "1             Low income  \n",
       "2    Upper middle income  \n",
       "3    Upper middle income  \n",
       "4            High income  \n",
       "..                   ...  \n",
       "190  Lower middle income  \n",
       "191  Upper middle income  \n",
       "192           Low income  \n",
       "193  Lower middle income  \n",
       "194           Low income  \n",
       "\n",
       "[195 rows x 5 columns]"
      ]
     },
     "execution_count": 61,
     "metadata": {},
     "output_type": "execute_result"
    }
   ],
   "source": [
    "datos # Vemos que nos e modifica el DataFrame"
   ]
  },
  {
   "cell_type": "code",
   "execution_count": 62,
   "metadata": {},
   "outputs": [],
   "source": [
    "# Ejercico rápido\n",
    "# Obtnener solamente cada 20 países o filas"
   ]
  },
  {
   "cell_type": "code",
   "execution_count": 63,
   "metadata": {},
   "outputs": [
    {
     "data": {
      "text/html": [
       "<div>\n",
       "<style scoped>\n",
       "    .dataframe tbody tr th:only-of-type {\n",
       "        vertical-align: middle;\n",
       "    }\n",
       "\n",
       "    .dataframe tbody tr th {\n",
       "        vertical-align: top;\n",
       "    }\n",
       "\n",
       "    .dataframe thead th {\n",
       "        text-align: right;\n",
       "    }\n",
       "</style>\n",
       "<table border=\"1\" class=\"dataframe\">\n",
       "  <thead>\n",
       "    <tr style=\"text-align: right;\">\n",
       "      <th></th>\n",
       "      <th>NombrePais</th>\n",
       "      <th>CodigoPais</th>\n",
       "      <th>TasaNatalidad</th>\n",
       "      <th>UsuariosInternet</th>\n",
       "      <th>GrupoIngresos</th>\n",
       "    </tr>\n",
       "  </thead>\n",
       "  <tbody>\n",
       "    <tr>\n",
       "      <th>0</th>\n",
       "      <td>Aruba</td>\n",
       "      <td>ABW</td>\n",
       "      <td>10.244</td>\n",
       "      <td>78.9000</td>\n",
       "      <td>High income</td>\n",
       "    </tr>\n",
       "    <tr>\n",
       "      <th>20</th>\n",
       "      <td>Belarus</td>\n",
       "      <td>BLR</td>\n",
       "      <td>12.500</td>\n",
       "      <td>54.1700</td>\n",
       "      <td>Upper middle income</td>\n",
       "    </tr>\n",
       "    <tr>\n",
       "      <th>40</th>\n",
       "      <td>Costa Rica</td>\n",
       "      <td>CRI</td>\n",
       "      <td>15.022</td>\n",
       "      <td>45.9600</td>\n",
       "      <td>Upper middle income</td>\n",
       "    </tr>\n",
       "    <tr>\n",
       "      <th>60</th>\n",
       "      <td>Gabon</td>\n",
       "      <td>GAB</td>\n",
       "      <td>30.555</td>\n",
       "      <td>9.2000</td>\n",
       "      <td>Upper middle income</td>\n",
       "    </tr>\n",
       "    <tr>\n",
       "      <th>80</th>\n",
       "      <td>India</td>\n",
       "      <td>IND</td>\n",
       "      <td>20.291</td>\n",
       "      <td>15.1000</td>\n",
       "      <td>Lower middle income</td>\n",
       "    </tr>\n",
       "    <tr>\n",
       "      <th>100</th>\n",
       "      <td>Libya</td>\n",
       "      <td>LBY</td>\n",
       "      <td>21.425</td>\n",
       "      <td>16.5000</td>\n",
       "      <td>Upper middle income</td>\n",
       "    </tr>\n",
       "    <tr>\n",
       "      <th>120</th>\n",
       "      <td>Mozambique</td>\n",
       "      <td>MOZ</td>\n",
       "      <td>39.705</td>\n",
       "      <td>5.4000</td>\n",
       "      <td>Low income</td>\n",
       "    </tr>\n",
       "    <tr>\n",
       "      <th>140</th>\n",
       "      <td>Poland</td>\n",
       "      <td>POL</td>\n",
       "      <td>9.600</td>\n",
       "      <td>62.8492</td>\n",
       "      <td>High income</td>\n",
       "    </tr>\n",
       "    <tr>\n",
       "      <th>160</th>\n",
       "      <td>Suriname</td>\n",
       "      <td>SUR</td>\n",
       "      <td>18.455</td>\n",
       "      <td>37.4000</td>\n",
       "      <td>Upper middle income</td>\n",
       "    </tr>\n",
       "    <tr>\n",
       "      <th>180</th>\n",
       "      <td>Uruguay</td>\n",
       "      <td>URY</td>\n",
       "      <td>14.374</td>\n",
       "      <td>57.6900</td>\n",
       "      <td>High income</td>\n",
       "    </tr>\n",
       "  </tbody>\n",
       "</table>\n",
       "</div>"
      ],
      "text/plain": [
       "     NombrePais CodigoPais  TasaNatalidad  UsuariosInternet  \\\n",
       "0         Aruba        ABW         10.244           78.9000   \n",
       "20      Belarus        BLR         12.500           54.1700   \n",
       "40   Costa Rica        CRI         15.022           45.9600   \n",
       "60        Gabon        GAB         30.555            9.2000   \n",
       "80        India        IND         20.291           15.1000   \n",
       "100       Libya        LBY         21.425           16.5000   \n",
       "120  Mozambique        MOZ         39.705            5.4000   \n",
       "140      Poland        POL          9.600           62.8492   \n",
       "160    Suriname        SUR         18.455           37.4000   \n",
       "180     Uruguay        URY         14.374           57.6900   \n",
       "\n",
       "           GrupoIngresos  \n",
       "0            High income  \n",
       "20   Upper middle income  \n",
       "40   Upper middle income  \n",
       "60   Upper middle income  \n",
       "80   Lower middle income  \n",
       "100  Upper middle income  \n",
       "120           Low income  \n",
       "140          High income  \n",
       "160  Upper middle income  \n",
       "180          High income  "
      ]
     },
     "execution_count": 63,
     "metadata": {},
     "output_type": "execute_result"
    }
   ],
   "source": [
    "datos[::20]"
   ]
  },
  {
   "cell_type": "markdown",
   "metadata": {},
   "source": [
    "Parte 2: Columnas"
   ]
  },
  {
   "cell_type": "code",
   "execution_count": 64,
   "metadata": {},
   "outputs": [
    {
     "data": {
      "text/html": [
       "<div>\n",
       "<style scoped>\n",
       "    .dataframe tbody tr th:only-of-type {\n",
       "        vertical-align: middle;\n",
       "    }\n",
       "\n",
       "    .dataframe tbody tr th {\n",
       "        vertical-align: top;\n",
       "    }\n",
       "\n",
       "    .dataframe thead th {\n",
       "        text-align: right;\n",
       "    }\n",
       "</style>\n",
       "<table border=\"1\" class=\"dataframe\">\n",
       "  <thead>\n",
       "    <tr style=\"text-align: right;\">\n",
       "      <th></th>\n",
       "      <th>NombrePais</th>\n",
       "      <th>CodigoPais</th>\n",
       "      <th>TasaNatalidad</th>\n",
       "      <th>UsuariosInternet</th>\n",
       "      <th>GrupoIngresos</th>\n",
       "    </tr>\n",
       "  </thead>\n",
       "  <tbody>\n",
       "    <tr>\n",
       "      <th>0</th>\n",
       "      <td>Aruba</td>\n",
       "      <td>ABW</td>\n",
       "      <td>10.244</td>\n",
       "      <td>78.9</td>\n",
       "      <td>High income</td>\n",
       "    </tr>\n",
       "    <tr>\n",
       "      <th>1</th>\n",
       "      <td>Afghanistan</td>\n",
       "      <td>AFG</td>\n",
       "      <td>35.253</td>\n",
       "      <td>5.9</td>\n",
       "      <td>Low income</td>\n",
       "    </tr>\n",
       "    <tr>\n",
       "      <th>2</th>\n",
       "      <td>Angola</td>\n",
       "      <td>AGO</td>\n",
       "      <td>45.985</td>\n",
       "      <td>19.1</td>\n",
       "      <td>Upper middle income</td>\n",
       "    </tr>\n",
       "    <tr>\n",
       "      <th>3</th>\n",
       "      <td>Albania</td>\n",
       "      <td>ALB</td>\n",
       "      <td>12.877</td>\n",
       "      <td>57.2</td>\n",
       "      <td>Upper middle income</td>\n",
       "    </tr>\n",
       "    <tr>\n",
       "      <th>4</th>\n",
       "      <td>United Arab Emirates</td>\n",
       "      <td>ARE</td>\n",
       "      <td>11.044</td>\n",
       "      <td>88.0</td>\n",
       "      <td>High income</td>\n",
       "    </tr>\n",
       "  </tbody>\n",
       "</table>\n",
       "</div>"
      ],
      "text/plain": [
       "             NombrePais CodigoPais  TasaNatalidad  UsuariosInternet  \\\n",
       "0                 Aruba        ABW         10.244              78.9   \n",
       "1           Afghanistan        AFG         35.253               5.9   \n",
       "2                Angola        AGO         45.985              19.1   \n",
       "3               Albania        ALB         12.877              57.2   \n",
       "4  United Arab Emirates        ARE         11.044              88.0   \n",
       "\n",
       "         GrupoIngresos  \n",
       "0          High income  \n",
       "1           Low income  \n",
       "2  Upper middle income  \n",
       "3  Upper middle income  \n",
       "4          High income  "
      ]
     },
     "execution_count": 64,
     "metadata": {},
     "output_type": "execute_result"
    }
   ],
   "source": [
    "datos.head()"
   ]
  },
  {
   "cell_type": "code",
   "execution_count": 65,
   "metadata": {},
   "outputs": [
    {
     "data": {
      "text/plain": [
       "0                     Aruba\n",
       "1               Afghanistan\n",
       "2                    Angola\n",
       "3                   Albania\n",
       "4      United Arab Emirates\n",
       "               ...         \n",
       "190             Yemen, Rep.\n",
       "191            South Africa\n",
       "192        Congo, Dem. Rep.\n",
       "193                  Zambia\n",
       "194                Zimbabwe\n",
       "Name: NombrePais, Length: 195, dtype: object"
      ]
     },
     "execution_count": 65,
     "metadata": {},
     "output_type": "execute_result"
    }
   ],
   "source": [
    "datos['NombrePais']"
   ]
  },
  {
   "cell_type": "code",
   "execution_count": 66,
   "metadata": {},
   "outputs": [
    {
     "data": {
      "text/plain": [
       "0                   Aruba\n",
       "1             Afghanistan\n",
       "2                  Angola\n",
       "3                 Albania\n",
       "4    United Arab Emirates\n",
       "Name: NombrePais, dtype: object"
      ]
     },
     "execution_count": 66,
     "metadata": {},
     "output_type": "execute_result"
    }
   ],
   "source": [
    "datos['NombrePais'].head()"
   ]
  },
  {
   "cell_type": "code",
   "execution_count": 69,
   "metadata": {},
   "outputs": [
    {
     "data": {
      "text/html": [
       "<div>\n",
       "<style scoped>\n",
       "    .dataframe tbody tr th:only-of-type {\n",
       "        vertical-align: middle;\n",
       "    }\n",
       "\n",
       "    .dataframe tbody tr th {\n",
       "        vertical-align: top;\n",
       "    }\n",
       "\n",
       "    .dataframe thead th {\n",
       "        text-align: right;\n",
       "    }\n",
       "</style>\n",
       "<table border=\"1\" class=\"dataframe\">\n",
       "  <thead>\n",
       "    <tr style=\"text-align: right;\">\n",
       "      <th></th>\n",
       "      <th>NombrePais</th>\n",
       "      <th>TasaNatalidad</th>\n",
       "    </tr>\n",
       "  </thead>\n",
       "  <tbody>\n",
       "    <tr>\n",
       "      <th>0</th>\n",
       "      <td>Aruba</td>\n",
       "      <td>10.244</td>\n",
       "    </tr>\n",
       "    <tr>\n",
       "      <th>1</th>\n",
       "      <td>Afghanistan</td>\n",
       "      <td>35.253</td>\n",
       "    </tr>\n",
       "    <tr>\n",
       "      <th>2</th>\n",
       "      <td>Angola</td>\n",
       "      <td>45.985</td>\n",
       "    </tr>\n",
       "    <tr>\n",
       "      <th>3</th>\n",
       "      <td>Albania</td>\n",
       "      <td>12.877</td>\n",
       "    </tr>\n",
       "    <tr>\n",
       "      <th>4</th>\n",
       "      <td>United Arab Emirates</td>\n",
       "      <td>11.044</td>\n",
       "    </tr>\n",
       "  </tbody>\n",
       "</table>\n",
       "</div>"
      ],
      "text/plain": [
       "             NombrePais  TasaNatalidad\n",
       "0                 Aruba         10.244\n",
       "1           Afghanistan         35.253\n",
       "2                Angola         45.985\n",
       "3               Albania         12.877\n",
       "4  United Arab Emirates         11.044"
      ]
     },
     "execution_count": 69,
     "metadata": {},
     "output_type": "execute_result"
    }
   ],
   "source": [
    "datos[['NombrePais','TasaNatalidad']].head() # Nótese que se toma como\n",
    "# una lista"
   ]
  },
  {
   "cell_type": "markdown",
   "metadata": {},
   "source": [
    "Acceso rápido"
   ]
  },
  {
   "cell_type": "code",
   "execution_count": 70,
   "metadata": {},
   "outputs": [
    {
     "data": {
      "text/plain": [
       "0      10.244\n",
       "1      35.253\n",
       "2      45.985\n",
       "3      12.877\n",
       "4      11.044\n",
       "        ...  \n",
       "190    32.947\n",
       "191    20.850\n",
       "192    42.394\n",
       "193    40.471\n",
       "194    35.715\n",
       "Name: TasaNatalidad, Length: 195, dtype: float64"
      ]
     },
     "execution_count": 70,
     "metadata": {},
     "output_type": "execute_result"
    }
   ],
   "source": [
    "datos['TasaNatalidad']"
   ]
  },
  {
   "cell_type": "code",
   "execution_count": 71,
   "metadata": {},
   "outputs": [
    {
     "data": {
      "text/plain": [
       "0      10.244\n",
       "1      35.253\n",
       "2      45.985\n",
       "3      12.877\n",
       "4      11.044\n",
       "        ...  \n",
       "190    32.947\n",
       "191    20.850\n",
       "192    42.394\n",
       "193    40.471\n",
       "194    35.715\n",
       "Name: TasaNatalidad, Length: 195, dtype: float64"
      ]
     },
     "execution_count": 71,
     "metadata": {},
     "output_type": "execute_result"
    }
   ],
   "source": [
    "datos.TasaNatalidad # Nombre de columna en una sola palabra"
   ]
  },
  {
   "cell_type": "code",
   "execution_count": 72,
   "metadata": {},
   "outputs": [
    {
     "data": {
      "text/plain": [
       "0    10.244\n",
       "1    35.253\n",
       "2    45.985\n",
       "3    12.877\n",
       "4    11.044\n",
       "Name: TasaNatalidad, dtype: float64"
      ]
     },
     "execution_count": 72,
     "metadata": {},
     "output_type": "execute_result"
    }
   ],
   "source": [
    "datos.TasaNatalidad.head() # Sólo funciona para una sola columna esta com-\n",
    "# binación"
   ]
  },
  {
   "cell_type": "markdown",
   "metadata": {},
   "source": [
    "Parte 3: Combinando los dos métodos"
   ]
  },
  {
   "cell_type": "code",
   "execution_count": 75,
   "metadata": {},
   "outputs": [
    {
     "data": {
      "text/html": [
       "<div>\n",
       "<style scoped>\n",
       "    .dataframe tbody tr th:only-of-type {\n",
       "        vertical-align: middle;\n",
       "    }\n",
       "\n",
       "    .dataframe tbody tr th {\n",
       "        vertical-align: top;\n",
       "    }\n",
       "\n",
       "    .dataframe thead th {\n",
       "        text-align: right;\n",
       "    }\n",
       "</style>\n",
       "<table border=\"1\" class=\"dataframe\">\n",
       "  <thead>\n",
       "    <tr style=\"text-align: right;\">\n",
       "      <th></th>\n",
       "      <th>NombrePais</th>\n",
       "      <th>TasaNatalidad</th>\n",
       "    </tr>\n",
       "  </thead>\n",
       "  <tbody>\n",
       "    <tr>\n",
       "      <th>4</th>\n",
       "      <td>United Arab Emirates</td>\n",
       "      <td>11.044</td>\n",
       "    </tr>\n",
       "    <tr>\n",
       "      <th>5</th>\n",
       "      <td>Argentina</td>\n",
       "      <td>17.716</td>\n",
       "    </tr>\n",
       "    <tr>\n",
       "      <th>6</th>\n",
       "      <td>Armenia</td>\n",
       "      <td>13.308</td>\n",
       "    </tr>\n",
       "    <tr>\n",
       "      <th>7</th>\n",
       "      <td>Antigua and Barbuda</td>\n",
       "      <td>16.447</td>\n",
       "    </tr>\n",
       "  </tbody>\n",
       "</table>\n",
       "</div>"
      ],
      "text/plain": [
       "             NombrePais  TasaNatalidad\n",
       "4  United Arab Emirates         11.044\n",
       "5             Argentina         17.716\n",
       "6               Armenia         13.308\n",
       "7   Antigua and Barbuda         16.447"
      ]
     },
     "execution_count": 75,
     "metadata": {},
     "output_type": "execute_result"
    }
   ],
   "source": [
    "datos[4:8][['NombrePais','TasaNatalidad']]"
   ]
  },
  {
   "cell_type": "code",
   "execution_count": 76,
   "metadata": {},
   "outputs": [],
   "source": [
    "# Veamos que no importa el orden"
   ]
  },
  {
   "cell_type": "code",
   "execution_count": 77,
   "metadata": {},
   "outputs": [
    {
     "data": {
      "text/html": [
       "<div>\n",
       "<style scoped>\n",
       "    .dataframe tbody tr th:only-of-type {\n",
       "        vertical-align: middle;\n",
       "    }\n",
       "\n",
       "    .dataframe tbody tr th {\n",
       "        vertical-align: top;\n",
       "    }\n",
       "\n",
       "    .dataframe thead th {\n",
       "        text-align: right;\n",
       "    }\n",
       "</style>\n",
       "<table border=\"1\" class=\"dataframe\">\n",
       "  <thead>\n",
       "    <tr style=\"text-align: right;\">\n",
       "      <th></th>\n",
       "      <th>NombrePais</th>\n",
       "      <th>TasaNatalidad</th>\n",
       "    </tr>\n",
       "  </thead>\n",
       "  <tbody>\n",
       "    <tr>\n",
       "      <th>4</th>\n",
       "      <td>United Arab Emirates</td>\n",
       "      <td>11.044</td>\n",
       "    </tr>\n",
       "    <tr>\n",
       "      <th>5</th>\n",
       "      <td>Argentina</td>\n",
       "      <td>17.716</td>\n",
       "    </tr>\n",
       "    <tr>\n",
       "      <th>6</th>\n",
       "      <td>Armenia</td>\n",
       "      <td>13.308</td>\n",
       "    </tr>\n",
       "    <tr>\n",
       "      <th>7</th>\n",
       "      <td>Antigua and Barbuda</td>\n",
       "      <td>16.447</td>\n",
       "    </tr>\n",
       "  </tbody>\n",
       "</table>\n",
       "</div>"
      ],
      "text/plain": [
       "             NombrePais  TasaNatalidad\n",
       "4  United Arab Emirates         11.044\n",
       "5             Argentina         17.716\n",
       "6               Armenia         13.308\n",
       "7   Antigua and Barbuda         16.447"
      ]
     },
     "execution_count": 77,
     "metadata": {},
     "output_type": "execute_result"
    }
   ],
   "source": [
    "datos[['NombrePais','TasaNatalidad']][4:8]"
   ]
  },
  {
   "cell_type": "code",
   "execution_count": 78,
   "metadata": {},
   "outputs": [],
   "source": [
    "# Lo anterior funciona porque cada que se esppecífica un conjunto de ren-\n",
    "# glones o columnas, se crea un nuevo DataFrame"
   ]
  },
  {
   "cell_type": "code",
   "execution_count": 80,
   "metadata": {},
   "outputs": [
    {
     "data": {
      "text/html": [
       "<div>\n",
       "<style scoped>\n",
       "    .dataframe tbody tr th:only-of-type {\n",
       "        vertical-align: middle;\n",
       "    }\n",
       "\n",
       "    .dataframe tbody tr th {\n",
       "        vertical-align: top;\n",
       "    }\n",
       "\n",
       "    .dataframe thead th {\n",
       "        text-align: right;\n",
       "    }\n",
       "</style>\n",
       "<table border=\"1\" class=\"dataframe\">\n",
       "  <thead>\n",
       "    <tr style=\"text-align: right;\">\n",
       "      <th></th>\n",
       "      <th>NombrePais</th>\n",
       "      <th>TasaNatalidad</th>\n",
       "    </tr>\n",
       "  </thead>\n",
       "  <tbody>\n",
       "    <tr>\n",
       "      <th>0</th>\n",
       "      <td>Aruba</td>\n",
       "      <td>10.244</td>\n",
       "    </tr>\n",
       "    <tr>\n",
       "      <th>1</th>\n",
       "      <td>Afghanistan</td>\n",
       "      <td>35.253</td>\n",
       "    </tr>\n",
       "    <tr>\n",
       "      <th>2</th>\n",
       "      <td>Angola</td>\n",
       "      <td>45.985</td>\n",
       "    </tr>\n",
       "    <tr>\n",
       "      <th>3</th>\n",
       "      <td>Albania</td>\n",
       "      <td>12.877</td>\n",
       "    </tr>\n",
       "    <tr>\n",
       "      <th>4</th>\n",
       "      <td>United Arab Emirates</td>\n",
       "      <td>11.044</td>\n",
       "    </tr>\n",
       "    <tr>\n",
       "      <th>...</th>\n",
       "      <td>...</td>\n",
       "      <td>...</td>\n",
       "    </tr>\n",
       "    <tr>\n",
       "      <th>190</th>\n",
       "      <td>Yemen, Rep.</td>\n",
       "      <td>32.947</td>\n",
       "    </tr>\n",
       "    <tr>\n",
       "      <th>191</th>\n",
       "      <td>South Africa</td>\n",
       "      <td>20.850</td>\n",
       "    </tr>\n",
       "    <tr>\n",
       "      <th>192</th>\n",
       "      <td>Congo, Dem. Rep.</td>\n",
       "      <td>42.394</td>\n",
       "    </tr>\n",
       "    <tr>\n",
       "      <th>193</th>\n",
       "      <td>Zambia</td>\n",
       "      <td>40.471</td>\n",
       "    </tr>\n",
       "    <tr>\n",
       "      <th>194</th>\n",
       "      <td>Zimbabwe</td>\n",
       "      <td>35.715</td>\n",
       "    </tr>\n",
       "  </tbody>\n",
       "</table>\n",
       "<p>195 rows × 2 columns</p>\n",
       "</div>"
      ],
      "text/plain": [
       "               NombrePais  TasaNatalidad\n",
       "0                   Aruba         10.244\n",
       "1             Afghanistan         35.253\n",
       "2                  Angola         45.985\n",
       "3                 Albania         12.877\n",
       "4    United Arab Emirates         11.044\n",
       "..                    ...            ...\n",
       "190           Yemen, Rep.         32.947\n",
       "191          South Africa         20.850\n",
       "192      Congo, Dem. Rep.         42.394\n",
       "193                Zambia         40.471\n",
       "194              Zimbabwe         35.715\n",
       "\n",
       "[195 rows x 2 columns]"
      ]
     },
     "execution_count": 80,
     "metadata": {},
     "output_type": "execute_result"
    }
   ],
   "source": [
    "df2 = datos[['NombrePais','TasaNatalidad']]\n",
    "df2"
   ]
  },
  {
   "cell_type": "code",
   "execution_count": 81,
   "metadata": {},
   "outputs": [
    {
     "data": {
      "text/html": [
       "<div>\n",
       "<style scoped>\n",
       "    .dataframe tbody tr th:only-of-type {\n",
       "        vertical-align: middle;\n",
       "    }\n",
       "\n",
       "    .dataframe tbody tr th {\n",
       "        vertical-align: top;\n",
       "    }\n",
       "\n",
       "    .dataframe thead th {\n",
       "        text-align: right;\n",
       "    }\n",
       "</style>\n",
       "<table border=\"1\" class=\"dataframe\">\n",
       "  <thead>\n",
       "    <tr style=\"text-align: right;\">\n",
       "      <th></th>\n",
       "      <th>NombrePais</th>\n",
       "      <th>TasaNatalidad</th>\n",
       "    </tr>\n",
       "  </thead>\n",
       "  <tbody>\n",
       "    <tr>\n",
       "      <th>4</th>\n",
       "      <td>United Arab Emirates</td>\n",
       "      <td>11.044</td>\n",
       "    </tr>\n",
       "    <tr>\n",
       "      <th>5</th>\n",
       "      <td>Argentina</td>\n",
       "      <td>17.716</td>\n",
       "    </tr>\n",
       "    <tr>\n",
       "      <th>6</th>\n",
       "      <td>Armenia</td>\n",
       "      <td>13.308</td>\n",
       "    </tr>\n",
       "    <tr>\n",
       "      <th>7</th>\n",
       "      <td>Antigua and Barbuda</td>\n",
       "      <td>16.447</td>\n",
       "    </tr>\n",
       "  </tbody>\n",
       "</table>\n",
       "</div>"
      ],
      "text/plain": [
       "             NombrePais  TasaNatalidad\n",
       "4  United Arab Emirates         11.044\n",
       "5             Argentina         17.716\n",
       "6               Armenia         13.308\n",
       "7   Antigua and Barbuda         16.447"
      ]
     },
     "execution_count": 81,
     "metadata": {},
     "output_type": "execute_result"
    }
   ],
   "source": [
    "df2[4:8]"
   ]
  },
  {
   "cell_type": "code",
   "execution_count": 82,
   "metadata": {},
   "outputs": [],
   "source": [
    "df3 = datos[4:8]"
   ]
  },
  {
   "cell_type": "code",
   "execution_count": 83,
   "metadata": {},
   "outputs": [
    {
     "data": {
      "text/html": [
       "<div>\n",
       "<style scoped>\n",
       "    .dataframe tbody tr th:only-of-type {\n",
       "        vertical-align: middle;\n",
       "    }\n",
       "\n",
       "    .dataframe tbody tr th {\n",
       "        vertical-align: top;\n",
       "    }\n",
       "\n",
       "    .dataframe thead th {\n",
       "        text-align: right;\n",
       "    }\n",
       "</style>\n",
       "<table border=\"1\" class=\"dataframe\">\n",
       "  <thead>\n",
       "    <tr style=\"text-align: right;\">\n",
       "      <th></th>\n",
       "      <th>NombrePais</th>\n",
       "      <th>CodigoPais</th>\n",
       "      <th>TasaNatalidad</th>\n",
       "      <th>UsuariosInternet</th>\n",
       "      <th>GrupoIngresos</th>\n",
       "    </tr>\n",
       "  </thead>\n",
       "  <tbody>\n",
       "    <tr>\n",
       "      <th>4</th>\n",
       "      <td>United Arab Emirates</td>\n",
       "      <td>ARE</td>\n",
       "      <td>11.044</td>\n",
       "      <td>88.0</td>\n",
       "      <td>High income</td>\n",
       "    </tr>\n",
       "    <tr>\n",
       "      <th>5</th>\n",
       "      <td>Argentina</td>\n",
       "      <td>ARG</td>\n",
       "      <td>17.716</td>\n",
       "      <td>59.9</td>\n",
       "      <td>High income</td>\n",
       "    </tr>\n",
       "    <tr>\n",
       "      <th>6</th>\n",
       "      <td>Armenia</td>\n",
       "      <td>ARM</td>\n",
       "      <td>13.308</td>\n",
       "      <td>41.9</td>\n",
       "      <td>Lower middle income</td>\n",
       "    </tr>\n",
       "    <tr>\n",
       "      <th>7</th>\n",
       "      <td>Antigua and Barbuda</td>\n",
       "      <td>ATG</td>\n",
       "      <td>16.447</td>\n",
       "      <td>63.4</td>\n",
       "      <td>High income</td>\n",
       "    </tr>\n",
       "  </tbody>\n",
       "</table>\n",
       "</div>"
      ],
      "text/plain": [
       "             NombrePais CodigoPais  TasaNatalidad  UsuariosInternet  \\\n",
       "4  United Arab Emirates        ARE         11.044              88.0   \n",
       "5             Argentina        ARG         17.716              59.9   \n",
       "6               Armenia        ARM         13.308              41.9   \n",
       "7   Antigua and Barbuda        ATG         16.447              63.4   \n",
       "\n",
       "         GrupoIngresos  \n",
       "4          High income  \n",
       "5          High income  \n",
       "6  Lower middle income  \n",
       "7          High income  "
      ]
     },
     "execution_count": 83,
     "metadata": {},
     "output_type": "execute_result"
    }
   ],
   "source": [
    "df3"
   ]
  },
  {
   "cell_type": "code",
   "execution_count": 84,
   "metadata": {},
   "outputs": [
    {
     "data": {
      "text/html": [
       "<div>\n",
       "<style scoped>\n",
       "    .dataframe tbody tr th:only-of-type {\n",
       "        vertical-align: middle;\n",
       "    }\n",
       "\n",
       "    .dataframe tbody tr th {\n",
       "        vertical-align: top;\n",
       "    }\n",
       "\n",
       "    .dataframe thead th {\n",
       "        text-align: right;\n",
       "    }\n",
       "</style>\n",
       "<table border=\"1\" class=\"dataframe\">\n",
       "  <thead>\n",
       "    <tr style=\"text-align: right;\">\n",
       "      <th></th>\n",
       "      <th>NombrePais</th>\n",
       "      <th>TasaNatalidad</th>\n",
       "    </tr>\n",
       "  </thead>\n",
       "  <tbody>\n",
       "    <tr>\n",
       "      <th>4</th>\n",
       "      <td>United Arab Emirates</td>\n",
       "      <td>11.044</td>\n",
       "    </tr>\n",
       "    <tr>\n",
       "      <th>5</th>\n",
       "      <td>Argentina</td>\n",
       "      <td>17.716</td>\n",
       "    </tr>\n",
       "    <tr>\n",
       "      <th>6</th>\n",
       "      <td>Armenia</td>\n",
       "      <td>13.308</td>\n",
       "    </tr>\n",
       "    <tr>\n",
       "      <th>7</th>\n",
       "      <td>Antigua and Barbuda</td>\n",
       "      <td>16.447</td>\n",
       "    </tr>\n",
       "  </tbody>\n",
       "</table>\n",
       "</div>"
      ],
      "text/plain": [
       "             NombrePais  TasaNatalidad\n",
       "4  United Arab Emirates         11.044\n",
       "5             Argentina         17.716\n",
       "6               Armenia         13.308\n",
       "7   Antigua and Barbuda         16.447"
      ]
     },
     "execution_count": 84,
     "metadata": {},
     "output_type": "execute_result"
    }
   ],
   "source": [
    "df3[['NombrePais','TasaNatalidad']]"
   ]
  },
  {
   "cell_type": "code",
   "execution_count": 85,
   "metadata": {},
   "outputs": [],
   "source": [
    "# Entiende cada paso como un subconjunto"
   ]
  },
  {
   "cell_type": "markdown",
   "metadata": {},
   "source": [
    "---"
   ]
  },
  {
   "cell_type": "markdown",
   "metadata": {},
   "source": [
    "Operaciones Básicas con DataFrames"
   ]
  },
  {
   "cell_type": "code",
   "execution_count": 87,
   "metadata": {},
   "outputs": [
    {
     "data": {
      "text/html": [
       "<div>\n",
       "<style scoped>\n",
       "    .dataframe tbody tr th:only-of-type {\n",
       "        vertical-align: middle;\n",
       "    }\n",
       "\n",
       "    .dataframe tbody tr th {\n",
       "        vertical-align: top;\n",
       "    }\n",
       "\n",
       "    .dataframe thead th {\n",
       "        text-align: right;\n",
       "    }\n",
       "</style>\n",
       "<table border=\"1\" class=\"dataframe\">\n",
       "  <thead>\n",
       "    <tr style=\"text-align: right;\">\n",
       "      <th></th>\n",
       "      <th>NombrePais</th>\n",
       "      <th>CodigoPais</th>\n",
       "      <th>TasaNatalidad</th>\n",
       "      <th>UsuariosInternet</th>\n",
       "      <th>GrupoIngresos</th>\n",
       "    </tr>\n",
       "  </thead>\n",
       "  <tbody>\n",
       "    <tr>\n",
       "      <th>0</th>\n",
       "      <td>Aruba</td>\n",
       "      <td>ABW</td>\n",
       "      <td>10.244</td>\n",
       "      <td>78.9</td>\n",
       "      <td>High income</td>\n",
       "    </tr>\n",
       "    <tr>\n",
       "      <th>1</th>\n",
       "      <td>Afghanistan</td>\n",
       "      <td>AFG</td>\n",
       "      <td>35.253</td>\n",
       "      <td>5.9</td>\n",
       "      <td>Low income</td>\n",
       "    </tr>\n",
       "    <tr>\n",
       "      <th>2</th>\n",
       "      <td>Angola</td>\n",
       "      <td>AGO</td>\n",
       "      <td>45.985</td>\n",
       "      <td>19.1</td>\n",
       "      <td>Upper middle income</td>\n",
       "    </tr>\n",
       "    <tr>\n",
       "      <th>3</th>\n",
       "      <td>Albania</td>\n",
       "      <td>ALB</td>\n",
       "      <td>12.877</td>\n",
       "      <td>57.2</td>\n",
       "      <td>Upper middle income</td>\n",
       "    </tr>\n",
       "    <tr>\n",
       "      <th>4</th>\n",
       "      <td>United Arab Emirates</td>\n",
       "      <td>ARE</td>\n",
       "      <td>11.044</td>\n",
       "      <td>88.0</td>\n",
       "      <td>High income</td>\n",
       "    </tr>\n",
       "  </tbody>\n",
       "</table>\n",
       "</div>"
      ],
      "text/plain": [
       "             NombrePais CodigoPais  TasaNatalidad  UsuariosInternet  \\\n",
       "0                 Aruba        ABW         10.244              78.9   \n",
       "1           Afghanistan        AFG         35.253               5.9   \n",
       "2                Angola        AGO         45.985              19.1   \n",
       "3               Albania        ALB         12.877              57.2   \n",
       "4  United Arab Emirates        ARE         11.044              88.0   \n",
       "\n",
       "         GrupoIngresos  \n",
       "0          High income  \n",
       "1           Low income  \n",
       "2  Upper middle income  \n",
       "3  Upper middle income  \n",
       "4          High income  "
      ]
     },
     "execution_count": 87,
     "metadata": {},
     "output_type": "execute_result"
    }
   ],
   "source": [
    "datos.head()"
   ]
  },
  {
   "cell_type": "code",
   "execution_count": 88,
   "metadata": {},
   "outputs": [
    {
     "data": {
      "text/html": [
       "<div>\n",
       "<style scoped>\n",
       "    .dataframe tbody tr th:only-of-type {\n",
       "        vertical-align: middle;\n",
       "    }\n",
       "\n",
       "    .dataframe tbody tr th {\n",
       "        vertical-align: top;\n",
       "    }\n",
       "\n",
       "    .dataframe thead th {\n",
       "        text-align: right;\n",
       "    }\n",
       "</style>\n",
       "<table border=\"1\" class=\"dataframe\">\n",
       "  <thead>\n",
       "    <tr style=\"text-align: right;\">\n",
       "      <th></th>\n",
       "      <th>NombrePais</th>\n",
       "      <th>TasaNatalidad</th>\n",
       "    </tr>\n",
       "  </thead>\n",
       "  <tbody>\n",
       "    <tr>\n",
       "      <th>0</th>\n",
       "      <td>Aruba</td>\n",
       "      <td>10.244</td>\n",
       "    </tr>\n",
       "    <tr>\n",
       "      <th>1</th>\n",
       "      <td>Afghanistan</td>\n",
       "      <td>35.253</td>\n",
       "    </tr>\n",
       "    <tr>\n",
       "      <th>2</th>\n",
       "      <td>Angola</td>\n",
       "      <td>45.985</td>\n",
       "    </tr>\n",
       "    <tr>\n",
       "      <th>3</th>\n",
       "      <td>Albania</td>\n",
       "      <td>12.877</td>\n",
       "    </tr>\n",
       "    <tr>\n",
       "      <th>4</th>\n",
       "      <td>United Arab Emirates</td>\n",
       "      <td>11.044</td>\n",
       "    </tr>\n",
       "    <tr>\n",
       "      <th>...</th>\n",
       "      <td>...</td>\n",
       "      <td>...</td>\n",
       "    </tr>\n",
       "    <tr>\n",
       "      <th>190</th>\n",
       "      <td>Yemen, Rep.</td>\n",
       "      <td>32.947</td>\n",
       "    </tr>\n",
       "    <tr>\n",
       "      <th>191</th>\n",
       "      <td>South Africa</td>\n",
       "      <td>20.850</td>\n",
       "    </tr>\n",
       "    <tr>\n",
       "      <th>192</th>\n",
       "      <td>Congo, Dem. Rep.</td>\n",
       "      <td>42.394</td>\n",
       "    </tr>\n",
       "    <tr>\n",
       "      <th>193</th>\n",
       "      <td>Zambia</td>\n",
       "      <td>40.471</td>\n",
       "    </tr>\n",
       "    <tr>\n",
       "      <th>194</th>\n",
       "      <td>Zimbabwe</td>\n",
       "      <td>35.715</td>\n",
       "    </tr>\n",
       "  </tbody>\n",
       "</table>\n",
       "<p>195 rows × 2 columns</p>\n",
       "</div>"
      ],
      "text/plain": [
       "               NombrePais  TasaNatalidad\n",
       "0                   Aruba         10.244\n",
       "1             Afghanistan         35.253\n",
       "2                  Angola         45.985\n",
       "3                 Albania         12.877\n",
       "4    United Arab Emirates         11.044\n",
       "..                    ...            ...\n",
       "190           Yemen, Rep.         32.947\n",
       "191          South Africa         20.850\n",
       "192      Congo, Dem. Rep.         42.394\n",
       "193                Zambia         40.471\n",
       "194              Zimbabwe         35.715\n",
       "\n",
       "[195 rows x 2 columns]"
      ]
     },
     "execution_count": 88,
     "metadata": {},
     "output_type": "execute_result"
    }
   ],
   "source": [
    "datos[['NombrePais','TasaNatalidad']]"
   ]
  },
  {
   "cell_type": "code",
   "execution_count": 89,
   "metadata": {},
   "outputs": [
    {
     "data": {
      "text/html": [
       "<div>\n",
       "<style scoped>\n",
       "    .dataframe tbody tr th:only-of-type {\n",
       "        vertical-align: middle;\n",
       "    }\n",
       "\n",
       "    .dataframe tbody tr th {\n",
       "        vertical-align: top;\n",
       "    }\n",
       "\n",
       "    .dataframe thead th {\n",
       "        text-align: right;\n",
       "    }\n",
       "</style>\n",
       "<table border=\"1\" class=\"dataframe\">\n",
       "  <thead>\n",
       "    <tr style=\"text-align: right;\">\n",
       "      <th></th>\n",
       "      <th>NombrePais</th>\n",
       "      <th>TasaNatalidad</th>\n",
       "      <th>UsuariosInternet</th>\n",
       "    </tr>\n",
       "  </thead>\n",
       "  <tbody>\n",
       "    <tr>\n",
       "      <th>4</th>\n",
       "      <td>United Arab Emirates</td>\n",
       "      <td>11.044</td>\n",
       "      <td>88.0</td>\n",
       "    </tr>\n",
       "    <tr>\n",
       "      <th>5</th>\n",
       "      <td>Argentina</td>\n",
       "      <td>17.716</td>\n",
       "      <td>59.9</td>\n",
       "    </tr>\n",
       "    <tr>\n",
       "      <th>6</th>\n",
       "      <td>Armenia</td>\n",
       "      <td>13.308</td>\n",
       "      <td>41.9</td>\n",
       "    </tr>\n",
       "    <tr>\n",
       "      <th>7</th>\n",
       "      <td>Antigua and Barbuda</td>\n",
       "      <td>16.447</td>\n",
       "      <td>63.4</td>\n",
       "    </tr>\n",
       "  </tbody>\n",
       "</table>\n",
       "</div>"
      ],
      "text/plain": [
       "             NombrePais  TasaNatalidad  UsuariosInternet\n",
       "4  United Arab Emirates         11.044              88.0\n",
       "5             Argentina         17.716              59.9\n",
       "6               Armenia         13.308              41.9\n",
       "7   Antigua and Barbuda         16.447              63.4"
      ]
     },
     "execution_count": 89,
     "metadata": {},
     "output_type": "execute_result"
    }
   ],
   "source": [
    "datos[['NombrePais','TasaNatalidad','UsuariosInternet']][4:8]"
   ]
  },
  {
   "cell_type": "code",
   "execution_count": 90,
   "metadata": {},
   "outputs": [],
   "source": [
    "# Operaciones Matemáticas"
   ]
  },
  {
   "cell_type": "code",
   "execution_count": 93,
   "metadata": {},
   "outputs": [],
   "source": [
    "resultado = datos.TasaNatalidad * datos.UsuariosInternet"
   ]
  },
  {
   "cell_type": "code",
   "execution_count": 94,
   "metadata": {},
   "outputs": [
    {
     "data": {
      "text/plain": [
       "0    6225.21\n",
       "1      34.81\n",
       "2     364.81\n",
       "3    3271.84\n",
       "4    7744.00\n",
       "dtype: float64"
      ]
     },
     "execution_count": 94,
     "metadata": {},
     "output_type": "execute_result"
    }
   ],
   "source": [
    "resultado.head()"
   ]
  },
  {
   "cell_type": "code",
   "execution_count": 95,
   "metadata": {},
   "outputs": [],
   "source": [
    "# Agregar Columna:"
   ]
  },
  {
   "cell_type": "code",
   "execution_count": 117,
   "metadata": {},
   "outputs": [],
   "source": [
    "datos = pd.read_csv('C:\\\\Users\\\\Usuario\\\\Documents\\\\Curso Python Data Science\\\\Seccion 5\\\\DatosDemograficos.csv')\n",
    "datos.columns = ['NombrePais','CodigoPais','TasaNatalidad',\n",
    "                 'UsuariosInternet','GrupoIngresos']\n",
    "\n",
    "datos['MiCalculo'] = datos.TasaNatalidad * datos.UsuariosInternet"
   ]
  },
  {
   "cell_type": "code",
   "execution_count": 118,
   "metadata": {},
   "outputs": [
    {
     "data": {
      "text/html": [
       "<div>\n",
       "<style scoped>\n",
       "    .dataframe tbody tr th:only-of-type {\n",
       "        vertical-align: middle;\n",
       "    }\n",
       "\n",
       "    .dataframe tbody tr th {\n",
       "        vertical-align: top;\n",
       "    }\n",
       "\n",
       "    .dataframe thead th {\n",
       "        text-align: right;\n",
       "    }\n",
       "</style>\n",
       "<table border=\"1\" class=\"dataframe\">\n",
       "  <thead>\n",
       "    <tr style=\"text-align: right;\">\n",
       "      <th></th>\n",
       "      <th>NombrePais</th>\n",
       "      <th>CodigoPais</th>\n",
       "      <th>TasaNatalidad</th>\n",
       "      <th>UsuariosInternet</th>\n",
       "      <th>GrupoIngresos</th>\n",
       "      <th>MiCalculo</th>\n",
       "    </tr>\n",
       "  </thead>\n",
       "  <tbody>\n",
       "    <tr>\n",
       "      <th>0</th>\n",
       "      <td>Aruba</td>\n",
       "      <td>ABW</td>\n",
       "      <td>10.244</td>\n",
       "      <td>78.9</td>\n",
       "      <td>Ingreso alto</td>\n",
       "      <td>808.2516</td>\n",
       "    </tr>\n",
       "    <tr>\n",
       "      <th>1</th>\n",
       "      <td>Afghanistan</td>\n",
       "      <td>AFG</td>\n",
       "      <td>35.253</td>\n",
       "      <td>5.9</td>\n",
       "      <td>Ingreso bajo</td>\n",
       "      <td>207.9927</td>\n",
       "    </tr>\n",
       "    <tr>\n",
       "      <th>2</th>\n",
       "      <td>Angola</td>\n",
       "      <td>AGO</td>\n",
       "      <td>45.985</td>\n",
       "      <td>19.1</td>\n",
       "      <td>Ingreso medio alto</td>\n",
       "      <td>878.3135</td>\n",
       "    </tr>\n",
       "    <tr>\n",
       "      <th>3</th>\n",
       "      <td>Albania</td>\n",
       "      <td>ALB</td>\n",
       "      <td>12.877</td>\n",
       "      <td>57.2</td>\n",
       "      <td>Ingreso medio alto</td>\n",
       "      <td>736.5644</td>\n",
       "    </tr>\n",
       "    <tr>\n",
       "      <th>4</th>\n",
       "      <td>United Arab Emirates</td>\n",
       "      <td>ARE</td>\n",
       "      <td>11.044</td>\n",
       "      <td>88.0</td>\n",
       "      <td>Ingreso alto</td>\n",
       "      <td>971.8720</td>\n",
       "    </tr>\n",
       "  </tbody>\n",
       "</table>\n",
       "</div>"
      ],
      "text/plain": [
       "             NombrePais CodigoPais  TasaNatalidad  UsuariosInternet  \\\n",
       "0                 Aruba        ABW         10.244              78.9   \n",
       "1           Afghanistan        AFG         35.253               5.9   \n",
       "2                Angola        AGO         45.985              19.1   \n",
       "3               Albania        ALB         12.877              57.2   \n",
       "4  United Arab Emirates        ARE         11.044              88.0   \n",
       "\n",
       "        GrupoIngresos  MiCalculo  \n",
       "0        Ingreso alto   808.2516  \n",
       "1        Ingreso bajo   207.9927  \n",
       "2  Ingreso medio alto   878.3135  \n",
       "3  Ingreso medio alto   736.5644  \n",
       "4        Ingreso alto   971.8720  "
      ]
     },
     "execution_count": 118,
     "metadata": {},
     "output_type": "execute_result"
    }
   ],
   "source": [
    "datos.head()"
   ]
  },
  {
   "cell_type": "code",
   "execution_count": 98,
   "metadata": {},
   "outputs": [
    {
     "ename": "ValueError",
     "evalue": "Length of values does not match length of index",
     "output_type": "error",
     "traceback": [
      "\u001b[1;31m---------------------------------------------------------------------------\u001b[0m",
      "\u001b[1;31mValueError\u001b[0m                                Traceback (most recent call last)",
      "\u001b[1;32m<ipython-input-98-0e66d7cdee47>\u001b[0m in \u001b[0;36m<module>\u001b[1;34m\u001b[0m\n\u001b[0;32m      1\u001b[0m \u001b[1;31m# Comparación contra R\u001b[0m\u001b[1;33m\u001b[0m\u001b[1;33m\u001b[0m\u001b[1;33m\u001b[0m\u001b[0m\n\u001b[1;32m----> 2\u001b[1;33m \u001b[0mdatos\u001b[0m\u001b[1;33m[\u001b[0m\u001b[1;34m'xyz'\u001b[0m\u001b[1;33m]\u001b[0m \u001b[1;33m=\u001b[0m \u001b[1;33m[\u001b[0m\u001b[1;36m1\u001b[0m\u001b[1;33m,\u001b[0m\u001b[1;36m2\u001b[0m\u001b[1;33m,\u001b[0m\u001b[1;36m3\u001b[0m\u001b[1;33m,\u001b[0m\u001b[1;36m4\u001b[0m\u001b[1;33m,\u001b[0m\u001b[1;36m5\u001b[0m\u001b[1;33m]\u001b[0m\u001b[1;33m\u001b[0m\u001b[1;33m\u001b[0m\u001b[0m\n\u001b[0m",
      "\u001b[1;32mC:\\ProgramData\\Anaconda3\\lib\\site-packages\\pandas\\core\\frame.py\u001b[0m in \u001b[0;36m__setitem__\u001b[1;34m(self, key, value)\u001b[0m\n\u001b[0;32m   2936\u001b[0m         \u001b[1;32melse\u001b[0m\u001b[1;33m:\u001b[0m\u001b[1;33m\u001b[0m\u001b[1;33m\u001b[0m\u001b[0m\n\u001b[0;32m   2937\u001b[0m             \u001b[1;31m# set column\u001b[0m\u001b[1;33m\u001b[0m\u001b[1;33m\u001b[0m\u001b[1;33m\u001b[0m\u001b[0m\n\u001b[1;32m-> 2938\u001b[1;33m             \u001b[0mself\u001b[0m\u001b[1;33m.\u001b[0m\u001b[0m_set_item\u001b[0m\u001b[1;33m(\u001b[0m\u001b[0mkey\u001b[0m\u001b[1;33m,\u001b[0m \u001b[0mvalue\u001b[0m\u001b[1;33m)\u001b[0m\u001b[1;33m\u001b[0m\u001b[1;33m\u001b[0m\u001b[0m\n\u001b[0m\u001b[0;32m   2939\u001b[0m \u001b[1;33m\u001b[0m\u001b[0m\n\u001b[0;32m   2940\u001b[0m     \u001b[1;32mdef\u001b[0m \u001b[0m_setitem_slice\u001b[0m\u001b[1;33m(\u001b[0m\u001b[0mself\u001b[0m\u001b[1;33m,\u001b[0m \u001b[0mkey\u001b[0m\u001b[1;33m,\u001b[0m \u001b[0mvalue\u001b[0m\u001b[1;33m)\u001b[0m\u001b[1;33m:\u001b[0m\u001b[1;33m\u001b[0m\u001b[1;33m\u001b[0m\u001b[0m\n",
      "\u001b[1;32mC:\\ProgramData\\Anaconda3\\lib\\site-packages\\pandas\\core\\frame.py\u001b[0m in \u001b[0;36m_set_item\u001b[1;34m(self, key, value)\u001b[0m\n\u001b[0;32m   2998\u001b[0m \u001b[1;33m\u001b[0m\u001b[0m\n\u001b[0;32m   2999\u001b[0m         \u001b[0mself\u001b[0m\u001b[1;33m.\u001b[0m\u001b[0m_ensure_valid_index\u001b[0m\u001b[1;33m(\u001b[0m\u001b[0mvalue\u001b[0m\u001b[1;33m)\u001b[0m\u001b[1;33m\u001b[0m\u001b[1;33m\u001b[0m\u001b[0m\n\u001b[1;32m-> 3000\u001b[1;33m         \u001b[0mvalue\u001b[0m \u001b[1;33m=\u001b[0m \u001b[0mself\u001b[0m\u001b[1;33m.\u001b[0m\u001b[0m_sanitize_column\u001b[0m\u001b[1;33m(\u001b[0m\u001b[0mkey\u001b[0m\u001b[1;33m,\u001b[0m \u001b[0mvalue\u001b[0m\u001b[1;33m)\u001b[0m\u001b[1;33m\u001b[0m\u001b[1;33m\u001b[0m\u001b[0m\n\u001b[0m\u001b[0;32m   3001\u001b[0m         \u001b[0mNDFrame\u001b[0m\u001b[1;33m.\u001b[0m\u001b[0m_set_item\u001b[0m\u001b[1;33m(\u001b[0m\u001b[0mself\u001b[0m\u001b[1;33m,\u001b[0m \u001b[0mkey\u001b[0m\u001b[1;33m,\u001b[0m \u001b[0mvalue\u001b[0m\u001b[1;33m)\u001b[0m\u001b[1;33m\u001b[0m\u001b[1;33m\u001b[0m\u001b[0m\n\u001b[0;32m   3002\u001b[0m \u001b[1;33m\u001b[0m\u001b[0m\n",
      "\u001b[1;32mC:\\ProgramData\\Anaconda3\\lib\\site-packages\\pandas\\core\\frame.py\u001b[0m in \u001b[0;36m_sanitize_column\u001b[1;34m(self, key, value, broadcast)\u001b[0m\n\u001b[0;32m   3634\u001b[0m \u001b[1;33m\u001b[0m\u001b[0m\n\u001b[0;32m   3635\u001b[0m             \u001b[1;31m# turn me into an ndarray\u001b[0m\u001b[1;33m\u001b[0m\u001b[1;33m\u001b[0m\u001b[1;33m\u001b[0m\u001b[0m\n\u001b[1;32m-> 3636\u001b[1;33m             \u001b[0mvalue\u001b[0m \u001b[1;33m=\u001b[0m \u001b[0msanitize_index\u001b[0m\u001b[1;33m(\u001b[0m\u001b[0mvalue\u001b[0m\u001b[1;33m,\u001b[0m \u001b[0mself\u001b[0m\u001b[1;33m.\u001b[0m\u001b[0mindex\u001b[0m\u001b[1;33m,\u001b[0m \u001b[0mcopy\u001b[0m\u001b[1;33m=\u001b[0m\u001b[1;32mFalse\u001b[0m\u001b[1;33m)\u001b[0m\u001b[1;33m\u001b[0m\u001b[1;33m\u001b[0m\u001b[0m\n\u001b[0m\u001b[0;32m   3637\u001b[0m             \u001b[1;32mif\u001b[0m \u001b[1;32mnot\u001b[0m \u001b[0misinstance\u001b[0m\u001b[1;33m(\u001b[0m\u001b[0mvalue\u001b[0m\u001b[1;33m,\u001b[0m \u001b[1;33m(\u001b[0m\u001b[0mnp\u001b[0m\u001b[1;33m.\u001b[0m\u001b[0mndarray\u001b[0m\u001b[1;33m,\u001b[0m \u001b[0mIndex\u001b[0m\u001b[1;33m)\u001b[0m\u001b[1;33m)\u001b[0m\u001b[1;33m:\u001b[0m\u001b[1;33m\u001b[0m\u001b[1;33m\u001b[0m\u001b[0m\n\u001b[0;32m   3638\u001b[0m                 \u001b[1;32mif\u001b[0m \u001b[0misinstance\u001b[0m\u001b[1;33m(\u001b[0m\u001b[0mvalue\u001b[0m\u001b[1;33m,\u001b[0m \u001b[0mlist\u001b[0m\u001b[1;33m)\u001b[0m \u001b[1;32mand\u001b[0m \u001b[0mlen\u001b[0m\u001b[1;33m(\u001b[0m\u001b[0mvalue\u001b[0m\u001b[1;33m)\u001b[0m \u001b[1;33m>\u001b[0m \u001b[1;36m0\u001b[0m\u001b[1;33m:\u001b[0m\u001b[1;33m\u001b[0m\u001b[1;33m\u001b[0m\u001b[0m\n",
      "\u001b[1;32mC:\\ProgramData\\Anaconda3\\lib\\site-packages\\pandas\\core\\internals\\construction.py\u001b[0m in \u001b[0;36msanitize_index\u001b[1;34m(data, index, copy)\u001b[0m\n\u001b[0;32m    609\u001b[0m \u001b[1;33m\u001b[0m\u001b[0m\n\u001b[0;32m    610\u001b[0m     \u001b[1;32mif\u001b[0m \u001b[0mlen\u001b[0m\u001b[1;33m(\u001b[0m\u001b[0mdata\u001b[0m\u001b[1;33m)\u001b[0m \u001b[1;33m!=\u001b[0m \u001b[0mlen\u001b[0m\u001b[1;33m(\u001b[0m\u001b[0mindex\u001b[0m\u001b[1;33m)\u001b[0m\u001b[1;33m:\u001b[0m\u001b[1;33m\u001b[0m\u001b[1;33m\u001b[0m\u001b[0m\n\u001b[1;32m--> 611\u001b[1;33m         \u001b[1;32mraise\u001b[0m \u001b[0mValueError\u001b[0m\u001b[1;33m(\u001b[0m\u001b[1;34m\"Length of values does not match length of index\"\u001b[0m\u001b[1;33m)\u001b[0m\u001b[1;33m\u001b[0m\u001b[1;33m\u001b[0m\u001b[0m\n\u001b[0m\u001b[0;32m    612\u001b[0m \u001b[1;33m\u001b[0m\u001b[0m\n\u001b[0;32m    613\u001b[0m     \u001b[1;32mif\u001b[0m \u001b[0misinstance\u001b[0m\u001b[1;33m(\u001b[0m\u001b[0mdata\u001b[0m\u001b[1;33m,\u001b[0m \u001b[0mABCIndexClass\u001b[0m\u001b[1;33m)\u001b[0m \u001b[1;32mand\u001b[0m \u001b[1;32mnot\u001b[0m \u001b[0mcopy\u001b[0m\u001b[1;33m:\u001b[0m\u001b[1;33m\u001b[0m\u001b[1;33m\u001b[0m\u001b[0m\n",
      "\u001b[1;31mValueError\u001b[0m: Length of values does not match length of index"
     ]
    }
   ],
   "source": [
    "# Comparación contra R\n",
    "datos['xyz'] = [1,2,3,4,5] # Eror: sin opcion de reutilizar"
   ]
  },
  {
   "cell_type": "code",
   "execution_count": 99,
   "metadata": {},
   "outputs": [],
   "source": [
    "# Removiendo una columna"
   ]
  },
  {
   "cell_type": "code",
   "execution_count": 119,
   "metadata": {},
   "outputs": [
    {
     "data": {
      "text/html": [
       "<div>\n",
       "<style scoped>\n",
       "    .dataframe tbody tr th:only-of-type {\n",
       "        vertical-align: middle;\n",
       "    }\n",
       "\n",
       "    .dataframe tbody tr th {\n",
       "        vertical-align: top;\n",
       "    }\n",
       "\n",
       "    .dataframe thead th {\n",
       "        text-align: right;\n",
       "    }\n",
       "</style>\n",
       "<table border=\"1\" class=\"dataframe\">\n",
       "  <thead>\n",
       "    <tr style=\"text-align: right;\">\n",
       "      <th></th>\n",
       "      <th>NombrePais</th>\n",
       "      <th>CodigoPais</th>\n",
       "      <th>TasaNatalidad</th>\n",
       "      <th>UsuariosInternet</th>\n",
       "      <th>GrupoIngresos</th>\n",
       "      <th>MiCalculo</th>\n",
       "    </tr>\n",
       "  </thead>\n",
       "  <tbody>\n",
       "    <tr>\n",
       "      <th>0</th>\n",
       "      <td>Aruba</td>\n",
       "      <td>ABW</td>\n",
       "      <td>10.244</td>\n",
       "      <td>78.9</td>\n",
       "      <td>Ingreso alto</td>\n",
       "      <td>808.2516</td>\n",
       "    </tr>\n",
       "    <tr>\n",
       "      <th>1</th>\n",
       "      <td>Afghanistan</td>\n",
       "      <td>AFG</td>\n",
       "      <td>35.253</td>\n",
       "      <td>5.9</td>\n",
       "      <td>Ingreso bajo</td>\n",
       "      <td>207.9927</td>\n",
       "    </tr>\n",
       "    <tr>\n",
       "      <th>2</th>\n",
       "      <td>Angola</td>\n",
       "      <td>AGO</td>\n",
       "      <td>45.985</td>\n",
       "      <td>19.1</td>\n",
       "      <td>Ingreso medio alto</td>\n",
       "      <td>878.3135</td>\n",
       "    </tr>\n",
       "    <tr>\n",
       "      <th>3</th>\n",
       "      <td>Albania</td>\n",
       "      <td>ALB</td>\n",
       "      <td>12.877</td>\n",
       "      <td>57.2</td>\n",
       "      <td>Ingreso medio alto</td>\n",
       "      <td>736.5644</td>\n",
       "    </tr>\n",
       "    <tr>\n",
       "      <th>4</th>\n",
       "      <td>United Arab Emirates</td>\n",
       "      <td>ARE</td>\n",
       "      <td>11.044</td>\n",
       "      <td>88.0</td>\n",
       "      <td>Ingreso alto</td>\n",
       "      <td>971.8720</td>\n",
       "    </tr>\n",
       "  </tbody>\n",
       "</table>\n",
       "</div>"
      ],
      "text/plain": [
       "             NombrePais CodigoPais  TasaNatalidad  UsuariosInternet  \\\n",
       "0                 Aruba        ABW         10.244              78.9   \n",
       "1           Afghanistan        AFG         35.253               5.9   \n",
       "2                Angola        AGO         45.985              19.1   \n",
       "3               Albania        ALB         12.877              57.2   \n",
       "4  United Arab Emirates        ARE         11.044              88.0   \n",
       "\n",
       "        GrupoIngresos  MiCalculo  \n",
       "0        Ingreso alto   808.2516  \n",
       "1        Ingreso bajo   207.9927  \n",
       "2  Ingreso medio alto   878.3135  \n",
       "3  Ingreso medio alto   736.5644  \n",
       "4        Ingreso alto   971.8720  "
      ]
     },
     "execution_count": 119,
     "metadata": {},
     "output_type": "execute_result"
    }
   ],
   "source": [
    "datos.head()"
   ]
  },
  {
   "cell_type": "code",
   "execution_count": 120,
   "metadata": {},
   "outputs": [
    {
     "data": {
      "text/html": [
       "<div>\n",
       "<style scoped>\n",
       "    .dataframe tbody tr th:only-of-type {\n",
       "        vertical-align: middle;\n",
       "    }\n",
       "\n",
       "    .dataframe tbody tr th {\n",
       "        vertical-align: top;\n",
       "    }\n",
       "\n",
       "    .dataframe thead th {\n",
       "        text-align: right;\n",
       "    }\n",
       "</style>\n",
       "<table border=\"1\" class=\"dataframe\">\n",
       "  <thead>\n",
       "    <tr style=\"text-align: right;\">\n",
       "      <th></th>\n",
       "      <th>NombrePais</th>\n",
       "      <th>CodigoPais</th>\n",
       "      <th>TasaNatalidad</th>\n",
       "      <th>UsuariosInternet</th>\n",
       "      <th>GrupoIngresos</th>\n",
       "    </tr>\n",
       "  </thead>\n",
       "  <tbody>\n",
       "    <tr>\n",
       "      <th>0</th>\n",
       "      <td>Aruba</td>\n",
       "      <td>ABW</td>\n",
       "      <td>10.244</td>\n",
       "      <td>78.9</td>\n",
       "      <td>Ingreso alto</td>\n",
       "    </tr>\n",
       "    <tr>\n",
       "      <th>1</th>\n",
       "      <td>Afghanistan</td>\n",
       "      <td>AFG</td>\n",
       "      <td>35.253</td>\n",
       "      <td>5.9</td>\n",
       "      <td>Ingreso bajo</td>\n",
       "    </tr>\n",
       "    <tr>\n",
       "      <th>2</th>\n",
       "      <td>Angola</td>\n",
       "      <td>AGO</td>\n",
       "      <td>45.985</td>\n",
       "      <td>19.1</td>\n",
       "      <td>Ingreso medio alto</td>\n",
       "    </tr>\n",
       "    <tr>\n",
       "      <th>3</th>\n",
       "      <td>Albania</td>\n",
       "      <td>ALB</td>\n",
       "      <td>12.877</td>\n",
       "      <td>57.2</td>\n",
       "      <td>Ingreso medio alto</td>\n",
       "    </tr>\n",
       "    <tr>\n",
       "      <th>4</th>\n",
       "      <td>United Arab Emirates</td>\n",
       "      <td>ARE</td>\n",
       "      <td>11.044</td>\n",
       "      <td>88.0</td>\n",
       "      <td>Ingreso alto</td>\n",
       "    </tr>\n",
       "    <tr>\n",
       "      <th>...</th>\n",
       "      <td>...</td>\n",
       "      <td>...</td>\n",
       "      <td>...</td>\n",
       "      <td>...</td>\n",
       "      <td>...</td>\n",
       "    </tr>\n",
       "    <tr>\n",
       "      <th>190</th>\n",
       "      <td>Yemen, Rep.</td>\n",
       "      <td>YEM</td>\n",
       "      <td>32.947</td>\n",
       "      <td>20.0</td>\n",
       "      <td>Ingreso medio bajo</td>\n",
       "    </tr>\n",
       "    <tr>\n",
       "      <th>191</th>\n",
       "      <td>South Africa</td>\n",
       "      <td>ZAF</td>\n",
       "      <td>20.850</td>\n",
       "      <td>46.5</td>\n",
       "      <td>Ingreso medio alto</td>\n",
       "    </tr>\n",
       "    <tr>\n",
       "      <th>192</th>\n",
       "      <td>Congo, Dem. Rep.</td>\n",
       "      <td>COD</td>\n",
       "      <td>42.394</td>\n",
       "      <td>2.2</td>\n",
       "      <td>Ingreso bajo</td>\n",
       "    </tr>\n",
       "    <tr>\n",
       "      <th>193</th>\n",
       "      <td>Zambia</td>\n",
       "      <td>ZMB</td>\n",
       "      <td>40.471</td>\n",
       "      <td>15.4</td>\n",
       "      <td>Ingreso medio bajo</td>\n",
       "    </tr>\n",
       "    <tr>\n",
       "      <th>194</th>\n",
       "      <td>Zimbabwe</td>\n",
       "      <td>ZWE</td>\n",
       "      <td>35.715</td>\n",
       "      <td>18.5</td>\n",
       "      <td>Ingreso bajo</td>\n",
       "    </tr>\n",
       "  </tbody>\n",
       "</table>\n",
       "<p>195 rows × 5 columns</p>\n",
       "</div>"
      ],
      "text/plain": [
       "               NombrePais CodigoPais  TasaNatalidad  UsuariosInternet  \\\n",
       "0                   Aruba        ABW         10.244              78.9   \n",
       "1             Afghanistan        AFG         35.253               5.9   \n",
       "2                  Angola        AGO         45.985              19.1   \n",
       "3                 Albania        ALB         12.877              57.2   \n",
       "4    United Arab Emirates        ARE         11.044              88.0   \n",
       "..                    ...        ...            ...               ...   \n",
       "190           Yemen, Rep.        YEM         32.947              20.0   \n",
       "191          South Africa        ZAF         20.850              46.5   \n",
       "192      Congo, Dem. Rep.        COD         42.394               2.2   \n",
       "193                Zambia        ZMB         40.471              15.4   \n",
       "194              Zimbabwe        ZWE         35.715              18.5   \n",
       "\n",
       "          GrupoIngresos  \n",
       "0          Ingreso alto  \n",
       "1          Ingreso bajo  \n",
       "2    Ingreso medio alto  \n",
       "3    Ingreso medio alto  \n",
       "4          Ingreso alto  \n",
       "..                  ...  \n",
       "190  Ingreso medio bajo  \n",
       "191  Ingreso medio alto  \n",
       "192        Ingreso bajo  \n",
       "193  Ingreso medio bajo  \n",
       "194        Ingreso bajo  \n",
       "\n",
       "[195 rows x 5 columns]"
      ]
     },
     "execution_count": 120,
     "metadata": {},
     "output_type": "execute_result"
    }
   ],
   "source": [
    "datos.drop('MiCalculo',1) # Borrar columnas en un nuevo objeto"
   ]
  },
  {
   "cell_type": "code",
   "execution_count": 121,
   "metadata": {},
   "outputs": [
    {
     "data": {
      "text/html": [
       "<div>\n",
       "<style scoped>\n",
       "    .dataframe tbody tr th:only-of-type {\n",
       "        vertical-align: middle;\n",
       "    }\n",
       "\n",
       "    .dataframe tbody tr th {\n",
       "        vertical-align: top;\n",
       "    }\n",
       "\n",
       "    .dataframe thead th {\n",
       "        text-align: right;\n",
       "    }\n",
       "</style>\n",
       "<table border=\"1\" class=\"dataframe\">\n",
       "  <thead>\n",
       "    <tr style=\"text-align: right;\">\n",
       "      <th></th>\n",
       "      <th>NombrePais</th>\n",
       "      <th>CodigoPais</th>\n",
       "      <th>TasaNatalidad</th>\n",
       "      <th>UsuariosInternet</th>\n",
       "      <th>GrupoIngresos</th>\n",
       "      <th>MiCalculo</th>\n",
       "    </tr>\n",
       "  </thead>\n",
       "  <tbody>\n",
       "    <tr>\n",
       "      <th>0</th>\n",
       "      <td>Aruba</td>\n",
       "      <td>ABW</td>\n",
       "      <td>10.244</td>\n",
       "      <td>78.9</td>\n",
       "      <td>Ingreso alto</td>\n",
       "      <td>808.2516</td>\n",
       "    </tr>\n",
       "    <tr>\n",
       "      <th>1</th>\n",
       "      <td>Afghanistan</td>\n",
       "      <td>AFG</td>\n",
       "      <td>35.253</td>\n",
       "      <td>5.9</td>\n",
       "      <td>Ingreso bajo</td>\n",
       "      <td>207.9927</td>\n",
       "    </tr>\n",
       "    <tr>\n",
       "      <th>2</th>\n",
       "      <td>Angola</td>\n",
       "      <td>AGO</td>\n",
       "      <td>45.985</td>\n",
       "      <td>19.1</td>\n",
       "      <td>Ingreso medio alto</td>\n",
       "      <td>878.3135</td>\n",
       "    </tr>\n",
       "    <tr>\n",
       "      <th>3</th>\n",
       "      <td>Albania</td>\n",
       "      <td>ALB</td>\n",
       "      <td>12.877</td>\n",
       "      <td>57.2</td>\n",
       "      <td>Ingreso medio alto</td>\n",
       "      <td>736.5644</td>\n",
       "    </tr>\n",
       "    <tr>\n",
       "      <th>4</th>\n",
       "      <td>United Arab Emirates</td>\n",
       "      <td>ARE</td>\n",
       "      <td>11.044</td>\n",
       "      <td>88.0</td>\n",
       "      <td>Ingreso alto</td>\n",
       "      <td>971.8720</td>\n",
       "    </tr>\n",
       "  </tbody>\n",
       "</table>\n",
       "</div>"
      ],
      "text/plain": [
       "             NombrePais CodigoPais  TasaNatalidad  UsuariosInternet  \\\n",
       "0                 Aruba        ABW         10.244              78.9   \n",
       "1           Afghanistan        AFG         35.253               5.9   \n",
       "2                Angola        AGO         45.985              19.1   \n",
       "3               Albania        ALB         12.877              57.2   \n",
       "4  United Arab Emirates        ARE         11.044              88.0   \n",
       "\n",
       "        GrupoIngresos  MiCalculo  \n",
       "0        Ingreso alto   808.2516  \n",
       "1        Ingreso bajo   207.9927  \n",
       "2  Ingreso medio alto   878.3135  \n",
       "3  Ingreso medio alto   736.5644  \n",
       "4        Ingreso alto   971.8720  "
      ]
     },
     "execution_count": 121,
     "metadata": {},
     "output_type": "execute_result"
    }
   ],
   "source": [
    "datos.head()"
   ]
  },
  {
   "cell_type": "code",
   "execution_count": 122,
   "metadata": {},
   "outputs": [],
   "source": [
    "# Modificar el DataFrame original\n",
    "datos = datos.drop('MiCalculo',1) "
   ]
  },
  {
   "cell_type": "code",
   "execution_count": 123,
   "metadata": {},
   "outputs": [
    {
     "data": {
      "text/html": [
       "<div>\n",
       "<style scoped>\n",
       "    .dataframe tbody tr th:only-of-type {\n",
       "        vertical-align: middle;\n",
       "    }\n",
       "\n",
       "    .dataframe tbody tr th {\n",
       "        vertical-align: top;\n",
       "    }\n",
       "\n",
       "    .dataframe thead th {\n",
       "        text-align: right;\n",
       "    }\n",
       "</style>\n",
       "<table border=\"1\" class=\"dataframe\">\n",
       "  <thead>\n",
       "    <tr style=\"text-align: right;\">\n",
       "      <th></th>\n",
       "      <th>NombrePais</th>\n",
       "      <th>CodigoPais</th>\n",
       "      <th>TasaNatalidad</th>\n",
       "      <th>UsuariosInternet</th>\n",
       "      <th>GrupoIngresos</th>\n",
       "    </tr>\n",
       "  </thead>\n",
       "  <tbody>\n",
       "    <tr>\n",
       "      <th>0</th>\n",
       "      <td>Aruba</td>\n",
       "      <td>ABW</td>\n",
       "      <td>10.244</td>\n",
       "      <td>78.9</td>\n",
       "      <td>Ingreso alto</td>\n",
       "    </tr>\n",
       "    <tr>\n",
       "      <th>1</th>\n",
       "      <td>Afghanistan</td>\n",
       "      <td>AFG</td>\n",
       "      <td>35.253</td>\n",
       "      <td>5.9</td>\n",
       "      <td>Ingreso bajo</td>\n",
       "    </tr>\n",
       "    <tr>\n",
       "      <th>2</th>\n",
       "      <td>Angola</td>\n",
       "      <td>AGO</td>\n",
       "      <td>45.985</td>\n",
       "      <td>19.1</td>\n",
       "      <td>Ingreso medio alto</td>\n",
       "    </tr>\n",
       "    <tr>\n",
       "      <th>3</th>\n",
       "      <td>Albania</td>\n",
       "      <td>ALB</td>\n",
       "      <td>12.877</td>\n",
       "      <td>57.2</td>\n",
       "      <td>Ingreso medio alto</td>\n",
       "    </tr>\n",
       "    <tr>\n",
       "      <th>4</th>\n",
       "      <td>United Arab Emirates</td>\n",
       "      <td>ARE</td>\n",
       "      <td>11.044</td>\n",
       "      <td>88.0</td>\n",
       "      <td>Ingreso alto</td>\n",
       "    </tr>\n",
       "  </tbody>\n",
       "</table>\n",
       "</div>"
      ],
      "text/plain": [
       "             NombrePais CodigoPais  TasaNatalidad  UsuariosInternet  \\\n",
       "0                 Aruba        ABW         10.244              78.9   \n",
       "1           Afghanistan        AFG         35.253               5.9   \n",
       "2                Angola        AGO         45.985              19.1   \n",
       "3               Albania        ALB         12.877              57.2   \n",
       "4  United Arab Emirates        ARE         11.044              88.0   \n",
       "\n",
       "        GrupoIngresos  \n",
       "0        Ingreso alto  \n",
       "1        Ingreso bajo  \n",
       "2  Ingreso medio alto  \n",
       "3  Ingreso medio alto  \n",
       "4        Ingreso alto  "
      ]
     },
     "execution_count": 123,
     "metadata": {},
     "output_type": "execute_result"
    }
   ],
   "source": [
    "datos.head()"
   ]
  },
  {
   "cell_type": "markdown",
   "metadata": {},
   "source": [
    "---"
   ]
  },
  {
   "cell_type": "markdown",
   "metadata": {},
   "source": [
    "Filtrando un DataFrame"
   ]
  },
  {
   "cell_type": "markdown",
   "metadata": {},
   "source": [
    "El Filtrado se aplica a la filas"
   ]
  },
  {
   "cell_type": "code",
   "execution_count": 124,
   "metadata": {},
   "outputs": [
    {
     "data": {
      "text/html": [
       "<div>\n",
       "<style scoped>\n",
       "    .dataframe tbody tr th:only-of-type {\n",
       "        vertical-align: middle;\n",
       "    }\n",
       "\n",
       "    .dataframe tbody tr th {\n",
       "        vertical-align: top;\n",
       "    }\n",
       "\n",
       "    .dataframe thead th {\n",
       "        text-align: right;\n",
       "    }\n",
       "</style>\n",
       "<table border=\"1\" class=\"dataframe\">\n",
       "  <thead>\n",
       "    <tr style=\"text-align: right;\">\n",
       "      <th></th>\n",
       "      <th>NombrePais</th>\n",
       "      <th>CodigoPais</th>\n",
       "      <th>TasaNatalidad</th>\n",
       "      <th>UsuariosInternet</th>\n",
       "      <th>GrupoIngresos</th>\n",
       "    </tr>\n",
       "  </thead>\n",
       "  <tbody>\n",
       "    <tr>\n",
       "      <th>0</th>\n",
       "      <td>Aruba</td>\n",
       "      <td>ABW</td>\n",
       "      <td>10.244</td>\n",
       "      <td>78.9</td>\n",
       "      <td>Ingreso alto</td>\n",
       "    </tr>\n",
       "    <tr>\n",
       "      <th>1</th>\n",
       "      <td>Afghanistan</td>\n",
       "      <td>AFG</td>\n",
       "      <td>35.253</td>\n",
       "      <td>5.9</td>\n",
       "      <td>Ingreso bajo</td>\n",
       "    </tr>\n",
       "    <tr>\n",
       "      <th>2</th>\n",
       "      <td>Angola</td>\n",
       "      <td>AGO</td>\n",
       "      <td>45.985</td>\n",
       "      <td>19.1</td>\n",
       "      <td>Ingreso medio alto</td>\n",
       "    </tr>\n",
       "    <tr>\n",
       "      <th>3</th>\n",
       "      <td>Albania</td>\n",
       "      <td>ALB</td>\n",
       "      <td>12.877</td>\n",
       "      <td>57.2</td>\n",
       "      <td>Ingreso medio alto</td>\n",
       "    </tr>\n",
       "    <tr>\n",
       "      <th>4</th>\n",
       "      <td>United Arab Emirates</td>\n",
       "      <td>ARE</td>\n",
       "      <td>11.044</td>\n",
       "      <td>88.0</td>\n",
       "      <td>Ingreso alto</td>\n",
       "    </tr>\n",
       "  </tbody>\n",
       "</table>\n",
       "</div>"
      ],
      "text/plain": [
       "             NombrePais CodigoPais  TasaNatalidad  UsuariosInternet  \\\n",
       "0                 Aruba        ABW         10.244              78.9   \n",
       "1           Afghanistan        AFG         35.253               5.9   \n",
       "2                Angola        AGO         45.985              19.1   \n",
       "3               Albania        ALB         12.877              57.2   \n",
       "4  United Arab Emirates        ARE         11.044              88.0   \n",
       "\n",
       "        GrupoIngresos  \n",
       "0        Ingreso alto  \n",
       "1        Ingreso bajo  \n",
       "2  Ingreso medio alto  \n",
       "3  Ingreso medio alto  \n",
       "4        Ingreso alto  "
      ]
     },
     "execution_count": 124,
     "metadata": {},
     "output_type": "execute_result"
    }
   ],
   "source": [
    "datos.head()"
   ]
  },
  {
   "cell_type": "code",
   "execution_count": 125,
   "metadata": {},
   "outputs": [
    {
     "data": {
      "text/plain": [
       "0      False\n",
       "1      False\n",
       "2      False\n",
       "3      False\n",
       "4      False\n",
       "       ...  \n",
       "190    False\n",
       "191    False\n",
       "192    False\n",
       "193    False\n",
       "194    False\n",
       "Name: UsuariosInternet, Length: 195, dtype: bool"
      ]
     },
     "execution_count": 125,
     "metadata": {},
     "output_type": "execute_result"
    }
   ],
   "source": [
    "datos.UsuariosInternet < 2"
   ]
  },
  {
   "cell_type": "code",
   "execution_count": 126,
   "metadata": {},
   "outputs": [],
   "source": [
    "filtro = datos.UsuariosInternet < 2"
   ]
  },
  {
   "cell_type": "code",
   "execution_count": 127,
   "metadata": {},
   "outputs": [
    {
     "data": {
      "text/plain": [
       "0      False\n",
       "1      False\n",
       "2      False\n",
       "3      False\n",
       "4      False\n",
       "       ...  \n",
       "190    False\n",
       "191    False\n",
       "192    False\n",
       "193    False\n",
       "194    False\n",
       "Name: UsuariosInternet, Length: 195, dtype: bool"
      ]
     },
     "execution_count": 127,
     "metadata": {},
     "output_type": "execute_result"
    }
   ],
   "source": [
    "filtro"
   ]
  },
  {
   "cell_type": "code",
   "execution_count": 128,
   "metadata": {},
   "outputs": [
    {
     "data": {
      "text/html": [
       "<div>\n",
       "<style scoped>\n",
       "    .dataframe tbody tr th:only-of-type {\n",
       "        vertical-align: middle;\n",
       "    }\n",
       "\n",
       "    .dataframe tbody tr th {\n",
       "        vertical-align: top;\n",
       "    }\n",
       "\n",
       "    .dataframe thead th {\n",
       "        text-align: right;\n",
       "    }\n",
       "</style>\n",
       "<table border=\"1\" class=\"dataframe\">\n",
       "  <thead>\n",
       "    <tr style=\"text-align: right;\">\n",
       "      <th></th>\n",
       "      <th>NombrePais</th>\n",
       "      <th>CodigoPais</th>\n",
       "      <th>TasaNatalidad</th>\n",
       "      <th>UsuariosInternet</th>\n",
       "      <th>GrupoIngresos</th>\n",
       "    </tr>\n",
       "  </thead>\n",
       "  <tbody>\n",
       "    <tr>\n",
       "      <th>11</th>\n",
       "      <td>Burundi</td>\n",
       "      <td>BDI</td>\n",
       "      <td>44.151</td>\n",
       "      <td>1.3</td>\n",
       "      <td>Ingreso bajo</td>\n",
       "    </tr>\n",
       "    <tr>\n",
       "      <th>52</th>\n",
       "      <td>Eritrea</td>\n",
       "      <td>ERI</td>\n",
       "      <td>34.800</td>\n",
       "      <td>0.9</td>\n",
       "      <td>Ingreso bajo</td>\n",
       "    </tr>\n",
       "    <tr>\n",
       "      <th>55</th>\n",
       "      <td>Ethiopia</td>\n",
       "      <td>ETH</td>\n",
       "      <td>32.925</td>\n",
       "      <td>1.9</td>\n",
       "      <td>Ingreso bajo</td>\n",
       "    </tr>\n",
       "    <tr>\n",
       "      <th>64</th>\n",
       "      <td>Guinea</td>\n",
       "      <td>GIN</td>\n",
       "      <td>37.337</td>\n",
       "      <td>1.6</td>\n",
       "      <td>Ingreso bajo</td>\n",
       "    </tr>\n",
       "    <tr>\n",
       "      <th>117</th>\n",
       "      <td>Myanmar</td>\n",
       "      <td>MMR</td>\n",
       "      <td>18.119</td>\n",
       "      <td>1.6</td>\n",
       "      <td>Ingreso medio bajo</td>\n",
       "    </tr>\n",
       "    <tr>\n",
       "      <th>127</th>\n",
       "      <td>Niger</td>\n",
       "      <td>NER</td>\n",
       "      <td>49.661</td>\n",
       "      <td>1.7</td>\n",
       "      <td>Ingreso bajo</td>\n",
       "    </tr>\n",
       "    <tr>\n",
       "      <th>154</th>\n",
       "      <td>Sierra Leone</td>\n",
       "      <td>SLE</td>\n",
       "      <td>36.729</td>\n",
       "      <td>1.7</td>\n",
       "      <td>Ingreso bajo</td>\n",
       "    </tr>\n",
       "    <tr>\n",
       "      <th>156</th>\n",
       "      <td>Somalia</td>\n",
       "      <td>SOM</td>\n",
       "      <td>43.891</td>\n",
       "      <td>1.5</td>\n",
       "      <td>Ingreso bajo</td>\n",
       "    </tr>\n",
       "    <tr>\n",
       "      <th>172</th>\n",
       "      <td>Timor-Leste</td>\n",
       "      <td>TLS</td>\n",
       "      <td>35.755</td>\n",
       "      <td>1.1</td>\n",
       "      <td>Ingreso medio bajo</td>\n",
       "    </tr>\n",
       "  </tbody>\n",
       "</table>\n",
       "</div>"
      ],
      "text/plain": [
       "       NombrePais CodigoPais  TasaNatalidad  UsuariosInternet  \\\n",
       "11        Burundi        BDI         44.151               1.3   \n",
       "52        Eritrea        ERI         34.800               0.9   \n",
       "55       Ethiopia        ETH         32.925               1.9   \n",
       "64         Guinea        GIN         37.337               1.6   \n",
       "117       Myanmar        MMR         18.119               1.6   \n",
       "127         Niger        NER         49.661               1.7   \n",
       "154  Sierra Leone        SLE         36.729               1.7   \n",
       "156       Somalia        SOM         43.891               1.5   \n",
       "172   Timor-Leste        TLS         35.755               1.1   \n",
       "\n",
       "          GrupoIngresos  \n",
       "11         Ingreso bajo  \n",
       "52         Ingreso bajo  \n",
       "55         Ingreso bajo  \n",
       "64         Ingreso bajo  \n",
       "117  Ingreso medio bajo  \n",
       "127        Ingreso bajo  \n",
       "154        Ingreso bajo  \n",
       "156        Ingreso bajo  \n",
       "172  Ingreso medio bajo  "
      ]
     },
     "execution_count": 128,
     "metadata": {},
     "output_type": "execute_result"
    }
   ],
   "source": [
    "datos[filtro] # Conceptualmente como R\n",
    "# Sólo mostrará los valores True del DataFrame"
   ]
  },
  {
   "cell_type": "code",
   "execution_count": 129,
   "metadata": {},
   "outputs": [
    {
     "data": {
      "text/plain": [
       "0      False\n",
       "1      False\n",
       "2       True\n",
       "3      False\n",
       "4      False\n",
       "       ...  \n",
       "190    False\n",
       "191    False\n",
       "192     True\n",
       "193     True\n",
       "194    False\n",
       "Name: TasaNatalidad, Length: 195, dtype: bool"
      ]
     },
     "execution_count": 129,
     "metadata": {},
     "output_type": "execute_result"
    }
   ],
   "source": [
    "filtro2 = datos.TasaNatalidad > 40\n",
    "filtro2"
   ]
  },
  {
   "cell_type": "code",
   "execution_count": 130,
   "metadata": {},
   "outputs": [
    {
     "data": {
      "text/html": [
       "<div>\n",
       "<style scoped>\n",
       "    .dataframe tbody tr th:only-of-type {\n",
       "        vertical-align: middle;\n",
       "    }\n",
       "\n",
       "    .dataframe tbody tr th {\n",
       "        vertical-align: top;\n",
       "    }\n",
       "\n",
       "    .dataframe thead th {\n",
       "        text-align: right;\n",
       "    }\n",
       "</style>\n",
       "<table border=\"1\" class=\"dataframe\">\n",
       "  <thead>\n",
       "    <tr style=\"text-align: right;\">\n",
       "      <th></th>\n",
       "      <th>NombrePais</th>\n",
       "      <th>CodigoPais</th>\n",
       "      <th>TasaNatalidad</th>\n",
       "      <th>UsuariosInternet</th>\n",
       "      <th>GrupoIngresos</th>\n",
       "    </tr>\n",
       "  </thead>\n",
       "  <tbody>\n",
       "    <tr>\n",
       "      <th>2</th>\n",
       "      <td>Angola</td>\n",
       "      <td>AGO</td>\n",
       "      <td>45.985</td>\n",
       "      <td>19.1</td>\n",
       "      <td>Ingreso medio alto</td>\n",
       "    </tr>\n",
       "    <tr>\n",
       "      <th>11</th>\n",
       "      <td>Burundi</td>\n",
       "      <td>BDI</td>\n",
       "      <td>44.151</td>\n",
       "      <td>1.3</td>\n",
       "      <td>Ingreso bajo</td>\n",
       "    </tr>\n",
       "    <tr>\n",
       "      <th>14</th>\n",
       "      <td>Burkina Faso</td>\n",
       "      <td>BFA</td>\n",
       "      <td>40.551</td>\n",
       "      <td>9.1</td>\n",
       "      <td>Ingreso bajo</td>\n",
       "    </tr>\n",
       "    <tr>\n",
       "      <th>65</th>\n",
       "      <td>Gambia, The</td>\n",
       "      <td>GMB</td>\n",
       "      <td>42.525</td>\n",
       "      <td>14.0</td>\n",
       "      <td>Ingreso bajo</td>\n",
       "    </tr>\n",
       "    <tr>\n",
       "      <th>115</th>\n",
       "      <td>Mali</td>\n",
       "      <td>MLI</td>\n",
       "      <td>44.138</td>\n",
       "      <td>3.5</td>\n",
       "      <td>Ingreso bajo</td>\n",
       "    </tr>\n",
       "    <tr>\n",
       "      <th>127</th>\n",
       "      <td>Niger</td>\n",
       "      <td>NER</td>\n",
       "      <td>49.661</td>\n",
       "      <td>1.7</td>\n",
       "      <td>Ingreso bajo</td>\n",
       "    </tr>\n",
       "    <tr>\n",
       "      <th>128</th>\n",
       "      <td>Nigeria</td>\n",
       "      <td>NGA</td>\n",
       "      <td>40.045</td>\n",
       "      <td>38.0</td>\n",
       "      <td>Ingreso medio bajo</td>\n",
       "    </tr>\n",
       "    <tr>\n",
       "      <th>156</th>\n",
       "      <td>Somalia</td>\n",
       "      <td>SOM</td>\n",
       "      <td>43.891</td>\n",
       "      <td>1.5</td>\n",
       "      <td>Ingreso bajo</td>\n",
       "    </tr>\n",
       "    <tr>\n",
       "      <th>167</th>\n",
       "      <td>Chad</td>\n",
       "      <td>TCD</td>\n",
       "      <td>45.745</td>\n",
       "      <td>2.3</td>\n",
       "      <td>Ingreso bajo</td>\n",
       "    </tr>\n",
       "    <tr>\n",
       "      <th>178</th>\n",
       "      <td>Uganda</td>\n",
       "      <td>UGA</td>\n",
       "      <td>43.474</td>\n",
       "      <td>16.2</td>\n",
       "      <td>Ingreso bajo</td>\n",
       "    </tr>\n",
       "    <tr>\n",
       "      <th>192</th>\n",
       "      <td>Congo, Dem. Rep.</td>\n",
       "      <td>COD</td>\n",
       "      <td>42.394</td>\n",
       "      <td>2.2</td>\n",
       "      <td>Ingreso bajo</td>\n",
       "    </tr>\n",
       "    <tr>\n",
       "      <th>193</th>\n",
       "      <td>Zambia</td>\n",
       "      <td>ZMB</td>\n",
       "      <td>40.471</td>\n",
       "      <td>15.4</td>\n",
       "      <td>Ingreso medio bajo</td>\n",
       "    </tr>\n",
       "  </tbody>\n",
       "</table>\n",
       "</div>"
      ],
      "text/plain": [
       "           NombrePais CodigoPais  TasaNatalidad  UsuariosInternet  \\\n",
       "2              Angola        AGO         45.985              19.1   \n",
       "11            Burundi        BDI         44.151               1.3   \n",
       "14       Burkina Faso        BFA         40.551               9.1   \n",
       "65        Gambia, The        GMB         42.525              14.0   \n",
       "115              Mali        MLI         44.138               3.5   \n",
       "127             Niger        NER         49.661               1.7   \n",
       "128           Nigeria        NGA         40.045              38.0   \n",
       "156           Somalia        SOM         43.891               1.5   \n",
       "167              Chad        TCD         45.745               2.3   \n",
       "178            Uganda        UGA         43.474              16.2   \n",
       "192  Congo, Dem. Rep.        COD         42.394               2.2   \n",
       "193            Zambia        ZMB         40.471              15.4   \n",
       "\n",
       "          GrupoIngresos  \n",
       "2    Ingreso medio alto  \n",
       "11         Ingreso bajo  \n",
       "14         Ingreso bajo  \n",
       "65         Ingreso bajo  \n",
       "115        Ingreso bajo  \n",
       "127        Ingreso bajo  \n",
       "128  Ingreso medio bajo  \n",
       "156        Ingreso bajo  \n",
       "167        Ingreso bajo  \n",
       "178        Ingreso bajo  \n",
       "192        Ingreso bajo  \n",
       "193  Ingreso medio bajo  "
      ]
     },
     "execution_count": 130,
     "metadata": {},
     "output_type": "execute_result"
    }
   ],
   "source": [
    "datos[filtro2]"
   ]
  },
  {
   "cell_type": "code",
   "execution_count": 131,
   "metadata": {},
   "outputs": [],
   "source": [
    "# Incluso más interesante"
   ]
  },
  {
   "cell_type": "code",
   "execution_count": 132,
   "metadata": {},
   "outputs": [
    {
     "ename": "ValueError",
     "evalue": "The truth value of a Series is ambiguous. Use a.empty, a.bool(), a.item(), a.any() or a.all().",
     "output_type": "error",
     "traceback": [
      "\u001b[1;31m---------------------------------------------------------------------------\u001b[0m",
      "\u001b[1;31mValueError\u001b[0m                                Traceback (most recent call last)",
      "\u001b[1;32m<ipython-input-132-9e570b591839>\u001b[0m in \u001b[0;36m<module>\u001b[1;34m\u001b[0m\n\u001b[1;32m----> 1\u001b[1;33m \u001b[0mdatos\u001b[0m\u001b[1;33m[\u001b[0m\u001b[0mdatos\u001b[0m\u001b[1;33m.\u001b[0m\u001b[0mTasaNatalidad\u001b[0m \u001b[1;33m>\u001b[0m \u001b[1;36m40\u001b[0m \u001b[1;32mand\u001b[0m \u001b[0mdatos\u001b[0m\u001b[1;33m.\u001b[0m\u001b[0mUsuariosInternet\u001b[0m \u001b[1;33m<\u001b[0m\u001b[1;36m2\u001b[0m\u001b[1;33m]\u001b[0m\u001b[1;33m\u001b[0m\u001b[1;33m\u001b[0m\u001b[0m\n\u001b[0m",
      "\u001b[1;32mC:\\ProgramData\\Anaconda3\\lib\\site-packages\\pandas\\core\\generic.py\u001b[0m in \u001b[0;36m__nonzero__\u001b[1;34m(self)\u001b[0m\n\u001b[0;32m   1477\u001b[0m     \u001b[1;32mdef\u001b[0m \u001b[0m__nonzero__\u001b[0m\u001b[1;33m(\u001b[0m\u001b[0mself\u001b[0m\u001b[1;33m)\u001b[0m\u001b[1;33m:\u001b[0m\u001b[1;33m\u001b[0m\u001b[1;33m\u001b[0m\u001b[0m\n\u001b[0;32m   1478\u001b[0m         raise ValueError(\n\u001b[1;32m-> 1479\u001b[1;33m             \u001b[1;34mf\"The truth value of a {type(self).__name__} is ambiguous. \"\u001b[0m\u001b[1;33m\u001b[0m\u001b[1;33m\u001b[0m\u001b[0m\n\u001b[0m\u001b[0;32m   1480\u001b[0m             \u001b[1;34m\"Use a.empty, a.bool(), a.item(), a.any() or a.all().\"\u001b[0m\u001b[1;33m\u001b[0m\u001b[1;33m\u001b[0m\u001b[0m\n\u001b[0;32m   1481\u001b[0m         )\n",
      "\u001b[1;31mValueError\u001b[0m: The truth value of a Series is ambiguous. Use a.empty, a.bool(), a.item(), a.any() or a.all()."
     ]
    }
   ],
   "source": [
    "datos[datos.TasaNatalidad > 40 and datos.UsuariosInternet <2]"
   ]
  },
  {
   "cell_type": "code",
   "execution_count": 133,
   "metadata": {},
   "outputs": [
    {
     "ename": "ValueError",
     "evalue": "The truth value of a Series is ambiguous. Use a.empty, a.bool(), a.item(), a.any() or a.all().",
     "output_type": "error",
     "traceback": [
      "\u001b[1;31m---------------------------------------------------------------------------\u001b[0m",
      "\u001b[1;31mValueError\u001b[0m                                Traceback (most recent call last)",
      "\u001b[1;32m<ipython-input-133-afec5050dcd1>\u001b[0m in \u001b[0;36m<module>\u001b[1;34m\u001b[0m\n\u001b[1;32m----> 1\u001b[1;33m \u001b[0mdatos\u001b[0m\u001b[1;33m.\u001b[0m\u001b[0mTasaNatalidad\u001b[0m \u001b[1;33m>\u001b[0m \u001b[1;36m40\u001b[0m \u001b[1;32mand\u001b[0m \u001b[0mdatos\u001b[0m\u001b[1;33m.\u001b[0m\u001b[0mUsuariosInternet\u001b[0m \u001b[1;33m<\u001b[0m\u001b[1;36m2\u001b[0m\u001b[1;33m\u001b[0m\u001b[1;33m\u001b[0m\u001b[0m\n\u001b[0m",
      "\u001b[1;32mC:\\ProgramData\\Anaconda3\\lib\\site-packages\\pandas\\core\\generic.py\u001b[0m in \u001b[0;36m__nonzero__\u001b[1;34m(self)\u001b[0m\n\u001b[0;32m   1477\u001b[0m     \u001b[1;32mdef\u001b[0m \u001b[0m__nonzero__\u001b[0m\u001b[1;33m(\u001b[0m\u001b[0mself\u001b[0m\u001b[1;33m)\u001b[0m\u001b[1;33m:\u001b[0m\u001b[1;33m\u001b[0m\u001b[1;33m\u001b[0m\u001b[0m\n\u001b[0;32m   1478\u001b[0m         raise ValueError(\n\u001b[1;32m-> 1479\u001b[1;33m             \u001b[1;34mf\"The truth value of a {type(self).__name__} is ambiguous. \"\u001b[0m\u001b[1;33m\u001b[0m\u001b[1;33m\u001b[0m\u001b[0m\n\u001b[0m\u001b[0;32m   1480\u001b[0m             \u001b[1;34m\"Use a.empty, a.bool(), a.item(), a.any() or a.all().\"\u001b[0m\u001b[1;33m\u001b[0m\u001b[1;33m\u001b[0m\u001b[0m\n\u001b[0;32m   1481\u001b[0m         )\n",
      "\u001b[1;31mValueError\u001b[0m: The truth value of a Series is ambiguous. Use a.empty, a.bool(), a.item(), a.any() or a.all()."
     ]
    }
   ],
   "source": [
    "datos.TasaNatalidad > 40 and datos.UsuariosInternet <2"
   ]
  },
  {
   "cell_type": "code",
   "execution_count": 134,
   "metadata": {},
   "outputs": [],
   "source": [
    "# and no sabe trabajar con objetos con tantos elementos\n",
    " # Sólo espera un valor booleano de cada lado"
   ]
  },
  {
   "cell_type": "code",
   "execution_count": 135,
   "metadata": {},
   "outputs": [
    {
     "ename": "ValueError",
     "evalue": "The truth value of a Series is ambiguous. Use a.empty, a.bool(), a.item(), a.any() or a.all().",
     "output_type": "error",
     "traceback": [
      "\u001b[1;31m---------------------------------------------------------------------------\u001b[0m",
      "\u001b[1;31mValueError\u001b[0m                                Traceback (most recent call last)",
      "\u001b[1;32m<ipython-input-135-a5bd90aeb533>\u001b[0m in \u001b[0;36m<module>\u001b[1;34m\u001b[0m\n\u001b[1;32m----> 1\u001b[1;33m \u001b[0mfiltro\u001b[0m \u001b[1;32mand\u001b[0m \u001b[0mfiltro2\u001b[0m\u001b[1;33m\u001b[0m\u001b[1;33m\u001b[0m\u001b[0m\n\u001b[0m",
      "\u001b[1;32mC:\\ProgramData\\Anaconda3\\lib\\site-packages\\pandas\\core\\generic.py\u001b[0m in \u001b[0;36m__nonzero__\u001b[1;34m(self)\u001b[0m\n\u001b[0;32m   1477\u001b[0m     \u001b[1;32mdef\u001b[0m \u001b[0m__nonzero__\u001b[0m\u001b[1;33m(\u001b[0m\u001b[0mself\u001b[0m\u001b[1;33m)\u001b[0m\u001b[1;33m:\u001b[0m\u001b[1;33m\u001b[0m\u001b[1;33m\u001b[0m\u001b[0m\n\u001b[0;32m   1478\u001b[0m         raise ValueError(\n\u001b[1;32m-> 1479\u001b[1;33m             \u001b[1;34mf\"The truth value of a {type(self).__name__} is ambiguous. \"\u001b[0m\u001b[1;33m\u001b[0m\u001b[1;33m\u001b[0m\u001b[0m\n\u001b[0m\u001b[0;32m   1480\u001b[0m             \u001b[1;34m\"Use a.empty, a.bool(), a.item(), a.any() or a.all().\"\u001b[0m\u001b[1;33m\u001b[0m\u001b[1;33m\u001b[0m\u001b[0m\n\u001b[0;32m   1481\u001b[0m         )\n",
      "\u001b[1;31mValueError\u001b[0m: The truth value of a Series is ambiguous. Use a.empty, a.bool(), a.item(), a.any() or a.all()."
     ]
    }
   ],
   "source": [
    "filtro and filtro2"
   ]
  },
  {
   "cell_type": "code",
   "execution_count": 136,
   "metadata": {},
   "outputs": [
    {
     "data": {
      "text/plain": [
       "0      False\n",
       "1      False\n",
       "2      False\n",
       "3      False\n",
       "4      False\n",
       "       ...  \n",
       "190    False\n",
       "191    False\n",
       "192    False\n",
       "193    False\n",
       "194    False\n",
       "Length: 195, dtype: bool"
      ]
     },
     "execution_count": 136,
     "metadata": {},
     "output_type": "execute_result"
    }
   ],
   "source": [
    "filtro & filtro2 # Operador beatwise"
   ]
  },
  {
   "cell_type": "code",
   "execution_count": 137,
   "metadata": {},
   "outputs": [
    {
     "data": {
      "text/html": [
       "<div>\n",
       "<style scoped>\n",
       "    .dataframe tbody tr th:only-of-type {\n",
       "        vertical-align: middle;\n",
       "    }\n",
       "\n",
       "    .dataframe tbody tr th {\n",
       "        vertical-align: top;\n",
       "    }\n",
       "\n",
       "    .dataframe thead th {\n",
       "        text-align: right;\n",
       "    }\n",
       "</style>\n",
       "<table border=\"1\" class=\"dataframe\">\n",
       "  <thead>\n",
       "    <tr style=\"text-align: right;\">\n",
       "      <th></th>\n",
       "      <th>NombrePais</th>\n",
       "      <th>CodigoPais</th>\n",
       "      <th>TasaNatalidad</th>\n",
       "      <th>UsuariosInternet</th>\n",
       "      <th>GrupoIngresos</th>\n",
       "    </tr>\n",
       "  </thead>\n",
       "  <tbody>\n",
       "    <tr>\n",
       "      <th>11</th>\n",
       "      <td>Burundi</td>\n",
       "      <td>BDI</td>\n",
       "      <td>44.151</td>\n",
       "      <td>1.3</td>\n",
       "      <td>Ingreso bajo</td>\n",
       "    </tr>\n",
       "    <tr>\n",
       "      <th>127</th>\n",
       "      <td>Niger</td>\n",
       "      <td>NER</td>\n",
       "      <td>49.661</td>\n",
       "      <td>1.7</td>\n",
       "      <td>Ingreso bajo</td>\n",
       "    </tr>\n",
       "    <tr>\n",
       "      <th>156</th>\n",
       "      <td>Somalia</td>\n",
       "      <td>SOM</td>\n",
       "      <td>43.891</td>\n",
       "      <td>1.5</td>\n",
       "      <td>Ingreso bajo</td>\n",
       "    </tr>\n",
       "  </tbody>\n",
       "</table>\n",
       "</div>"
      ],
      "text/plain": [
       "    NombrePais CodigoPais  TasaNatalidad  UsuariosInternet GrupoIngresos\n",
       "11     Burundi        BDI         44.151               1.3  Ingreso bajo\n",
       "127      Niger        NER         49.661               1.7  Ingreso bajo\n",
       "156    Somalia        SOM         43.891               1.5  Ingreso bajo"
      ]
     },
     "execution_count": 137,
     "metadata": {},
     "output_type": "execute_result"
    }
   ],
   "source": [
    "datos[filtro & filtro2]"
   ]
  },
  {
   "cell_type": "code",
   "execution_count": 138,
   "metadata": {},
   "outputs": [
    {
     "ename": "TypeError",
     "evalue": "Cannot perform 'rand_' with a dtyped [float64] array and scalar of type [bool]",
     "output_type": "error",
     "traceback": [
      "\u001b[1;31m---------------------------------------------------------------------------\u001b[0m",
      "\u001b[1;31mTypeError\u001b[0m                                 Traceback (most recent call last)",
      "\u001b[1;32mC:\\ProgramData\\Anaconda3\\lib\\site-packages\\pandas\\core\\ops\\array_ops.py\u001b[0m in \u001b[0;36mna_logical_op\u001b[1;34m(x, y, op)\u001b[0m\n\u001b[0;32m    273\u001b[0m         \u001b[1;31m#  (xint or xbool) and (yint or bool)\u001b[0m\u001b[1;33m\u001b[0m\u001b[1;33m\u001b[0m\u001b[1;33m\u001b[0m\u001b[0m\n\u001b[1;32m--> 274\u001b[1;33m         \u001b[0mresult\u001b[0m \u001b[1;33m=\u001b[0m \u001b[0mop\u001b[0m\u001b[1;33m(\u001b[0m\u001b[0mx\u001b[0m\u001b[1;33m,\u001b[0m \u001b[0my\u001b[0m\u001b[1;33m)\u001b[0m\u001b[1;33m\u001b[0m\u001b[1;33m\u001b[0m\u001b[0m\n\u001b[0m\u001b[0;32m    275\u001b[0m     \u001b[1;32mexcept\u001b[0m \u001b[0mTypeError\u001b[0m\u001b[1;33m:\u001b[0m\u001b[1;33m\u001b[0m\u001b[1;33m\u001b[0m\u001b[0m\n",
      "\u001b[1;32mC:\\ProgramData\\Anaconda3\\lib\\site-packages\\pandas\\core\\ops\\roperator.py\u001b[0m in \u001b[0;36mrand_\u001b[1;34m(left, right)\u001b[0m\n\u001b[0;32m     51\u001b[0m \u001b[1;32mdef\u001b[0m \u001b[0mrand_\u001b[0m\u001b[1;33m(\u001b[0m\u001b[0mleft\u001b[0m\u001b[1;33m,\u001b[0m \u001b[0mright\u001b[0m\u001b[1;33m)\u001b[0m\u001b[1;33m:\u001b[0m\u001b[1;33m\u001b[0m\u001b[1;33m\u001b[0m\u001b[0m\n\u001b[1;32m---> 52\u001b[1;33m     \u001b[1;32mreturn\u001b[0m \u001b[0moperator\u001b[0m\u001b[1;33m.\u001b[0m\u001b[0mand_\u001b[0m\u001b[1;33m(\u001b[0m\u001b[0mright\u001b[0m\u001b[1;33m,\u001b[0m \u001b[0mleft\u001b[0m\u001b[1;33m)\u001b[0m\u001b[1;33m\u001b[0m\u001b[1;33m\u001b[0m\u001b[0m\n\u001b[0m\u001b[0;32m     53\u001b[0m \u001b[1;33m\u001b[0m\u001b[0m\n",
      "\u001b[1;31mTypeError\u001b[0m: ufunc 'bitwise_and' not supported for the input types, and the inputs could not be safely coerced to any supported types according to the casting rule ''safe''",
      "\nDuring handling of the above exception, another exception occurred:\n",
      "\u001b[1;31mValueError\u001b[0m                                Traceback (most recent call last)",
      "\u001b[1;32mC:\\ProgramData\\Anaconda3\\lib\\site-packages\\pandas\\core\\ops\\array_ops.py\u001b[0m in \u001b[0;36mna_logical_op\u001b[1;34m(x, y, op)\u001b[0m\n\u001b[0;32m    287\u001b[0m             \u001b[1;32mtry\u001b[0m\u001b[1;33m:\u001b[0m\u001b[1;33m\u001b[0m\u001b[1;33m\u001b[0m\u001b[0m\n\u001b[1;32m--> 288\u001b[1;33m                 \u001b[0mresult\u001b[0m \u001b[1;33m=\u001b[0m \u001b[0mlibops\u001b[0m\u001b[1;33m.\u001b[0m\u001b[0mscalar_binop\u001b[0m\u001b[1;33m(\u001b[0m\u001b[0mx\u001b[0m\u001b[1;33m,\u001b[0m \u001b[0my\u001b[0m\u001b[1;33m,\u001b[0m \u001b[0mop\u001b[0m\u001b[1;33m)\u001b[0m\u001b[1;33m\u001b[0m\u001b[1;33m\u001b[0m\u001b[0m\n\u001b[0m\u001b[0;32m    289\u001b[0m             except (\n",
      "\u001b[1;32mpandas\\_libs\\ops.pyx\u001b[0m in \u001b[0;36mpandas._libs.ops.scalar_binop\u001b[1;34m()\u001b[0m\n",
      "\u001b[1;31mValueError\u001b[0m: Buffer dtype mismatch, expected 'Python object' but got 'double'",
      "\nDuring handling of the above exception, another exception occurred:\n",
      "\u001b[1;31mTypeError\u001b[0m                                 Traceback (most recent call last)",
      "\u001b[1;32m<ipython-input-138-bebffc4d96f1>\u001b[0m in \u001b[0;36m<module>\u001b[1;34m\u001b[0m\n\u001b[1;32m----> 1\u001b[1;33m \u001b[0mdatos\u001b[0m\u001b[1;33m[\u001b[0m\u001b[0mdatos\u001b[0m\u001b[1;33m.\u001b[0m\u001b[0mTasaNatalidad\u001b[0m \u001b[1;33m>\u001b[0m \u001b[1;36m40\u001b[0m \u001b[1;33m&\u001b[0m \u001b[0mdatos\u001b[0m\u001b[1;33m.\u001b[0m\u001b[0mUsuariosInternet\u001b[0m \u001b[1;33m<\u001b[0m\u001b[1;36m2\u001b[0m\u001b[1;33m]\u001b[0m\u001b[1;33m\u001b[0m\u001b[1;33m\u001b[0m\u001b[0m\n\u001b[0m",
      "\u001b[1;32mC:\\ProgramData\\Anaconda3\\lib\\site-packages\\pandas\\core\\ops\\common.py\u001b[0m in \u001b[0;36mnew_method\u001b[1;34m(self, other)\u001b[0m\n\u001b[0;32m     62\u001b[0m         \u001b[0mother\u001b[0m \u001b[1;33m=\u001b[0m \u001b[0mitem_from_zerodim\u001b[0m\u001b[1;33m(\u001b[0m\u001b[0mother\u001b[0m\u001b[1;33m)\u001b[0m\u001b[1;33m\u001b[0m\u001b[1;33m\u001b[0m\u001b[0m\n\u001b[0;32m     63\u001b[0m \u001b[1;33m\u001b[0m\u001b[0m\n\u001b[1;32m---> 64\u001b[1;33m         \u001b[1;32mreturn\u001b[0m \u001b[0mmethod\u001b[0m\u001b[1;33m(\u001b[0m\u001b[0mself\u001b[0m\u001b[1;33m,\u001b[0m \u001b[0mother\u001b[0m\u001b[1;33m)\u001b[0m\u001b[1;33m\u001b[0m\u001b[1;33m\u001b[0m\u001b[0m\n\u001b[0m\u001b[0;32m     65\u001b[0m \u001b[1;33m\u001b[0m\u001b[0m\n\u001b[0;32m     66\u001b[0m     \u001b[1;32mreturn\u001b[0m \u001b[0mnew_method\u001b[0m\u001b[1;33m\u001b[0m\u001b[1;33m\u001b[0m\u001b[0m\n",
      "\u001b[1;32mC:\\ProgramData\\Anaconda3\\lib\\site-packages\\pandas\\core\\ops\\__init__.py\u001b[0m in \u001b[0;36mwrapper\u001b[1;34m(self, other)\u001b[0m\n\u001b[0;32m    547\u001b[0m         \u001b[0mrvalues\u001b[0m \u001b[1;33m=\u001b[0m \u001b[0mextract_array\u001b[0m\u001b[1;33m(\u001b[0m\u001b[0mother\u001b[0m\u001b[1;33m,\u001b[0m \u001b[0mextract_numpy\u001b[0m\u001b[1;33m=\u001b[0m\u001b[1;32mTrue\u001b[0m\u001b[1;33m)\u001b[0m\u001b[1;33m\u001b[0m\u001b[1;33m\u001b[0m\u001b[0m\n\u001b[0;32m    548\u001b[0m \u001b[1;33m\u001b[0m\u001b[0m\n\u001b[1;32m--> 549\u001b[1;33m         \u001b[0mres_values\u001b[0m \u001b[1;33m=\u001b[0m \u001b[0mlogical_op\u001b[0m\u001b[1;33m(\u001b[0m\u001b[0mlvalues\u001b[0m\u001b[1;33m,\u001b[0m \u001b[0mrvalues\u001b[0m\u001b[1;33m,\u001b[0m \u001b[0mop\u001b[0m\u001b[1;33m)\u001b[0m\u001b[1;33m\u001b[0m\u001b[1;33m\u001b[0m\u001b[0m\n\u001b[0m\u001b[0;32m    550\u001b[0m         \u001b[1;32mreturn\u001b[0m \u001b[0m_construct_result\u001b[0m\u001b[1;33m(\u001b[0m\u001b[0mself\u001b[0m\u001b[1;33m,\u001b[0m \u001b[0mres_values\u001b[0m\u001b[1;33m,\u001b[0m \u001b[0mindex\u001b[0m\u001b[1;33m=\u001b[0m\u001b[0mself\u001b[0m\u001b[1;33m.\u001b[0m\u001b[0mindex\u001b[0m\u001b[1;33m,\u001b[0m \u001b[0mname\u001b[0m\u001b[1;33m=\u001b[0m\u001b[0mres_name\u001b[0m\u001b[1;33m)\u001b[0m\u001b[1;33m\u001b[0m\u001b[1;33m\u001b[0m\u001b[0m\n\u001b[0;32m    551\u001b[0m \u001b[1;33m\u001b[0m\u001b[0m\n",
      "\u001b[1;32mC:\\ProgramData\\Anaconda3\\lib\\site-packages\\pandas\\core\\ops\\array_ops.py\u001b[0m in \u001b[0;36mlogical_op\u001b[1;34m(left, right, op)\u001b[0m\n\u001b[0;32m    364\u001b[0m         \u001b[0mfiller\u001b[0m \u001b[1;33m=\u001b[0m \u001b[0mfill_int\u001b[0m \u001b[1;32mif\u001b[0m \u001b[0mis_self_int_dtype\u001b[0m \u001b[1;32mand\u001b[0m \u001b[0mis_other_int_dtype\u001b[0m \u001b[1;32melse\u001b[0m \u001b[0mfill_bool\u001b[0m\u001b[1;33m\u001b[0m\u001b[1;33m\u001b[0m\u001b[0m\n\u001b[0;32m    365\u001b[0m \u001b[1;33m\u001b[0m\u001b[0m\n\u001b[1;32m--> 366\u001b[1;33m         \u001b[0mres_values\u001b[0m \u001b[1;33m=\u001b[0m \u001b[0mna_logical_op\u001b[0m\u001b[1;33m(\u001b[0m\u001b[0mlvalues\u001b[0m\u001b[1;33m,\u001b[0m \u001b[0mrvalues\u001b[0m\u001b[1;33m,\u001b[0m \u001b[0mop\u001b[0m\u001b[1;33m)\u001b[0m\u001b[1;33m\u001b[0m\u001b[1;33m\u001b[0m\u001b[0m\n\u001b[0m\u001b[0;32m    367\u001b[0m         \u001b[0mres_values\u001b[0m \u001b[1;33m=\u001b[0m \u001b[0mfiller\u001b[0m\u001b[1;33m(\u001b[0m\u001b[0mres_values\u001b[0m\u001b[1;33m)\u001b[0m  \u001b[1;31m# type: ignore\u001b[0m\u001b[1;33m\u001b[0m\u001b[1;33m\u001b[0m\u001b[0m\n\u001b[0;32m    368\u001b[0m \u001b[1;33m\u001b[0m\u001b[0m\n",
      "\u001b[1;32mC:\\ProgramData\\Anaconda3\\lib\\site-packages\\pandas\\core\\ops\\array_ops.py\u001b[0m in \u001b[0;36mna_logical_op\u001b[1;34m(x, y, op)\u001b[0m\n\u001b[0;32m    296\u001b[0m                 \u001b[0mtyp\u001b[0m \u001b[1;33m=\u001b[0m \u001b[0mtype\u001b[0m\u001b[1;33m(\u001b[0m\u001b[0my\u001b[0m\u001b[1;33m)\u001b[0m\u001b[1;33m.\u001b[0m\u001b[0m__name__\u001b[0m\u001b[1;33m\u001b[0m\u001b[1;33m\u001b[0m\u001b[0m\n\u001b[0;32m    297\u001b[0m                 raise TypeError(\n\u001b[1;32m--> 298\u001b[1;33m                     \u001b[1;34mf\"Cannot perform '{op.__name__}' with a dtyped [{x.dtype}] array \"\u001b[0m\u001b[1;33m\u001b[0m\u001b[1;33m\u001b[0m\u001b[0m\n\u001b[0m\u001b[0;32m    299\u001b[0m                     \u001b[1;34mf\"and scalar of type [{typ}]\"\u001b[0m\u001b[1;33m\u001b[0m\u001b[1;33m\u001b[0m\u001b[0m\n\u001b[0;32m    300\u001b[0m                 )\n",
      "\u001b[1;31mTypeError\u001b[0m: Cannot perform 'rand_' with a dtyped [float64] array and scalar of type [bool]"
     ]
    }
   ],
   "source": [
    "datos[datos.TasaNatalidad > 40 & datos.UsuariosInternet <2]"
   ]
  },
  {
   "cell_type": "code",
   "execution_count": 139,
   "metadata": {},
   "outputs": [],
   "source": [
    "# Este error ocurre porque no hace los pasos en el orden deseado"
   ]
  },
  {
   "cell_type": "code",
   "execution_count": 140,
   "metadata": {},
   "outputs": [
    {
     "data": {
      "text/html": [
       "<div>\n",
       "<style scoped>\n",
       "    .dataframe tbody tr th:only-of-type {\n",
       "        vertical-align: middle;\n",
       "    }\n",
       "\n",
       "    .dataframe tbody tr th {\n",
       "        vertical-align: top;\n",
       "    }\n",
       "\n",
       "    .dataframe thead th {\n",
       "        text-align: right;\n",
       "    }\n",
       "</style>\n",
       "<table border=\"1\" class=\"dataframe\">\n",
       "  <thead>\n",
       "    <tr style=\"text-align: right;\">\n",
       "      <th></th>\n",
       "      <th>NombrePais</th>\n",
       "      <th>CodigoPais</th>\n",
       "      <th>TasaNatalidad</th>\n",
       "      <th>UsuariosInternet</th>\n",
       "      <th>GrupoIngresos</th>\n",
       "    </tr>\n",
       "  </thead>\n",
       "  <tbody>\n",
       "    <tr>\n",
       "      <th>11</th>\n",
       "      <td>Burundi</td>\n",
       "      <td>BDI</td>\n",
       "      <td>44.151</td>\n",
       "      <td>1.3</td>\n",
       "      <td>Ingreso bajo</td>\n",
       "    </tr>\n",
       "    <tr>\n",
       "      <th>127</th>\n",
       "      <td>Niger</td>\n",
       "      <td>NER</td>\n",
       "      <td>49.661</td>\n",
       "      <td>1.7</td>\n",
       "      <td>Ingreso bajo</td>\n",
       "    </tr>\n",
       "    <tr>\n",
       "      <th>156</th>\n",
       "      <td>Somalia</td>\n",
       "      <td>SOM</td>\n",
       "      <td>43.891</td>\n",
       "      <td>1.5</td>\n",
       "      <td>Ingreso bajo</td>\n",
       "    </tr>\n",
       "  </tbody>\n",
       "</table>\n",
       "</div>"
      ],
      "text/plain": [
       "    NombrePais CodigoPais  TasaNatalidad  UsuariosInternet GrupoIngresos\n",
       "11     Burundi        BDI         44.151               1.3  Ingreso bajo\n",
       "127      Niger        NER         49.661               1.7  Ingreso bajo\n",
       "156    Somalia        SOM         43.891               1.5  Ingreso bajo"
      ]
     },
     "execution_count": 140,
     "metadata": {},
     "output_type": "execute_result"
    }
   ],
   "source": [
    "datos[(datos.TasaNatalidad > 40) & (datos.UsuariosInternet <2)]"
   ]
  },
  {
   "cell_type": "code",
   "execution_count": 141,
   "metadata": {},
   "outputs": [],
   "source": [
    "# Otro ejemplo"
   ]
  },
  {
   "cell_type": "code",
   "execution_count": 142,
   "metadata": {},
   "outputs": [
    {
     "data": {
      "text/html": [
       "<div>\n",
       "<style scoped>\n",
       "    .dataframe tbody tr th:only-of-type {\n",
       "        vertical-align: middle;\n",
       "    }\n",
       "\n",
       "    .dataframe tbody tr th {\n",
       "        vertical-align: top;\n",
       "    }\n",
       "\n",
       "    .dataframe thead th {\n",
       "        text-align: right;\n",
       "    }\n",
       "</style>\n",
       "<table border=\"1\" class=\"dataframe\">\n",
       "  <thead>\n",
       "    <tr style=\"text-align: right;\">\n",
       "      <th></th>\n",
       "      <th>NombrePais</th>\n",
       "      <th>CodigoPais</th>\n",
       "      <th>TasaNatalidad</th>\n",
       "      <th>UsuariosInternet</th>\n",
       "      <th>GrupoIngresos</th>\n",
       "    </tr>\n",
       "  </thead>\n",
       "  <tbody>\n",
       "    <tr>\n",
       "      <th>0</th>\n",
       "      <td>Aruba</td>\n",
       "      <td>ABW</td>\n",
       "      <td>10.244</td>\n",
       "      <td>78.9</td>\n",
       "      <td>Ingreso alto</td>\n",
       "    </tr>\n",
       "    <tr>\n",
       "      <th>1</th>\n",
       "      <td>Afghanistan</td>\n",
       "      <td>AFG</td>\n",
       "      <td>35.253</td>\n",
       "      <td>5.9</td>\n",
       "      <td>Ingreso bajo</td>\n",
       "    </tr>\n",
       "    <tr>\n",
       "      <th>2</th>\n",
       "      <td>Angola</td>\n",
       "      <td>AGO</td>\n",
       "      <td>45.985</td>\n",
       "      <td>19.1</td>\n",
       "      <td>Ingreso medio alto</td>\n",
       "    </tr>\n",
       "    <tr>\n",
       "      <th>3</th>\n",
       "      <td>Albania</td>\n",
       "      <td>ALB</td>\n",
       "      <td>12.877</td>\n",
       "      <td>57.2</td>\n",
       "      <td>Ingreso medio alto</td>\n",
       "    </tr>\n",
       "    <tr>\n",
       "      <th>4</th>\n",
       "      <td>United Arab Emirates</td>\n",
       "      <td>ARE</td>\n",
       "      <td>11.044</td>\n",
       "      <td>88.0</td>\n",
       "      <td>Ingreso alto</td>\n",
       "    </tr>\n",
       "  </tbody>\n",
       "</table>\n",
       "</div>"
      ],
      "text/plain": [
       "             NombrePais CodigoPais  TasaNatalidad  UsuariosInternet  \\\n",
       "0                 Aruba        ABW         10.244              78.9   \n",
       "1           Afghanistan        AFG         35.253               5.9   \n",
       "2                Angola        AGO         45.985              19.1   \n",
       "3               Albania        ALB         12.877              57.2   \n",
       "4  United Arab Emirates        ARE         11.044              88.0   \n",
       "\n",
       "        GrupoIngresos  \n",
       "0        Ingreso alto  \n",
       "1        Ingreso bajo  \n",
       "2  Ingreso medio alto  \n",
       "3  Ingreso medio alto  \n",
       "4        Ingreso alto  "
      ]
     },
     "execution_count": 142,
     "metadata": {},
     "output_type": "execute_result"
    }
   ],
   "source": [
    "datos.head()"
   ]
  },
  {
   "cell_type": "code",
   "execution_count": 143,
   "metadata": {},
   "outputs": [
    {
     "data": {
      "text/html": [
       "<div>\n",
       "<style scoped>\n",
       "    .dataframe tbody tr th:only-of-type {\n",
       "        vertical-align: middle;\n",
       "    }\n",
       "\n",
       "    .dataframe tbody tr th {\n",
       "        vertical-align: top;\n",
       "    }\n",
       "\n",
       "    .dataframe thead th {\n",
       "        text-align: right;\n",
       "    }\n",
       "</style>\n",
       "<table border=\"1\" class=\"dataframe\">\n",
       "  <thead>\n",
       "    <tr style=\"text-align: right;\">\n",
       "      <th></th>\n",
       "      <th>NombrePais</th>\n",
       "      <th>CodigoPais</th>\n",
       "      <th>TasaNatalidad</th>\n",
       "      <th>UsuariosInternet</th>\n",
       "      <th>GrupoIngresos</th>\n",
       "    </tr>\n",
       "  </thead>\n",
       "  <tbody>\n",
       "    <tr>\n",
       "      <th>0</th>\n",
       "      <td>Aruba</td>\n",
       "      <td>ABW</td>\n",
       "      <td>10.244</td>\n",
       "      <td>78.90</td>\n",
       "      <td>Ingreso alto</td>\n",
       "    </tr>\n",
       "    <tr>\n",
       "      <th>4</th>\n",
       "      <td>United Arab Emirates</td>\n",
       "      <td>ARE</td>\n",
       "      <td>11.044</td>\n",
       "      <td>88.00</td>\n",
       "      <td>Ingreso alto</td>\n",
       "    </tr>\n",
       "    <tr>\n",
       "      <th>5</th>\n",
       "      <td>Argentina</td>\n",
       "      <td>ARG</td>\n",
       "      <td>17.716</td>\n",
       "      <td>59.90</td>\n",
       "      <td>Ingreso alto</td>\n",
       "    </tr>\n",
       "    <tr>\n",
       "      <th>7</th>\n",
       "      <td>Antigua and Barbuda</td>\n",
       "      <td>ATG</td>\n",
       "      <td>16.447</td>\n",
       "      <td>63.40</td>\n",
       "      <td>Ingreso alto</td>\n",
       "    </tr>\n",
       "    <tr>\n",
       "      <th>8</th>\n",
       "      <td>Australia</td>\n",
       "      <td>AUS</td>\n",
       "      <td>13.200</td>\n",
       "      <td>83.00</td>\n",
       "      <td>Ingreso alto</td>\n",
       "    </tr>\n",
       "    <tr>\n",
       "      <th>...</th>\n",
       "      <td>...</td>\n",
       "      <td>...</td>\n",
       "      <td>...</td>\n",
       "      <td>...</td>\n",
       "      <td>...</td>\n",
       "    </tr>\n",
       "    <tr>\n",
       "      <th>174</th>\n",
       "      <td>Trinidad and Tobago</td>\n",
       "      <td>TTO</td>\n",
       "      <td>14.590</td>\n",
       "      <td>63.80</td>\n",
       "      <td>Ingreso alto</td>\n",
       "    </tr>\n",
       "    <tr>\n",
       "      <th>180</th>\n",
       "      <td>Uruguay</td>\n",
       "      <td>URY</td>\n",
       "      <td>14.374</td>\n",
       "      <td>57.69</td>\n",
       "      <td>Ingreso alto</td>\n",
       "    </tr>\n",
       "    <tr>\n",
       "      <th>181</th>\n",
       "      <td>United States</td>\n",
       "      <td>USA</td>\n",
       "      <td>12.500</td>\n",
       "      <td>84.20</td>\n",
       "      <td>Ingreso alto</td>\n",
       "    </tr>\n",
       "    <tr>\n",
       "      <th>184</th>\n",
       "      <td>Venezuela, RB</td>\n",
       "      <td>VEN</td>\n",
       "      <td>19.842</td>\n",
       "      <td>54.90</td>\n",
       "      <td>Ingreso alto</td>\n",
       "    </tr>\n",
       "    <tr>\n",
       "      <th>185</th>\n",
       "      <td>Virgin Islands (U.S.)</td>\n",
       "      <td>VIR</td>\n",
       "      <td>10.700</td>\n",
       "      <td>45.30</td>\n",
       "      <td>Ingreso alto</td>\n",
       "    </tr>\n",
       "  </tbody>\n",
       "</table>\n",
       "<p>67 rows × 5 columns</p>\n",
       "</div>"
      ],
      "text/plain": [
       "                NombrePais CodigoPais  TasaNatalidad  UsuariosInternet  \\\n",
       "0                    Aruba        ABW         10.244             78.90   \n",
       "4     United Arab Emirates        ARE         11.044             88.00   \n",
       "5                Argentina        ARG         17.716             59.90   \n",
       "7      Antigua and Barbuda        ATG         16.447             63.40   \n",
       "8                Australia        AUS         13.200             83.00   \n",
       "..                     ...        ...            ...               ...   \n",
       "174    Trinidad and Tobago        TTO         14.590             63.80   \n",
       "180                Uruguay        URY         14.374             57.69   \n",
       "181          United States        USA         12.500             84.20   \n",
       "184          Venezuela, RB        VEN         19.842             54.90   \n",
       "185  Virgin Islands (U.S.)        VIR         10.700             45.30   \n",
       "\n",
       "    GrupoIngresos  \n",
       "0    Ingreso alto  \n",
       "4    Ingreso alto  \n",
       "5    Ingreso alto  \n",
       "7    Ingreso alto  \n",
       "8    Ingreso alto  \n",
       "..            ...  \n",
       "174  Ingreso alto  \n",
       "180  Ingreso alto  \n",
       "181  Ingreso alto  \n",
       "184  Ingreso alto  \n",
       "185  Ingreso alto  \n",
       "\n",
       "[67 rows x 5 columns]"
      ]
     },
     "execution_count": 143,
     "metadata": {},
     "output_type": "execute_result"
    }
   ],
   "source": [
    "datos[datos.GrupoIngresos == 'Ingreso alto']"
   ]
  },
  {
   "cell_type": "code",
   "execution_count": 144,
   "metadata": {},
   "outputs": [
    {
     "data": {
      "text/plain": [
       "array(['Ingreso alto', 'Ingreso bajo', 'Ingreso medio alto',\n",
       "       'Ingreso medio bajo'], dtype=object)"
      ]
     },
     "execution_count": 144,
     "metadata": {},
     "output_type": "execute_result"
    }
   ],
   "source": [
    "datos.GrupoIngresos.unique()"
   ]
  },
  {
   "cell_type": "code",
   "execution_count": 145,
   "metadata": {},
   "outputs": [],
   "source": [
    "# Ejercicio Rápido\n",
    "# Encuentra todo acerca de Malta"
   ]
  },
  {
   "cell_type": "code",
   "execution_count": 148,
   "metadata": {},
   "outputs": [
    {
     "data": {
      "text/html": [
       "<div>\n",
       "<style scoped>\n",
       "    .dataframe tbody tr th:only-of-type {\n",
       "        vertical-align: middle;\n",
       "    }\n",
       "\n",
       "    .dataframe tbody tr th {\n",
       "        vertical-align: top;\n",
       "    }\n",
       "\n",
       "    .dataframe thead th {\n",
       "        text-align: right;\n",
       "    }\n",
       "</style>\n",
       "<table border=\"1\" class=\"dataframe\">\n",
       "  <thead>\n",
       "    <tr style=\"text-align: right;\">\n",
       "      <th></th>\n",
       "      <th>NombrePais</th>\n",
       "      <th>CodigoPais</th>\n",
       "      <th>TasaNatalidad</th>\n",
       "      <th>UsuariosInternet</th>\n",
       "      <th>GrupoIngresos</th>\n",
       "    </tr>\n",
       "  </thead>\n",
       "  <tbody>\n",
       "    <tr>\n",
       "      <th>116</th>\n",
       "      <td>Malta</td>\n",
       "      <td>MLT</td>\n",
       "      <td>9.5</td>\n",
       "      <td>68.9138</td>\n",
       "      <td>Ingreso alto</td>\n",
       "    </tr>\n",
       "  </tbody>\n",
       "</table>\n",
       "</div>"
      ],
      "text/plain": [
       "    NombrePais CodigoPais  TasaNatalidad  UsuariosInternet GrupoIngresos\n",
       "116      Malta        MLT            9.5           68.9138  Ingreso alto"
      ]
     },
     "execution_count": 148,
     "metadata": {},
     "output_type": "execute_result"
    }
   ],
   "source": [
    "datos[datos.NombrePais == 'Malta']"
   ]
  },
  {
   "cell_type": "markdown",
   "metadata": {},
   "source": [
    "---"
   ]
  },
  {
   "cell_type": "markdown",
   "metadata": {},
   "source": [
    "Accesando a Elementos Individuales"
   ]
  },
  {
   "cell_type": "code",
   "execution_count": 149,
   "metadata": {},
   "outputs": [
    {
     "ename": "KeyError",
     "evalue": "(2, 2)",
     "output_type": "error",
     "traceback": [
      "\u001b[1;31m---------------------------------------------------------------------------\u001b[0m",
      "\u001b[1;31mKeyError\u001b[0m                                  Traceback (most recent call last)",
      "\u001b[1;32mC:\\ProgramData\\Anaconda3\\lib\\site-packages\\pandas\\core\\indexes\\base.py\u001b[0m in \u001b[0;36mget_loc\u001b[1;34m(self, key, method, tolerance)\u001b[0m\n\u001b[0;32m   2645\u001b[0m             \u001b[1;32mtry\u001b[0m\u001b[1;33m:\u001b[0m\u001b[1;33m\u001b[0m\u001b[1;33m\u001b[0m\u001b[0m\n\u001b[1;32m-> 2646\u001b[1;33m                 \u001b[1;32mreturn\u001b[0m \u001b[0mself\u001b[0m\u001b[1;33m.\u001b[0m\u001b[0m_engine\u001b[0m\u001b[1;33m.\u001b[0m\u001b[0mget_loc\u001b[0m\u001b[1;33m(\u001b[0m\u001b[0mkey\u001b[0m\u001b[1;33m)\u001b[0m\u001b[1;33m\u001b[0m\u001b[1;33m\u001b[0m\u001b[0m\n\u001b[0m\u001b[0;32m   2647\u001b[0m             \u001b[1;32mexcept\u001b[0m \u001b[0mKeyError\u001b[0m\u001b[1;33m:\u001b[0m\u001b[1;33m\u001b[0m\u001b[1;33m\u001b[0m\u001b[0m\n",
      "\u001b[1;32mpandas\\_libs\\index.pyx\u001b[0m in \u001b[0;36mpandas._libs.index.IndexEngine.get_loc\u001b[1;34m()\u001b[0m\n",
      "\u001b[1;32mpandas\\_libs\\index.pyx\u001b[0m in \u001b[0;36mpandas._libs.index.IndexEngine.get_loc\u001b[1;34m()\u001b[0m\n",
      "\u001b[1;32mpandas\\_libs\\hashtable_class_helper.pxi\u001b[0m in \u001b[0;36mpandas._libs.hashtable.PyObjectHashTable.get_item\u001b[1;34m()\u001b[0m\n",
      "\u001b[1;32mpandas\\_libs\\hashtable_class_helper.pxi\u001b[0m in \u001b[0;36mpandas._libs.hashtable.PyObjectHashTable.get_item\u001b[1;34m()\u001b[0m\n",
      "\u001b[1;31mKeyError\u001b[0m: (2, 2)",
      "\nDuring handling of the above exception, another exception occurred:\n",
      "\u001b[1;31mKeyError\u001b[0m                                  Traceback (most recent call last)",
      "\u001b[1;32m<ipython-input-149-2068a0fba05f>\u001b[0m in \u001b[0;36m<module>\u001b[1;34m\u001b[0m\n\u001b[1;32m----> 1\u001b[1;33m \u001b[0mdatos\u001b[0m\u001b[1;33m[\u001b[0m\u001b[1;36m2\u001b[0m\u001b[1;33m,\u001b[0m\u001b[1;36m2\u001b[0m\u001b[1;33m]\u001b[0m \u001b[1;31m# Error: ¿Por qué?\u001b[0m\u001b[1;33m\u001b[0m\u001b[1;33m\u001b[0m\u001b[0m\n\u001b[0m",
      "\u001b[1;32mC:\\ProgramData\\Anaconda3\\lib\\site-packages\\pandas\\core\\frame.py\u001b[0m in \u001b[0;36m__getitem__\u001b[1;34m(self, key)\u001b[0m\n\u001b[0;32m   2798\u001b[0m             \u001b[1;32mif\u001b[0m \u001b[0mself\u001b[0m\u001b[1;33m.\u001b[0m\u001b[0mcolumns\u001b[0m\u001b[1;33m.\u001b[0m\u001b[0mnlevels\u001b[0m \u001b[1;33m>\u001b[0m \u001b[1;36m1\u001b[0m\u001b[1;33m:\u001b[0m\u001b[1;33m\u001b[0m\u001b[1;33m\u001b[0m\u001b[0m\n\u001b[0;32m   2799\u001b[0m                 \u001b[1;32mreturn\u001b[0m \u001b[0mself\u001b[0m\u001b[1;33m.\u001b[0m\u001b[0m_getitem_multilevel\u001b[0m\u001b[1;33m(\u001b[0m\u001b[0mkey\u001b[0m\u001b[1;33m)\u001b[0m\u001b[1;33m\u001b[0m\u001b[1;33m\u001b[0m\u001b[0m\n\u001b[1;32m-> 2800\u001b[1;33m             \u001b[0mindexer\u001b[0m \u001b[1;33m=\u001b[0m \u001b[0mself\u001b[0m\u001b[1;33m.\u001b[0m\u001b[0mcolumns\u001b[0m\u001b[1;33m.\u001b[0m\u001b[0mget_loc\u001b[0m\u001b[1;33m(\u001b[0m\u001b[0mkey\u001b[0m\u001b[1;33m)\u001b[0m\u001b[1;33m\u001b[0m\u001b[1;33m\u001b[0m\u001b[0m\n\u001b[0m\u001b[0;32m   2801\u001b[0m             \u001b[1;32mif\u001b[0m \u001b[0mis_integer\u001b[0m\u001b[1;33m(\u001b[0m\u001b[0mindexer\u001b[0m\u001b[1;33m)\u001b[0m\u001b[1;33m:\u001b[0m\u001b[1;33m\u001b[0m\u001b[1;33m\u001b[0m\u001b[0m\n\u001b[0;32m   2802\u001b[0m                 \u001b[0mindexer\u001b[0m \u001b[1;33m=\u001b[0m \u001b[1;33m[\u001b[0m\u001b[0mindexer\u001b[0m\u001b[1;33m]\u001b[0m\u001b[1;33m\u001b[0m\u001b[1;33m\u001b[0m\u001b[0m\n",
      "\u001b[1;32mC:\\ProgramData\\Anaconda3\\lib\\site-packages\\pandas\\core\\indexes\\base.py\u001b[0m in \u001b[0;36mget_loc\u001b[1;34m(self, key, method, tolerance)\u001b[0m\n\u001b[0;32m   2646\u001b[0m                 \u001b[1;32mreturn\u001b[0m \u001b[0mself\u001b[0m\u001b[1;33m.\u001b[0m\u001b[0m_engine\u001b[0m\u001b[1;33m.\u001b[0m\u001b[0mget_loc\u001b[0m\u001b[1;33m(\u001b[0m\u001b[0mkey\u001b[0m\u001b[1;33m)\u001b[0m\u001b[1;33m\u001b[0m\u001b[1;33m\u001b[0m\u001b[0m\n\u001b[0;32m   2647\u001b[0m             \u001b[1;32mexcept\u001b[0m \u001b[0mKeyError\u001b[0m\u001b[1;33m:\u001b[0m\u001b[1;33m\u001b[0m\u001b[1;33m\u001b[0m\u001b[0m\n\u001b[1;32m-> 2648\u001b[1;33m                 \u001b[1;32mreturn\u001b[0m \u001b[0mself\u001b[0m\u001b[1;33m.\u001b[0m\u001b[0m_engine\u001b[0m\u001b[1;33m.\u001b[0m\u001b[0mget_loc\u001b[0m\u001b[1;33m(\u001b[0m\u001b[0mself\u001b[0m\u001b[1;33m.\u001b[0m\u001b[0m_maybe_cast_indexer\u001b[0m\u001b[1;33m(\u001b[0m\u001b[0mkey\u001b[0m\u001b[1;33m)\u001b[0m\u001b[1;33m)\u001b[0m\u001b[1;33m\u001b[0m\u001b[1;33m\u001b[0m\u001b[0m\n\u001b[0m\u001b[0;32m   2649\u001b[0m         \u001b[0mindexer\u001b[0m \u001b[1;33m=\u001b[0m \u001b[0mself\u001b[0m\u001b[1;33m.\u001b[0m\u001b[0mget_indexer\u001b[0m\u001b[1;33m(\u001b[0m\u001b[1;33m[\u001b[0m\u001b[0mkey\u001b[0m\u001b[1;33m]\u001b[0m\u001b[1;33m,\u001b[0m \u001b[0mmethod\u001b[0m\u001b[1;33m=\u001b[0m\u001b[0mmethod\u001b[0m\u001b[1;33m,\u001b[0m \u001b[0mtolerance\u001b[0m\u001b[1;33m=\u001b[0m\u001b[0mtolerance\u001b[0m\u001b[1;33m)\u001b[0m\u001b[1;33m\u001b[0m\u001b[1;33m\u001b[0m\u001b[0m\n\u001b[0;32m   2650\u001b[0m         \u001b[1;32mif\u001b[0m \u001b[0mindexer\u001b[0m\u001b[1;33m.\u001b[0m\u001b[0mndim\u001b[0m \u001b[1;33m>\u001b[0m \u001b[1;36m1\u001b[0m \u001b[1;32mor\u001b[0m \u001b[0mindexer\u001b[0m\u001b[1;33m.\u001b[0m\u001b[0msize\u001b[0m \u001b[1;33m>\u001b[0m \u001b[1;36m1\u001b[0m\u001b[1;33m:\u001b[0m\u001b[1;33m\u001b[0m\u001b[1;33m\u001b[0m\u001b[0m\n",
      "\u001b[1;32mpandas\\_libs\\index.pyx\u001b[0m in \u001b[0;36mpandas._libs.index.IndexEngine.get_loc\u001b[1;34m()\u001b[0m\n",
      "\u001b[1;32mpandas\\_libs\\index.pyx\u001b[0m in \u001b[0;36mpandas._libs.index.IndexEngine.get_loc\u001b[1;34m()\u001b[0m\n",
      "\u001b[1;32mpandas\\_libs\\hashtable_class_helper.pxi\u001b[0m in \u001b[0;36mpandas._libs.hashtable.PyObjectHashTable.get_item\u001b[1;34m()\u001b[0m\n",
      "\u001b[1;32mpandas\\_libs\\hashtable_class_helper.pxi\u001b[0m in \u001b[0;36mpandas._libs.hashtable.PyObjectHashTable.get_item\u001b[1;34m()\u001b[0m\n",
      "\u001b[1;31mKeyError\u001b[0m: (2, 2)"
     ]
    }
   ],
   "source": [
    "datos[2,2] # Error: ¿Por qué?"
   ]
  },
  {
   "cell_type": "code",
   "execution_count": 150,
   "metadata": {},
   "outputs": [
    {
     "data": {
      "text/html": [
       "<div>\n",
       "<style scoped>\n",
       "    .dataframe tbody tr th:only-of-type {\n",
       "        vertical-align: middle;\n",
       "    }\n",
       "\n",
       "    .dataframe tbody tr th {\n",
       "        vertical-align: top;\n",
       "    }\n",
       "\n",
       "    .dataframe thead th {\n",
       "        text-align: right;\n",
       "    }\n",
       "</style>\n",
       "<table border=\"1\" class=\"dataframe\">\n",
       "  <thead>\n",
       "    <tr style=\"text-align: right;\">\n",
       "      <th></th>\n",
       "      <th>NombrePais</th>\n",
       "      <th>CodigoPais</th>\n",
       "      <th>TasaNatalidad</th>\n",
       "      <th>UsuariosInternet</th>\n",
       "      <th>GrupoIngresos</th>\n",
       "    </tr>\n",
       "  </thead>\n",
       "  <tbody>\n",
       "    <tr>\n",
       "      <th>0</th>\n",
       "      <td>Aruba</td>\n",
       "      <td>ABW</td>\n",
       "      <td>10.244</td>\n",
       "      <td>78.9</td>\n",
       "      <td>Ingreso alto</td>\n",
       "    </tr>\n",
       "    <tr>\n",
       "      <th>1</th>\n",
       "      <td>Afghanistan</td>\n",
       "      <td>AFG</td>\n",
       "      <td>35.253</td>\n",
       "      <td>5.9</td>\n",
       "      <td>Ingreso bajo</td>\n",
       "    </tr>\n",
       "    <tr>\n",
       "      <th>2</th>\n",
       "      <td>Angola</td>\n",
       "      <td>AGO</td>\n",
       "      <td>45.985</td>\n",
       "      <td>19.1</td>\n",
       "      <td>Ingreso medio alto</td>\n",
       "    </tr>\n",
       "    <tr>\n",
       "      <th>3</th>\n",
       "      <td>Albania</td>\n",
       "      <td>ALB</td>\n",
       "      <td>12.877</td>\n",
       "      <td>57.2</td>\n",
       "      <td>Ingreso medio alto</td>\n",
       "    </tr>\n",
       "    <tr>\n",
       "      <th>4</th>\n",
       "      <td>United Arab Emirates</td>\n",
       "      <td>ARE</td>\n",
       "      <td>11.044</td>\n",
       "      <td>88.0</td>\n",
       "      <td>Ingreso alto</td>\n",
       "    </tr>\n",
       "  </tbody>\n",
       "</table>\n",
       "</div>"
      ],
      "text/plain": [
       "             NombrePais CodigoPais  TasaNatalidad  UsuariosInternet  \\\n",
       "0                 Aruba        ABW         10.244              78.9   \n",
       "1           Afghanistan        AFG         35.253               5.9   \n",
       "2                Angola        AGO         45.985              19.1   \n",
       "3               Albania        ALB         12.877              57.2   \n",
       "4  United Arab Emirates        ARE         11.044              88.0   \n",
       "\n",
       "        GrupoIngresos  \n",
       "0        Ingreso alto  \n",
       "1        Ingreso bajo  \n",
       "2  Ingreso medio alto  \n",
       "3  Ingreso medio alto  \n",
       "4        Ingreso alto  "
      ]
     },
     "execution_count": 150,
     "metadata": {},
     "output_type": "execute_result"
    }
   ],
   "source": [
    "datos.head()"
   ]
  },
  {
   "cell_type": "code",
   "execution_count": 151,
   "metadata": {},
   "outputs": [],
   "source": [
    "# .at  para etiquetas\n",
    "# .iat para ubicación con números enteros"
   ]
  },
  {
   "cell_type": "code",
   "execution_count": 152,
   "metadata": {},
   "outputs": [
    {
     "data": {
      "text/plain": [
       "'Ingreso medio alto'"
      ]
     },
     "execution_count": 152,
     "metadata": {},
     "output_type": "execute_result"
    }
   ],
   "source": [
    "datos.iat[3,4]"
   ]
  },
  {
   "cell_type": "code",
   "execution_count": 153,
   "metadata": {},
   "outputs": [
    {
     "data": {
      "text/plain": [
       "'ABW'"
      ]
     },
     "execution_count": 153,
     "metadata": {},
     "output_type": "execute_result"
    }
   ],
   "source": [
    "datos.iat[0,1]"
   ]
  },
  {
   "cell_type": "code",
   "execution_count": 155,
   "metadata": {},
   "outputs": [
    {
     "data": {
      "text/plain": [
       "45.985"
      ]
     },
     "execution_count": 155,
     "metadata": {},
     "output_type": "execute_result"
    }
   ],
   "source": [
    "datos.at[2 , 'TasaNatalidad']"
   ]
  },
  {
   "cell_type": "code",
   "execution_count": 156,
   "metadata": {},
   "outputs": [],
   "source": [
    "# ¿Por qué necesita at?"
   ]
  },
  {
   "cell_type": "code",
   "execution_count": 157,
   "metadata": {},
   "outputs": [],
   "source": [
    "sub10 = datos[::10]"
   ]
  },
  {
   "cell_type": "code",
   "execution_count": 158,
   "metadata": {},
   "outputs": [
    {
     "data": {
      "text/html": [
       "<div>\n",
       "<style scoped>\n",
       "    .dataframe tbody tr th:only-of-type {\n",
       "        vertical-align: middle;\n",
       "    }\n",
       "\n",
       "    .dataframe tbody tr th {\n",
       "        vertical-align: top;\n",
       "    }\n",
       "\n",
       "    .dataframe thead th {\n",
       "        text-align: right;\n",
       "    }\n",
       "</style>\n",
       "<table border=\"1\" class=\"dataframe\">\n",
       "  <thead>\n",
       "    <tr style=\"text-align: right;\">\n",
       "      <th></th>\n",
       "      <th>NombrePais</th>\n",
       "      <th>CodigoPais</th>\n",
       "      <th>TasaNatalidad</th>\n",
       "      <th>UsuariosInternet</th>\n",
       "      <th>GrupoIngresos</th>\n",
       "    </tr>\n",
       "  </thead>\n",
       "  <tbody>\n",
       "    <tr>\n",
       "      <th>0</th>\n",
       "      <td>Aruba</td>\n",
       "      <td>ABW</td>\n",
       "      <td>10.244</td>\n",
       "      <td>78.900000</td>\n",
       "      <td>Ingreso alto</td>\n",
       "    </tr>\n",
       "    <tr>\n",
       "      <th>10</th>\n",
       "      <td>Azerbaijan</td>\n",
       "      <td>AZE</td>\n",
       "      <td>18.300</td>\n",
       "      <td>58.700000</td>\n",
       "      <td>Ingreso medio alto</td>\n",
       "    </tr>\n",
       "    <tr>\n",
       "      <th>20</th>\n",
       "      <td>Belarus</td>\n",
       "      <td>BLR</td>\n",
       "      <td>12.500</td>\n",
       "      <td>54.170000</td>\n",
       "      <td>Ingreso medio alto</td>\n",
       "    </tr>\n",
       "    <tr>\n",
       "      <th>30</th>\n",
       "      <td>Canada</td>\n",
       "      <td>CAN</td>\n",
       "      <td>10.900</td>\n",
       "      <td>85.800000</td>\n",
       "      <td>Ingreso alto</td>\n",
       "    </tr>\n",
       "    <tr>\n",
       "      <th>40</th>\n",
       "      <td>Costa Rica</td>\n",
       "      <td>CRI</td>\n",
       "      <td>15.022</td>\n",
       "      <td>45.960000</td>\n",
       "      <td>Ingreso medio alto</td>\n",
       "    </tr>\n",
       "    <tr>\n",
       "      <th>50</th>\n",
       "      <td>Ecuador</td>\n",
       "      <td>ECU</td>\n",
       "      <td>21.070</td>\n",
       "      <td>40.353684</td>\n",
       "      <td>Ingreso medio alto</td>\n",
       "    </tr>\n",
       "    <tr>\n",
       "      <th>60</th>\n",
       "      <td>Gabon</td>\n",
       "      <td>GAB</td>\n",
       "      <td>30.555</td>\n",
       "      <td>9.200000</td>\n",
       "      <td>Ingreso medio alto</td>\n",
       "    </tr>\n",
       "    <tr>\n",
       "      <th>70</th>\n",
       "      <td>Greenland</td>\n",
       "      <td>GRL</td>\n",
       "      <td>14.500</td>\n",
       "      <td>65.800000</td>\n",
       "      <td>Ingreso alto</td>\n",
       "    </tr>\n",
       "    <tr>\n",
       "      <th>80</th>\n",
       "      <td>India</td>\n",
       "      <td>IND</td>\n",
       "      <td>20.291</td>\n",
       "      <td>15.100000</td>\n",
       "      <td>Ingreso medio bajo</td>\n",
       "    </tr>\n",
       "    <tr>\n",
       "      <th>90</th>\n",
       "      <td>Kazakhstan</td>\n",
       "      <td>KAZ</td>\n",
       "      <td>22.730</td>\n",
       "      <td>54.000000</td>\n",
       "      <td>Ingreso medio alto</td>\n",
       "    </tr>\n",
       "    <tr>\n",
       "      <th>100</th>\n",
       "      <td>Libya</td>\n",
       "      <td>LBY</td>\n",
       "      <td>21.425</td>\n",
       "      <td>16.500000</td>\n",
       "      <td>Ingreso medio alto</td>\n",
       "    </tr>\n",
       "    <tr>\n",
       "      <th>110</th>\n",
       "      <td>Moldova</td>\n",
       "      <td>MDA</td>\n",
       "      <td>12.141</td>\n",
       "      <td>45.000000</td>\n",
       "      <td>Ingreso medio bajo</td>\n",
       "    </tr>\n",
       "    <tr>\n",
       "      <th>120</th>\n",
       "      <td>Mozambique</td>\n",
       "      <td>MOZ</td>\n",
       "      <td>39.705</td>\n",
       "      <td>5.400000</td>\n",
       "      <td>Ingreso bajo</td>\n",
       "    </tr>\n",
       "    <tr>\n",
       "      <th>130</th>\n",
       "      <td>Netherlands</td>\n",
       "      <td>NLD</td>\n",
       "      <td>10.200</td>\n",
       "      <td>93.956400</td>\n",
       "      <td>Ingreso alto</td>\n",
       "    </tr>\n",
       "    <tr>\n",
       "      <th>140</th>\n",
       "      <td>Poland</td>\n",
       "      <td>POL</td>\n",
       "      <td>9.600</td>\n",
       "      <td>62.849200</td>\n",
       "      <td>Ingreso alto</td>\n",
       "    </tr>\n",
       "    <tr>\n",
       "      <th>150</th>\n",
       "      <td>Sudan</td>\n",
       "      <td>SDN</td>\n",
       "      <td>33.477</td>\n",
       "      <td>22.700000</td>\n",
       "      <td>Ingreso medio bajo</td>\n",
       "    </tr>\n",
       "    <tr>\n",
       "      <th>160</th>\n",
       "      <td>Suriname</td>\n",
       "      <td>SUR</td>\n",
       "      <td>18.455</td>\n",
       "      <td>37.400000</td>\n",
       "      <td>Ingreso medio alto</td>\n",
       "    </tr>\n",
       "    <tr>\n",
       "      <th>170</th>\n",
       "      <td>Tajikistan</td>\n",
       "      <td>TJK</td>\n",
       "      <td>30.792</td>\n",
       "      <td>16.000000</td>\n",
       "      <td>Ingreso medio bajo</td>\n",
       "    </tr>\n",
       "    <tr>\n",
       "      <th>180</th>\n",
       "      <td>Uruguay</td>\n",
       "      <td>URY</td>\n",
       "      <td>14.374</td>\n",
       "      <td>57.690000</td>\n",
       "      <td>Ingreso alto</td>\n",
       "    </tr>\n",
       "    <tr>\n",
       "      <th>190</th>\n",
       "      <td>Yemen, Rep.</td>\n",
       "      <td>YEM</td>\n",
       "      <td>32.947</td>\n",
       "      <td>20.000000</td>\n",
       "      <td>Ingreso medio bajo</td>\n",
       "    </tr>\n",
       "  </tbody>\n",
       "</table>\n",
       "</div>"
      ],
      "text/plain": [
       "      NombrePais CodigoPais  TasaNatalidad  UsuariosInternet  \\\n",
       "0          Aruba        ABW         10.244         78.900000   \n",
       "10    Azerbaijan        AZE         18.300         58.700000   \n",
       "20       Belarus        BLR         12.500         54.170000   \n",
       "30        Canada        CAN         10.900         85.800000   \n",
       "40    Costa Rica        CRI         15.022         45.960000   \n",
       "50       Ecuador        ECU         21.070         40.353684   \n",
       "60         Gabon        GAB         30.555          9.200000   \n",
       "70     Greenland        GRL         14.500         65.800000   \n",
       "80         India        IND         20.291         15.100000   \n",
       "90    Kazakhstan        KAZ         22.730         54.000000   \n",
       "100        Libya        LBY         21.425         16.500000   \n",
       "110      Moldova        MDA         12.141         45.000000   \n",
       "120   Mozambique        MOZ         39.705          5.400000   \n",
       "130  Netherlands        NLD         10.200         93.956400   \n",
       "140       Poland        POL          9.600         62.849200   \n",
       "150        Sudan        SDN         33.477         22.700000   \n",
       "160     Suriname        SUR         18.455         37.400000   \n",
       "170   Tajikistan        TJK         30.792         16.000000   \n",
       "180      Uruguay        URY         14.374         57.690000   \n",
       "190  Yemen, Rep.        YEM         32.947         20.000000   \n",
       "\n",
       "          GrupoIngresos  \n",
       "0          Ingreso alto  \n",
       "10   Ingreso medio alto  \n",
       "20   Ingreso medio alto  \n",
       "30         Ingreso alto  \n",
       "40   Ingreso medio alto  \n",
       "50   Ingreso medio alto  \n",
       "60   Ingreso medio alto  \n",
       "70         Ingreso alto  \n",
       "80   Ingreso medio bajo  \n",
       "90   Ingreso medio alto  \n",
       "100  Ingreso medio alto  \n",
       "110  Ingreso medio bajo  \n",
       "120        Ingreso bajo  \n",
       "130        Ingreso alto  \n",
       "140        Ingreso alto  \n",
       "150  Ingreso medio bajo  \n",
       "160  Ingreso medio alto  \n",
       "170  Ingreso medio bajo  \n",
       "180        Ingreso alto  \n",
       "190  Ingreso medio bajo  "
      ]
     },
     "execution_count": 158,
     "metadata": {},
     "output_type": "execute_result"
    }
   ],
   "source": [
    "sub10"
   ]
  },
  {
   "cell_type": "code",
   "execution_count": 159,
   "metadata": {},
   "outputs": [
    {
     "data": {
      "text/plain": [
       "'Libya'"
      ]
     },
     "execution_count": 159,
     "metadata": {},
     "output_type": "execute_result"
    }
   ],
   "source": [
    "sub10.iat[10,0]"
   ]
  },
  {
   "cell_type": "code",
   "execution_count": 161,
   "metadata": {},
   "outputs": [
    {
     "data": {
      "text/plain": [
       "'Azerbaijan'"
      ]
     },
     "execution_count": 161,
     "metadata": {},
     "output_type": "execute_result"
    }
   ],
   "source": [
    "sub10.at[10 , 'NombrePais']"
   ]
  },
  {
   "cell_type": "code",
   "execution_count": 162,
   "metadata": {},
   "outputs": [],
   "source": [
    "# ¿Por qué difiere el valor?"
   ]
  },
  {
   "cell_type": "code",
   "execution_count": 163,
   "metadata": {},
   "outputs": [],
   "source": [
    "# at se fija en la etiqueta 10, no en la posición 10"
   ]
  },
  {
   "cell_type": "code",
   "execution_count": 164,
   "metadata": {},
   "outputs": [
    {
     "data": {
      "text/plain": [
       "'Libya'"
      ]
     },
     "execution_count": 164,
     "metadata": {},
     "output_type": "execute_result"
    }
   ],
   "source": [
    "sub10.at[100 , 'NombrePais']"
   ]
  },
  {
   "cell_type": "markdown",
   "metadata": {},
   "source": [
    "---"
   ]
  },
  {
   "cell_type": "code",
   "execution_count": 165,
   "metadata": {},
   "outputs": [],
   "source": [
    "# Introducción a Seaborn"
   ]
  },
  {
   "cell_type": "code",
   "execution_count": 173,
   "metadata": {},
   "outputs": [],
   "source": [
    "import matplotlib.pyplot as plt\n",
    "import seaborn as sns\n",
    "%matplotlib inline\n",
    "plt.rcParams['figure.figsize'] = 8,4\n",
    "import warnings\n",
    "warnings.filterwarnings('ignore')"
   ]
  },
  {
   "cell_type": "code",
   "execution_count": 168,
   "metadata": {},
   "outputs": [
    {
     "data": {
      "text/html": [
       "<div>\n",
       "<style scoped>\n",
       "    .dataframe tbody tr th:only-of-type {\n",
       "        vertical-align: middle;\n",
       "    }\n",
       "\n",
       "    .dataframe tbody tr th {\n",
       "        vertical-align: top;\n",
       "    }\n",
       "\n",
       "    .dataframe thead th {\n",
       "        text-align: right;\n",
       "    }\n",
       "</style>\n",
       "<table border=\"1\" class=\"dataframe\">\n",
       "  <thead>\n",
       "    <tr style=\"text-align: right;\">\n",
       "      <th></th>\n",
       "      <th>NombrePais</th>\n",
       "      <th>CodigoPais</th>\n",
       "      <th>TasaNatalidad</th>\n",
       "      <th>UsuariosInternet</th>\n",
       "      <th>GrupoIngresos</th>\n",
       "    </tr>\n",
       "  </thead>\n",
       "  <tbody>\n",
       "    <tr>\n",
       "      <th>0</th>\n",
       "      <td>Aruba</td>\n",
       "      <td>ABW</td>\n",
       "      <td>10.244</td>\n",
       "      <td>78.9</td>\n",
       "      <td>Ingreso alto</td>\n",
       "    </tr>\n",
       "    <tr>\n",
       "      <th>1</th>\n",
       "      <td>Afghanistan</td>\n",
       "      <td>AFG</td>\n",
       "      <td>35.253</td>\n",
       "      <td>5.9</td>\n",
       "      <td>Ingreso bajo</td>\n",
       "    </tr>\n",
       "    <tr>\n",
       "      <th>2</th>\n",
       "      <td>Angola</td>\n",
       "      <td>AGO</td>\n",
       "      <td>45.985</td>\n",
       "      <td>19.1</td>\n",
       "      <td>Ingreso medio alto</td>\n",
       "    </tr>\n",
       "    <tr>\n",
       "      <th>3</th>\n",
       "      <td>Albania</td>\n",
       "      <td>ALB</td>\n",
       "      <td>12.877</td>\n",
       "      <td>57.2</td>\n",
       "      <td>Ingreso medio alto</td>\n",
       "    </tr>\n",
       "    <tr>\n",
       "      <th>4</th>\n",
       "      <td>United Arab Emirates</td>\n",
       "      <td>ARE</td>\n",
       "      <td>11.044</td>\n",
       "      <td>88.0</td>\n",
       "      <td>Ingreso alto</td>\n",
       "    </tr>\n",
       "  </tbody>\n",
       "</table>\n",
       "</div>"
      ],
      "text/plain": [
       "             NombrePais CodigoPais  TasaNatalidad  UsuariosInternet  \\\n",
       "0                 Aruba        ABW         10.244              78.9   \n",
       "1           Afghanistan        AFG         35.253               5.9   \n",
       "2                Angola        AGO         45.985              19.1   \n",
       "3               Albania        ALB         12.877              57.2   \n",
       "4  United Arab Emirates        ARE         11.044              88.0   \n",
       "\n",
       "        GrupoIngresos  \n",
       "0        Ingreso alto  \n",
       "1        Ingreso bajo  \n",
       "2  Ingreso medio alto  \n",
       "3  Ingreso medio alto  \n",
       "4        Ingreso alto  "
      ]
     },
     "execution_count": 168,
     "metadata": {},
     "output_type": "execute_result"
    }
   ],
   "source": [
    "datos.head()"
   ]
  },
  {
   "cell_type": "code",
   "execution_count": 174,
   "metadata": {},
   "outputs": [
    {
     "data": {
      "image/png": "[encoded data removed]",
      "text/plain": [
       "<Figure size 576x288 with 1 Axes>"
      ]
     },
     "metadata": {
      "needs_background": "light"
     },
     "output_type": "display_data"
    }
   ],
   "source": [
    "vis1 = sns.distplot(datos['UsuariosInternet'])"
   ]
  },
  {
   "cell_type": "code",
   "execution_count": 175,
   "metadata": {},
   "outputs": [
    {
     "data": {
      "image/png": "[encoded data removed]",
      "text/plain": [
       "<Figure size 576x288 with 1 Axes>"
      ]
     },
     "metadata": {
      "needs_background": "light"
     },
     "output_type": "display_data"
    }
   ],
   "source": [
    "vis1 = sns.distplot(datos['UsuariosInternet'],bins = 30)"
   ]
  },
  {
   "cell_type": "code",
   "execution_count": 176,
   "metadata": {},
   "outputs": [
    {
     "data": {
      "image/png": "[encoded data removed]",
      "text/plain": [
       "<Figure size 576x288 with 1 Axes>"
      ]
     },
     "metadata": {
      "needs_background": "light"
     },
     "output_type": "display_data"
    }
   ],
   "source": [
    "vis1 = sns.distplot(datos['UsuariosInternet'],bins = 100)"
   ]
  },
  {
   "cell_type": "code",
   "execution_count": 177,
   "metadata": {},
   "outputs": [
    {
     "data": {
      "image/png": "[encoded data removed]",
      "text/plain": [
       "<Figure size 576x288 with 1 Axes>"
      ]
     },
     "metadata": {
      "needs_background": "light"
     },
     "output_type": "display_data"
    }
   ],
   "source": [
    "vis2 = sns.boxplot(data = datos , x = 'GrupoIngresos' , y = 'TasaNatalidad')"
   ]
  },
  {
   "cell_type": "code",
   "execution_count": 178,
   "metadata": {},
   "outputs": [],
   "source": [
    "# Nos muestra los cuartiles"
   ]
  },
  {
   "cell_type": "code",
   "execution_count": 179,
   "metadata": {},
   "outputs": [],
   "source": [
    "# Galería de Seaborn"
   ]
  },
  {
   "cell_type": "markdown",
   "metadata": {},
   "source": [
    "---"
   ]
  },
  {
   "cell_type": "markdown",
   "metadata": {},
   "source": [
    "Visualización con Seaborn"
   ]
  },
  {
   "cell_type": "code",
   "execution_count": 180,
   "metadata": {},
   "outputs": [
    {
     "data": {
      "image/png": "[encoded data removed]",
      "text/plain": [
       "<Figure size 360x360 with 1 Axes>"
      ]
     },
     "metadata": {
      "needs_background": "light"
     },
     "output_type": "display_data"
    }
   ],
   "source": [
    "vis3 = sns.lmplot(x = 'UsuariosInternet' , y = 'TasaNatalidad' , data = datos)"
   ]
  },
  {
   "cell_type": "code",
   "execution_count": 181,
   "metadata": {},
   "outputs": [
    {
     "data": {
      "image/png": "[encoded data removed]",
      "text/plain": [
       "<Figure size 360x360 with 1 Axes>"
      ]
     },
     "metadata": {
      "needs_background": "light"
     },
     "output_type": "display_data"
    }
   ],
   "source": [
    "vis3 = sns.lmplot( data = datos , x = 'UsuariosInternet' , y = 'TasaNatalidad')"
   ]
  },
  {
   "cell_type": "code",
   "execution_count": 182,
   "metadata": {},
   "outputs": [],
   "source": [
    "# Obtuvimos una regresión lineal pero los datos no siguen ese comportamiento"
   ]
  },
  {
   "cell_type": "code",
   "execution_count": 183,
   "metadata": {},
   "outputs": [
    {
     "data": {
      "image/png": "[encoded data removed]",
      "text/plain": [
       "<Figure size 360x360 with 1 Axes>"
      ]
     },
     "metadata": {
      "needs_background": "light"
     },
     "output_type": "display_data"
    }
   ],
   "source": [
    "vis3 = sns.lmplot( data = datos , x = 'UsuariosInternet' , y = 'TasaNatalidad' , fit_reg = False)"
   ]
  },
  {
   "cell_type": "code",
   "execution_count": 184,
   "metadata": {},
   "outputs": [
    {
     "data": {
      "image/png": "[encoded data removed]",
      "text/plain": [
       "<Figure size 491.625x360 with 1 Axes>"
      ]
     },
     "metadata": {
      "needs_background": "light"
     },
     "output_type": "display_data"
    }
   ],
   "source": [
    "vis3 = sns.lmplot( data = datos , x = 'UsuariosInternet' , y = 'TasaNatalidad' , \\\n",
    "                  fit_reg = False , hue = 'GrupoIngresos')"
   ]
  },
  {
   "cell_type": "code",
   "execution_count": 185,
   "metadata": {},
   "outputs": [],
   "source": [
    "# Este gráfico no se afecta por plt.rcParams"
   ]
  },
  {
   "cell_type": "code",
   "execution_count": 186,
   "metadata": {},
   "outputs": [
    {
     "data": {
      "text/plain": [
       "<seaborn.axisgrid.FacetGrid at 0x93f4ea2d08>"
      ]
     },
     "execution_count": 186,
     "metadata": {},
     "output_type": "execute_result"
    },
    {
     "data": {
      "image/png": "[encoded data removed]",
      "text/plain": [
       "<Figure size 851.625x720 with 1 Axes>"
      ]
     },
     "metadata": {
      "needs_background": "light"
     },
     "output_type": "display_data"
    }
   ],
   "source": [
    "sns.lmplot( data = datos , x = 'UsuariosInternet' , y = 'TasaNatalidad' , \\\n",
    "                  fit_reg = False , hue = 'GrupoIngresos' , size = 10)"
   ]
  },
  {
   "cell_type": "code",
   "execution_count": 188,
   "metadata": {},
   "outputs": [
    {
     "data": {
      "text/plain": [
       "<seaborn.axisgrid.FacetGrid at 0x93f53aad08>"
      ]
     },
     "execution_count": 188,
     "metadata": {},
     "output_type": "execute_result"
    },
    {
     "data": {
      "image/png": "[encoded data removed]",
      "text/plain": [
       "<Figure size 491.625x720 with 1 Axes>"
      ]
     },
     "metadata": {
      "needs_background": "light"
     },
     "output_type": "display_data"
    }
   ],
   "source": [
    "sns.lmplot( data = datos , x = 'UsuariosInternet' , y = 'TasaNatalidad' , \\\n",
    "                  fit_reg = False , hue = 'GrupoIngresos' , size = 10 , \\\n",
    "                  aspect = 0.5)"
   ]
  },
  {
   "cell_type": "code",
   "execution_count": null,
   "metadata": {},
   "outputs": [],
   "source": []
  }
 ],
 "metadata": {
  "kernelspec": {
   "display_name": "Python 3",
   "language": "python",
   "name": "python3"
  },
  "language_info": {
   "codemirror_mode": {
    "name": "ipython",
    "version": 3
   },
   "file_extension": ".py",
   "mimetype": "text/x-python",
   "name": "python",
   "nbconvert_exporter": "python",
   "pygments_lexer": "ipython3",
   "version": "3.7.6"
  }
 },
 "nbformat": 4,
 "nbformat_minor": 4
}
