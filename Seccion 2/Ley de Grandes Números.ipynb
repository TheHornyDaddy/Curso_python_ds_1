{
 "cells": [
  {
   "cell_type": "code",
   "execution_count": 3,
   "metadata": {},
   "outputs": [
    {
     "name": "stdout",
     "output_type": "stream",
     "text": [
      "0.68\n"
     ]
    }
   ],
   "source": [
    "import numpy as np\n",
    "from numpy.random import randn\n",
    "N = 100                         # especifica el tamaño de la muestra\n",
    "contador = 0                    # reinicia el contador\n",
    "for i in randn(N):              # itera sobre valores aleatorios\n",
    "    if(i >= -1 and i <= 1):     # revisa dónde cae la variable de la iteración\n",
    "        contador = contador + 1 # incrementa el contador en una unidad si se cumple la ocndición\n",
    "respuesta = contador / N        # calcula el ratio de aciertos\n",
    "print(respuesta)                # imprime la respuesta"
   ]
  },
  {
   "cell_type": "markdown",
   "metadata": {},
   "source": [
    "---"
   ]
  },
  {
   "cell_type": "code",
   "execution_count": 4,
   "metadata": {},
   "outputs": [
    {
     "name": "stdout",
     "output_type": "stream",
     "text": [
      "0.698\n"
     ]
    }
   ],
   "source": [
    "import numpy as np\n",
    "from numpy.random import randn\n",
    "N = 1000                         \n",
    "contador = 0                    \n",
    "for i in range(N): \n",
    "    x=randn()     \n",
    "    if(x >= -1 and x <= 1):     \n",
    "        contador = contador + 1 \n",
    "respuesta = contador / N        \n",
    "print(respuesta)"
   ]
  },
  {
   "cell_type": "code",
   "execution_count": 5,
   "metadata": {},
   "outputs": [
    {
     "data": {
      "text/plain": [
       "array([ 0.60486164,  1.79625405, -1.57238534, -0.49502876, -0.30182836,\n",
       "        1.88930543,  1.91764381,  1.88153474,  1.35330579, -0.61256443,\n",
       "        0.40238928,  0.74222183, -1.9678983 ,  0.0347017 ,  0.48307531,\n",
       "       -1.52485062,  1.15296365, -1.54325298,  0.14300092, -0.73061664,\n",
       "        0.41095559, -1.19909631, -0.12114486,  0.35760374, -0.13931029,\n",
       "        0.21218282, -1.09818184, -0.45314683, -0.98499562,  0.04137416,\n",
       "        0.03421304,  0.24348477,  0.16867341,  1.6307166 , -0.29385773,\n",
       "       -0.52871597, -0.16982234, -0.2155297 ,  0.20649962, -1.37387728,\n",
       "       -0.20124521,  0.95221187,  0.52730841,  0.51677504,  1.02045127,\n",
       "       -0.44756832, -0.19771854, -0.95589525, -2.0236293 ,  2.37401283,\n",
       "       -1.23141005, -0.75714501, -1.49233509,  0.05042422,  1.5392157 ,\n",
       "       -0.1341884 , -0.36159706,  1.15940897, -0.8395831 , -0.14840206,\n",
       "        0.29703012, -0.74227704, -0.55935942,  0.05317311,  0.22152945,\n",
       "       -0.23600872,  1.02868453, -0.42177433,  1.29827128, -0.19977478,\n",
       "        0.54681068, -2.71884722,  0.01891648,  0.48304508,  1.83163282,\n",
       "        0.33711819,  0.96342311, -3.07607203, -0.05871268, -0.59567394,\n",
       "        0.8555348 ,  0.36774096,  0.45774791,  0.57324931, -1.26477186,\n",
       "       -0.27910655, -0.01744552, -1.06123136,  0.70941897, -2.00930212,\n",
       "        0.25957699,  0.55741302,  0.78198137,  0.04761314,  0.38610727,\n",
       "        0.42282001, -1.03489007,  1.47306479, -0.237291  , -0.52608627])"
      ]
     },
     "execution_count": 5,
     "metadata": {},
     "output_type": "execute_result"
    }
   ],
   "source": [
    "randn(100)"
   ]
  },
  {
   "cell_type": "code",
   "execution_count": 6,
   "metadata": {},
   "outputs": [
    {
     "name": "stdout",
     "output_type": "stream",
     "text": [
      "Hola -0.2074928275966755\n",
      "Hola 0.11541168112262158\n",
      "Hola 0.10121191372736832\n",
      "Hola -0.0914852761824942\n",
      "Hola -0.19405248568570954\n",
      "Hola 1.5415455526675574\n",
      "Hola -1.5121180279459943\n",
      "Hola 0.7192884848514597\n",
      "Hola -2.7430050863205446\n",
      "Hola 0.47587945348734895\n"
     ]
    }
   ],
   "source": [
    "for i in randn(10):\n",
    "    print(\"Hola\" , i)"
   ]
  },
  {
   "cell_type": "code",
   "execution_count": null,
   "metadata": {},
   "outputs": [],
   "source": []
  }
 ],
 "metadata": {
  "kernelspec": {
   "display_name": "Python 3",
   "language": "python",
   "name": "python3"
  },
  "language_info": {
   "codemirror_mode": {
    "name": "ipython",
    "version": 3
   },
   "file_extension": ".py",
   "mimetype": "text/x-python",
   "name": "python",
   "nbconvert_exporter": "python",
   "pygments_lexer": "ipython3",
   "version": "3.7.6"
  }
 },
 "nbformat": 4,
 "nbformat_minor": 4
}
