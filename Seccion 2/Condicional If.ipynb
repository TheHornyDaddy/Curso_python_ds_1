{
 "cells": [
  {
   "cell_type": "code",
   "execution_count": 1,
   "metadata": {},
   "outputs": [],
   "source": [
    "# ---- -2 ---- -1 ---- 0 ---- 1 ---- 2"
   ]
  },
  {
   "cell_type": "code",
   "execution_count": 2,
   "metadata": {},
   "outputs": [],
   "source": [
    "import numpy as np\n",
    "from numpy.random import randn"
   ]
  },
  {
   "cell_type": "code",
   "execution_count": 26,
   "metadata": {},
   "outputs": [
    {
     "data": {
      "text/plain": [
       "0.5780733550226879"
      ]
     },
     "execution_count": 26,
     "metadata": {},
     "output_type": "execute_result"
    }
   ],
   "source": [
    "randn() # Se toma de una distribución normal con media en cero y desviación en uno\n"
   ]
  },
  {
   "cell_type": "code",
   "execution_count": 66,
   "metadata": {},
   "outputs": [
    {
     "name": "stdout",
     "output_type": "stream",
     "text": [
      "2.29086768000087\n",
      "Mayor que 2\n"
     ]
    }
   ],
   "source": [
    "# ---- -2 ---- -1 ---- 0 ---- 1 ---- 2\n",
    "x = randn()\n",
    "if x > 2:\n",
    "    respuesta = \"Mayor que 2\"\n",
    "print(x)\n",
    "print(respuesta)\n",
    "# Como se ejecutó varias veces, se almacenó la variable respuesta a pesar de que x ya no cumpliera la confdición"
   ]
  },
  {
   "cell_type": "code",
   "execution_count": 68,
   "metadata": {},
   "outputs": [
    {
     "name": "stdout",
     "output_type": "stream",
     "text": [
      "0.23422424457126734\n",
      "None\n"
     ]
    }
   ],
   "source": [
    "x = randn()\n",
    "respuesta=None\n",
    "if x > 1:\n",
    "    respuesta = \"Mayor que 1\"\n",
    "print(x)\n",
    "print(respuesta)"
   ]
  },
  {
   "cell_type": "code",
   "execution_count": 69,
   "metadata": {},
   "outputs": [
    {
     "name": "stdout",
     "output_type": "stream",
     "text": [
      "-0.18808793218834258\n",
      "Menor que 1\n"
     ]
    }
   ],
   "source": [
    "x = randn()\n",
    "respuesta=None\n",
    "if x > 1:\n",
    "    respuesta = \"Mayor que 1\"\n",
    "else:\n",
    "    respuesta = \"Menor que 1\"\n",
    "print(x)\n",
    "print(respuesta)"
   ]
  },
  {
   "cell_type": "code",
   "execution_count": 71,
   "metadata": {},
   "outputs": [
    {
     "name": "stdout",
     "output_type": "stream",
     "text": [
      "-0.9594801879087193\n",
      "Entre -1 y 1\n"
     ]
    }
   ],
   "source": [
    "# Condicionales Anidados\n",
    "# ---- -2 ---- -1 ---- 0 ---- 1 ---- 2\n",
    "x = randn()\n",
    "respuesta=None\n",
    "if x > 1:\n",
    "    respuesta = \"Mayor que 1\"\n",
    "else:\n",
    "    if x > -1:\n",
    "        respuesta = \"Entre -1 y 1\"\n",
    "    else:\n",
    "        respuesta = \"Menor que -1\"\n",
    "print(x)\n",
    "print(respuesta)"
   ]
  },
  {
   "cell_type": "code",
   "execution_count": 78,
   "metadata": {},
   "outputs": [
    {
     "name": "stdout",
     "output_type": "stream",
     "text": [
      "0.15398267640604676\n",
      "Entre -1 y 1\n"
     ]
    }
   ],
   "source": [
    "# Condicionales Encadenados\n",
    "# ---- -2 ---- -1 ---- 0 ---- 1 ---- 2\n",
    "x = randn()\n",
    "respuesta=None\n",
    "if x > 1:\n",
    "    respuesta = \"Mayor que 1\"\n",
    "elif x > -1:\n",
    "    respuesta = \"Entre -1 y 1\"\n",
    "else:\n",
    "    respuesta = \"Menor que -1\"\n",
    "print(x)\n",
    "print(respuesta)"
   ]
  },
  {
   "cell_type": "markdown",
   "metadata": {},
   "source": [
    "---"
   ]
  },
  {
   "cell_type": "code",
   "execution_count": 79,
   "metadata": {},
   "outputs": [
    {
     "name": "stdout",
     "output_type": "stream",
     "text": [
      "Holaaa\n",
      "-1.2508022478707808\n",
      "Menor que -1\n"
     ]
    }
   ],
   "source": [
    "# Identación en Python\n",
    "# ---- -2 ---- -1 ---- 0 ---- 1 ---- 2\n",
    "x = randn()\n",
    "respuesta=None\n",
    "if x > 1:\n",
    "    respuesta = \"Mayor que 1\"\n",
    "elif x > -1:\n",
    "    respuesta = \"Entre -1 y 1\"\n",
    "else:\n",
    "    respuesta = \"Menor que -1\"\n",
    "print(\"Holaaa\")\n",
    "print(x)\n",
    "print(respuesta)"
   ]
  },
  {
   "cell_type": "code",
   "execution_count": 80,
   "metadata": {},
   "outputs": [
    {
     "name": "stdout",
     "output_type": "stream",
     "text": [
      "1.1907150560295157\n",
      "Mayor que 1\n"
     ]
    }
   ],
   "source": [
    "# Condicionales Encadenados\n",
    "# ---- -2 ---- -1 ---- 0 ---- 1 ---- 2\n",
    "x = randn()\n",
    "respuesta=None\n",
    "if x > 1:\n",
    "    respuesta = \"Mayor que 1\"\n",
    "elif x > -1:\n",
    "    respuesta = \"Entre -1 y 1\"\n",
    "    print(\"OoOoOo\")\n",
    "else:\n",
    "    respuesta = \"Menor que -1\"\n",
    "print(x)\n",
    "print(respuesta)"
   ]
  }
 ],
 "metadata": {
  "kernelspec": {
   "display_name": "Python 3",
   "language": "python",
   "name": "python3"
  },
  "language_info": {
   "codemirror_mode": {
    "name": "ipython",
    "version": 3
   },
   "file_extension": ".py",
   "mimetype": "text/x-python",
   "name": "python",
   "nbconvert_exporter": "python",
   "pygments_lexer": "ipython3",
   "version": "3.7.6"
  }
 },
 "nbformat": 4,
 "nbformat_minor": 4
}
